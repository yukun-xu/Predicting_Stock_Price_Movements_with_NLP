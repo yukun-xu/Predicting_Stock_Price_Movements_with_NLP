{
 "cells": [
  {
   "cell_type": "code",
   "execution_count": 1,
   "metadata": {},
   "outputs": [
    {
     "name": "stdout",
     "output_type": "stream",
     "text": [
      "[nltk_data] Downloading package stopwords to\n",
      "[nltk_data]     /Users/yunkunxu/nltk_data...\n",
      "[nltk_data]   Package stopwords is already up-to-date!\n",
      "[nltk_data] Downloading package punkt to /Users/yunkunxu/nltk_data...\n",
      "[nltk_data]   Package punkt is already up-to-date!\n",
      "[nltk_data] Downloading package averaged_perceptron_tagger to\n",
      "[nltk_data]     /Users/yunkunxu/nltk_data...\n",
      "[nltk_data]   Package averaged_perceptron_tagger is already up-to-\n",
      "[nltk_data]       date!\n"
     ]
    },
    {
     "data": {
      "text/plain": [
       "True"
      ]
     },
     "execution_count": 1,
     "metadata": {},
     "output_type": "execute_result"
    }
   ],
   "source": [
    "import numpy as np\n",
    "import pandas as pd\n",
    "import matplotlib.pyplot as plt\n",
    "import os\n",
    "import urllib.request\n",
    "import csv\n",
    "from bs4 import BeautifulSoup\n",
    "import locale\n",
    "from datetime import datetime\n",
    "import pandas as pd\n",
    "from sklearn.utils import shuffle\n",
    "from pandas_datareader import data as web\n",
    "from sklearn.feature_extraction.text import CountVectorizer\n",
    "from sklearn.feature_extraction.text import TfidfTransformer\n",
    "from sklearn.pipeline import Pipeline\n",
    "from sklearn.linear_model import LogisticRegression\n",
    "from sklearn.svm import SVC, LinearSVC\n",
    "from sklearn.naive_bayes import MultinomialNB\n",
    "from sklearn.metrics import accuracy_score, f1_score, confusion_matrix\n",
    "import nltk\n",
    "from nltk.corpus import stopwords\n",
    "from nltk.tokenize import TweetTokenizer\n",
    "import re\n",
    "import string\n",
    "from tqdm import tqdm\n",
    "nltk.download('stopwords')\n",
    "nltk.download('punkt')\n",
    "nltk.download('averaged_perceptron_tagger')"
   ]
  },
  {
   "cell_type": "code",
   "execution_count": 2,
   "metadata": {
    "collapsed": true
   },
   "outputs": [],
   "source": [
    "def GetStockPrice(stock, startDate, endDate, method):\n",
    "    if method == 0:\n",
    "        Stockdf = web.DataReader(stock, 'yahoo', startDate, endDate)\n",
    "        SPX = web.DataReader('^GSPC', 'yahoo', startDate, endDate)\n",
    "        AdjClosedf = pd.DataFrame(Stockdf['Adj Close'].pct_change() - SPX['Adj Close'].pct_change())\n",
    "        AdjClosedf.loc[:,'Label'] = (AdjClosedf['Adj Close']>0.003).astype(int) - (AdjClosedf['Adj Close']< -0.003).astype(int)\n",
    "\n",
    "    else:\n",
    "        page = urllib.request.urlopen('https://finance.yahoo.com/quote/'+stock+'/history?period1=1474095600&period2=1504249200&interval=1d&filter=history&frequency=1d').read()\n",
    "        soup = BeautifulSoup(page, 'html5lib')\n",
    "        snap = soup.find(\"table\", class_=\"W(100%) M(0)\")\n",
    "        snap_body = snap.find('tbody')\n",
    "        rows = snap_body.find_all('tr')\n",
    "\n",
    "        #print \"Number of data: %d\\n\" % (len(rows))\n",
    "        Datelist = []\n",
    "        AdjCloselist = []\n",
    "\n",
    "        for element in rows:\n",
    "            s = element.find_all(\"span\")\n",
    "            if len(s) == 7:\n",
    "                Datelist.append(datetime.strptime(s[0].get_text(), '%b %d, %Y'))\n",
    "                AdjCloselist.append(locale.atof(s[5].get_text().replace(',','')))\n",
    "\n",
    "        AdjClosedf = pd.DataFrame(AdjCloselist,columns=[stock],index = Datelist)\n",
    "        #print(AdjClosedf.columns)\n",
    "        AdjClosedf = AdjClosedf.sort_index()\n",
    "        AdjClosedf.rename(columns={stock: 'Adj Close'}, inplace=True)\n",
    "        AdjClosedf.loc[:,'Label'] = (AdjClosedf['Adj Close'].pct_change()>0).astype(int)\n",
    "        \n",
    "    return AdjClosedf"
   ]
  },
  {
   "cell_type": "code",
   "execution_count": 3,
   "metadata": {
    "collapsed": true
   },
   "outputs": [],
   "source": [
    "def GetStockNews(stock, TopN, DateRange):\n",
    "    data = {}\n",
    "    for ndate in tqdm(DateRange):\n",
    "        data[ndate] = []\n",
    "        #print ndate.strftime('%Y-%m-%d')\n",
    "        startdate = ndate.strftime('%Y-%m-%d')\n",
    "        enddate = startdate\n",
    "        page = urllib.request.urlopen('https://finance.google.com/finance/company_news?q=NASDAQ%3A'+stock+\n",
    "                                      '&startdate='+startdate+'&enddate='+enddate).read()\n",
    "        soup= BeautifulSoup(page, 'html5lib')\n",
    "        news = soup.find_all(\"div\", class_=\"g-section news sfe-break-bottom-16\")\n",
    "        #print (\"Number of news: %d\\n\" % (len(news)))\n",
    "        data[ndate].append(stock)\n",
    "        for element in news[:TopN]:\n",
    "            t = element.find_all(\"span\", class_=\"name\")[0].get_text().replace('\\xa0',' ').replace('\\n','')#.encode('utf-8')\n",
    "            #print t \n",
    "            data[ndate].append(t)\n",
    "        for i in range(0,TopN - len(news),1):\n",
    "            data[ndate].append('')\n",
    "    df = pd.DataFrame().from_dict(data).T\n",
    "    return df"
   ]
  },
  {
   "cell_type": "code",
   "execution_count": 5,
   "metadata": {},
   "outputs": [
    {
     "name": "stderr",
     "output_type": "stream",
     "text": [
      "100%|██████████| 692/692 [07:05<00:00,  1.22s/it]\n"
     ]
    }
   ],
   "source": [
    "stock = 'GOOG'\n",
    "start = '2015-01-01'\n",
    "end = '2017-09-30'\n",
    "TopN = 10\n",
    "AdjClosedf = GetStockPrice(stock,start,end,method=0)\n",
    "DateRange = AdjClosedf.index\n",
    "newsdf = GetStockNews(stock, TopN, DateRange)\n",
    "datadf = pd.concat([AdjClosedf.loc[:,'Label'],newsdf],axis = 1)\n",
    "datadf.to_csv(stock+'.csv',encoding= 'utf-8')"
   ]
  },
  {
   "cell_type": "markdown",
   "metadata": {},
   "source": [
    "### Data Processing"
   ]
  },
  {
   "cell_type": "code",
   "execution_count": 4,
   "metadata": {
    "collapsed": true
   },
   "outputs": [],
   "source": [
    "def FilterSentence(headline):\n",
    "    tknzr = TweetTokenizer(strip_handles=True, reduce_len=True)\n",
    "    headline = headline.lower().encode('utf-8').decode('ascii','ignore')\n",
    "    sentence = tknzr.tokenize(headline)\n",
    "    sent = nltk.pos_tag(sentence)\n",
    "    tempfiltered_words = [s[0] for s in sent if s[1][0] in ['J','V','N']]\n",
    "    stops = set(stopwords.words(\"english\"))\n",
    "    exclude = set(string.punctuation+'‘’“”0123456789')\n",
    "    filtered_words = ' '.join(word.lower() for word in tempfiltered_words if (word not in stops) and (word not in exclude))\n",
    "    filtered_words = re.sub(r'[^\\w\\s]', '', filtered_words)\n",
    "    filtered_words = re.sub(r'\\d+', '', filtered_words)\n",
    "    filtered_words = re.sub(r'(.)\\1{2,}', r'\\1'*2, filtered_words)\n",
    "    return filtered_words"
   ]
  },
  {
   "cell_type": "code",
   "execution_count": 26,
   "metadata": {},
   "outputs": [
    {
     "data": {
      "text/html": [
       "<div>\n",
       "<style>\n",
       "    .dataframe thead tr:only-child th {\n",
       "        text-align: right;\n",
       "    }\n",
       "\n",
       "    .dataframe thead th {\n",
       "        text-align: left;\n",
       "    }\n",
       "\n",
       "    .dataframe tbody tr th {\n",
       "        vertical-align: top;\n",
       "    }\n",
       "</style>\n",
       "<table border=\"1\" class=\"dataframe\">\n",
       "  <thead>\n",
       "    <tr style=\"text-align: right;\">\n",
       "      <th></th>\n",
       "      <th>Headlines</th>\n",
       "      <th>Label</th>\n",
       "    </tr>\n",
       "    <tr>\n",
       "      <th>Date</th>\n",
       "      <th></th>\n",
       "      <th></th>\n",
       "    </tr>\n",
       "  </thead>\n",
       "  <tbody>\n",
       "    <tr>\n",
       "      <th>2015-01-05</th>\n",
       "      <td>Microsoft Corporation Is About to Abandon Inte...</td>\n",
       "      <td>0</td>\n",
       "    </tr>\n",
       "    <tr>\n",
       "      <th>2015-01-06</th>\n",
       "      <td>Learning Matters: Failure Can Lead to Success ...</td>\n",
       "      <td>-1</td>\n",
       "    </tr>\n",
       "    <tr>\n",
       "      <th>2015-01-07</th>\n",
       "      <td>Why It's Time For Google To Pay A Dividend 1 T...</td>\n",
       "      <td>-1</td>\n",
       "    </tr>\n",
       "    <tr>\n",
       "      <th>2015-01-08</th>\n",
       "      <td>Myth-Busting Netflix Inc.'s Rumored VPN Crackd...</td>\n",
       "      <td>-1</td>\n",
       "    </tr>\n",
       "    <tr>\n",
       "      <th>2015-01-09</th>\n",
       "      <td>Google Inc's Smart Home Strategy Taking Shape ...</td>\n",
       "      <td>-1</td>\n",
       "    </tr>\n",
       "  </tbody>\n",
       "</table>\n",
       "</div>"
      ],
      "text/plain": [
       "                                                    Headlines  Label\n",
       "Date                                                                \n",
       "2015-01-05  Microsoft Corporation Is About to Abandon Inte...      0\n",
       "2015-01-06  Learning Matters: Failure Can Lead to Success ...     -1\n",
       "2015-01-07  Why It's Time For Google To Pay A Dividend 1 T...     -1\n",
       "2015-01-08  Myth-Busting Netflix Inc.'s Rumored VPN Crackd...     -1\n",
       "2015-01-09  Google Inc's Smart Home Strategy Taking Shape ...     -1"
      ]
     },
     "execution_count": 26,
     "metadata": {},
     "output_type": "execute_result"
    }
   ],
   "source": [
    "datadf = pd.read_csv('GOOG.csv')\n",
    "datadf.index = datadf['Date']\n",
    "datadf = datadf.drop(['Date'],axis=1)\n",
    "datadf.iloc[:,1:] = datadf.iloc[:,1:].astype(str)\n",
    "dataset = pd.DataFrame()\n",
    "dataset['Headlines'] = datadf.iloc[:-1,2]+' '+ datadf.iloc[:-1,3]+' '+ datadf.iloc[:-1,4]+' '+ datadf.iloc[:-1,5]+' '+ datadf.iloc[:-1,6]+' '+ datadf.iloc[:-1,7]+' '+ datadf.iloc[:-1,8]+' '+ datadf.iloc[:-1,9]+' '+ datadf.iloc[:-1,10]+' '+ datadf.iloc[:-1,11]\n",
    "dataset.index = datadf.index[1:]\n",
    "dataset['Label'] = datadf['Label'].iloc[1:]\n",
    "dataset.head()"
   ]
  },
  {
   "cell_type": "code",
   "execution_count": 27,
   "metadata": {},
   "outputs": [
    {
     "name": "stdout",
     "output_type": "stream",
     "text": [
      "Number of stock prices collected: 691\n",
      "Number of missing news: 0\n",
      "Number of missing news after cleaning: 0\n",
      "Number of news collected: 691\n"
     ]
    }
   ],
   "source": [
    "print('Number of stock prices collected:', len(dataset))\n",
    "print('Number of missing news:', dataset.isnull().values.sum())\n",
    "data = dataset.dropna(axis=0, how='any')\n",
    "print('Number of missing news after cleaning:', data.isnull().values.sum())\n",
    "print('Number of news collected:', len(data))"
   ]
  },
  {
   "cell_type": "code",
   "execution_count": 28,
   "metadata": {},
   "outputs": [
    {
     "data": {
      "text/html": [
       "<div>\n",
       "<style>\n",
       "    .dataframe thead tr:only-child th {\n",
       "        text-align: right;\n",
       "    }\n",
       "\n",
       "    .dataframe thead th {\n",
       "        text-align: left;\n",
       "    }\n",
       "\n",
       "    .dataframe tbody tr th {\n",
       "        vertical-align: top;\n",
       "    }\n",
       "</style>\n",
       "<table border=\"1\" class=\"dataframe\">\n",
       "  <thead>\n",
       "    <tr style=\"text-align: right;\">\n",
       "      <th></th>\n",
       "      <th>Headlines</th>\n",
       "      <th>Label</th>\n",
       "    </tr>\n",
       "    <tr>\n",
       "      <th>Date</th>\n",
       "      <th></th>\n",
       "      <th></th>\n",
       "    </tr>\n",
       "  </thead>\n",
       "  <tbody>\n",
       "    <tr>\n",
       "      <th>2015-01-05</th>\n",
       "      <td>microsoft corporation abandon internet explore...</td>\n",
       "      <td>0</td>\n",
       "    </tr>\n",
       "    <tr>\n",
       "      <th>2015-01-06</th>\n",
       "      <td>learning matters failure lead success wear vir...</td>\n",
       "      <td>-1</td>\n",
       "    </tr>\n",
       "    <tr>\n",
       "      <th>2015-01-07</th>\n",
       "      <td>its time google pay dividend trend worry inc i...</td>\n",
       "      <td>-1</td>\n",
       "    </tr>\n",
       "    <tr>\n",
       "      <th>2015-01-08</th>\n",
       "      <td>mythbusting netflix inc rumored vpn crackdown ...</td>\n",
       "      <td>-1</td>\n",
       "    </tr>\n",
       "    <tr>\n",
       "      <th>2015-01-09</th>\n",
       "      <td>google incs smart home strategy taking shape s...</td>\n",
       "      <td>-1</td>\n",
       "    </tr>\n",
       "  </tbody>\n",
       "</table>\n",
       "</div>"
      ],
      "text/plain": [
       "                                                    Headlines  Label\n",
       "Date                                                                \n",
       "2015-01-05  microsoft corporation abandon internet explore...      0\n",
       "2015-01-06  learning matters failure lead success wear vir...     -1\n",
       "2015-01-07  its time google pay dividend trend worry inc i...     -1\n",
       "2015-01-08  mythbusting netflix inc rumored vpn crackdown ...     -1\n",
       "2015-01-09  google incs smart home strategy taking shape s...     -1"
      ]
     },
     "execution_count": 28,
     "metadata": {},
     "output_type": "execute_result"
    }
   ],
   "source": [
    "data['Headlines'] = data['Headlines'].apply(FilterSentence)\n",
    "data.head()"
   ]
  },
  {
   "cell_type": "code",
   "execution_count": 29,
   "metadata": {},
   "outputs": [
    {
     "name": "stdout",
     "output_type": "stream",
     "text": [
      "         frequency\n",
      "count  9219.000000\n",
      "mean      4.409047\n",
      "std      20.497423\n",
      "min       1.000000\n",
      "25%       1.000000\n",
      "50%       1.000000\n",
      "75%       3.000000\n",
      "max    1084.000000\n"
     ]
    },
    {
     "data": {
      "text/html": [
       "<div>\n",
       "<style>\n",
       "    .dataframe thead tr:only-child th {\n",
       "        text-align: right;\n",
       "    }\n",
       "\n",
       "    .dataframe thead th {\n",
       "        text-align: left;\n",
       "    }\n",
       "\n",
       "    .dataframe tbody tr th {\n",
       "        vertical-align: top;\n",
       "    }\n",
       "</style>\n",
       "<table border=\"1\" class=\"dataframe\">\n",
       "  <thead>\n",
       "    <tr style=\"text-align: right;\">\n",
       "      <th></th>\n",
       "      <th>frequency</th>\n",
       "    </tr>\n",
       "  </thead>\n",
       "  <tbody>\n",
       "    <tr>\n",
       "      <th>aa</th>\n",
       "      <td>5</td>\n",
       "    </tr>\n",
       "    <tr>\n",
       "      <th>aac</th>\n",
       "      <td>1</td>\n",
       "    </tr>\n",
       "    <tr>\n",
       "      <th>aadhar</th>\n",
       "      <td>1</td>\n",
       "    </tr>\n",
       "    <tr>\n",
       "      <th>aapl</th>\n",
       "      <td>147</td>\n",
       "    </tr>\n",
       "    <tr>\n",
       "      <th>aaplus</th>\n",
       "      <td>1</td>\n",
       "    </tr>\n",
       "  </tbody>\n",
       "</table>\n",
       "</div>"
      ],
      "text/plain": [
       "        frequency\n",
       "aa              5\n",
       "aac             1\n",
       "aadhar          1\n",
       "aapl          147\n",
       "aaplus          1"
      ]
     },
     "execution_count": 29,
     "metadata": {},
     "output_type": "execute_result"
    }
   ],
   "source": [
    "word_vectorizer = CountVectorizer(analyzer='word', stop_words='english')\n",
    "sparse_matrix = word_vectorizer.fit_transform(data['Headlines'])\n",
    "frequencies = sum(sparse_matrix).toarray()[0]\n",
    "words = pd.DataFrame(frequencies, index=word_vectorizer.get_feature_names(), columns=['frequency'])\n",
    "print(words.describe())\n",
    "words.head()"
   ]
  },
  {
   "cell_type": "code",
   "execution_count": 30,
   "metadata": {},
   "outputs": [
    {
     "name": "stdout",
     "output_type": "stream",
     "text": [
      "         frequency\n",
      "count  3962.000000\n",
      "mean      8.924785\n",
      "std      30.691671\n",
      "min       2.000000\n",
      "25%       2.000000\n",
      "50%       3.000000\n",
      "75%       7.000000\n",
      "max    1084.000000\n"
     ]
    },
    {
     "data": {
      "text/html": [
       "<div>\n",
       "<style>\n",
       "    .dataframe thead tr:only-child th {\n",
       "        text-align: right;\n",
       "    }\n",
       "\n",
       "    .dataframe thead th {\n",
       "        text-align: left;\n",
       "    }\n",
       "\n",
       "    .dataframe tbody tr th {\n",
       "        vertical-align: top;\n",
       "    }\n",
       "</style>\n",
       "<table border=\"1\" class=\"dataframe\">\n",
       "  <thead>\n",
       "    <tr style=\"text-align: right;\">\n",
       "      <th></th>\n",
       "      <th>frequency</th>\n",
       "    </tr>\n",
       "  </thead>\n",
       "  <tbody>\n",
       "    <tr>\n",
       "      <th>aa</th>\n",
       "      <td>5</td>\n",
       "    </tr>\n",
       "    <tr>\n",
       "      <th>aapl</th>\n",
       "      <td>147</td>\n",
       "    </tr>\n",
       "    <tr>\n",
       "      <th>abandons</th>\n",
       "      <td>2</td>\n",
       "    </tr>\n",
       "    <tr>\n",
       "      <th>abat</th>\n",
       "      <td>2</td>\n",
       "    </tr>\n",
       "    <tr>\n",
       "      <th>abbvie</th>\n",
       "      <td>2</td>\n",
       "    </tr>\n",
       "  </tbody>\n",
       "</table>\n",
       "</div>"
      ],
      "text/plain": [
       "          frequency\n",
       "aa                5\n",
       "aapl            147\n",
       "abandons          2\n",
       "abat              2\n",
       "abbvie            2"
      ]
     },
     "execution_count": 30,
     "metadata": {},
     "output_type": "execute_result"
    }
   ],
   "source": [
    "word_vectorizer = CountVectorizer(analyzer='word', stop_words='english',min_df=2, max_df=3000)\n",
    "sparse_matrix = word_vectorizer.fit_transform(data['Headlines'])\n",
    "frequencies = sum(sparse_matrix).toarray()[0]\n",
    "words = pd.DataFrame(frequencies, index=word_vectorizer.get_feature_names(), columns=['frequency'])\n",
    "print(words.describe())\n",
    "words.head()\n"
   ]
  },
  {
   "cell_type": "code",
   "execution_count": 31,
   "metadata": {
    "collapsed": true
   },
   "outputs": [],
   "source": [
    "del words\n",
    "\n",
    "def print_top_words(model, feature_names, n_top_words):\n",
    "    for topic_idx, topic in enumerate(model.components_):\n",
    "        message = \"Topic #%d: \" % topic_idx\n",
    "        message += \" \".join([feature_names[i]\n",
    "                             for i in topic.argsort()[:-n_top_words - 1:-1]])\n",
    "        print(message)\n",
    "    print()\n"
   ]
  },
  {
   "cell_type": "code",
   "execution_count": 32,
   "metadata": {},
   "outputs": [
    {
     "name": "stdout",
     "output_type": "stream",
     "text": [
      "['aa', 'aapl', 'abandons', 'abat', 'abbvie', 'abc', 'abcs', 'accelerate', 'accelerated', 'accelerates', 'accepts', 'access', 'accident', 'according', 'accounting', 'accounts', 'accusations', 'accused', 'accuses', 'acquire', 'acquired', 'acquires', 'acquiring', 'acquisition', 'acquisitions', 'act', 'action', 'active', 'activision', 'activist', 'activists', 'activity', 'actual', 'ad', 'adam', 'adblocking', 'add', 'adding', 'additions', 'addresses', 'adds', 'administration', 'admits', 'adobe', 'adoption', 'adr', 'adrian', 'ads', 'adsense', 'advance', 'advanced', 'advances', 'advantage', 'advantages', 'adventure', 'advertiser', 'advertisers', 'advertising', 'advice', 'adviser', 'advisers', 'advisor', 'advisory', 'advocating', 'adwords', 'affect', 'afraid', 'africa', 'ag', 'age', 'agency', 'agreement', 'agrees', 'agthx', 'ai', 'aid', 'aim', 'aims', 'aipowered', 'air', 'airbnb', 'airbus', 'aircraft', 'airg', 'airgain', 'airport', 'akam', 'akamai', 'alert', 'alexa', 'algorithm', 'alibaba', 'alibabas', 'allegations', 'alleged', 'alleges', 'alleging', 'allelectric', 'allen', 'alliance', 'allo', 'allow', 'allows', 'alltime', 'ally', 'alpha', 'alphabet', 'alphabets', 'alphago', 'als', 'alter', 'altera', 'alternative', 'alternatives', 'altria', 'amazing', 'amazon', 'amazoncom', 'amazons', 'amba', 'ambarella', 'ambitions', 'ambitious', 'amd', 'america', 'american', 'americans', 'americas', 'amp', 'amzn', 'analysis', 'analyst', 'analysts', 'analytics', 'ancient', 'andreas', 'andreessen', 'android', 'androids', 'andromeda', 'andy', 'angeles', 'announce', 'announces', 'annual', 'answer', 'answers', 'antarctic', 'antiaging', 'antidiversity', 'antitrust', 'antonio', 'anxiety', 'anybody', 'aol', 'api', 'apollo', 'app', 'appaloosa', 'apparel', 'appeal', 'appeals', 'appear', 'appears', 'appinstall', 'apple', 'apples', 'applesamsung', 'appliances', 'applications', 'appoints', 'approach', 'approaches', 'approval', 'approved', 'approves', 'apps', 'april', 'apron', 'ar', 'ara', 'arctic', 'area', 'areas', 'arent', 'arizona', 'arjuna', 'arm', 'armour', 'arms', 'army', 'arrest', 'arrested', 'arris', 'arrives', 'art', 'articles', 'artificial', 'artificialintelligence', 'artist', 'artists', 'asia', 'asian', 'ask', 'asks', 'asset', 'assets', 'assistant', 'assistants', 'association', 'athletica', 'atlantic', 'atlassian', 'attack', 'attacks', 'attempt', 'attend', 'attention', 'attorney', 'attractive', 'attracts', 'atvi', 'auction', 'audience', 'audio', 'aug', 'augmented', 'august', 'australia', 'australian', 'author', 'authorities', 'autism', 'auto', 'automakers', 'automation', 'automotive', 'autonomous', 'autopilot', 'available', 'avenue', 'average', 'aviation', 'avis', 'avoid', 'await', 'awards', 'awareness', 'awful', 'aws', 'ba', 'baba', 'baby', 'bac', 'backed', 'backing', 'backs', 'bad', 'bag', 'bags', 'baidu', 'baidus', 'bail', 'bain', 'baker', 'balance', 'balanced', 'balloon', 'balloons', 'ban', 'band', 'bang', 'bank', 'banks', 'banned', 'bans', 'bar', 'bargain', 'barrier', 'barrons', 'barz', 'base', 'based', 'basic', 'basics', 'batteries', 'battery', 'battle', 'battles', 'bay', 'bb', 'bbry', 'bc', 'bce', 'beach', 'beacons', 'beam', 'bear', 'bearish', 'bears', 'beat', 'beatendown', 'beating', 'beats', 'beautiful', 'beauty', 'beef', 'begin', 'beginning', 'begins', 'believe', 'believes', 'bell', 'bella', 'belt', 'ben', 'benchmark', 'benefit', 'benefits', 'berkshire', 'bernie', 'best', 'bet', 'beta', 'bets', 'better', 'betting', 'beware', 'bezos', 'biblical', 'bid', 'bidding', 'bidu', 'big', 'bigger', 'biggest', 'billboard', 'billionaire', 'billionaires', 'billiondollar', 'billionplus', 'billions', 'bing', 'bio', 'biomedical', 'bionic', 'bionics', 'biopharma', 'biotech', 'bird', 'birthday', 'bitcoin', 'bite', 'bites', 'biz', 'black', 'blackalicious', 'blackberry', 'blackrock', 'blame', 'blanket', 'blasts', 'blizzard', 'bln', 'block', 'blockchains', 'blockers', 'blocking', 'blog', 'blood', 'bloomberg', 'blow', 'blue', 'bluechip', 'bmw', 'board', 'boast', 'boat', 'boats', 'bob', 'body', 'boeing', 'bold', 'bomber', 'bonanza', 'bond', 'book', 'books', 'boom', 'booming', 'boon', 'boost', 'boosted', 'boosts', 'boring', 'born', 'bosch', 'boss', 'boston', 'bought', 'bounce', 'bowl', 'box', 'boxes', 'boy', 'boycott', 'boys', 'brace', 'braced', 'braces', 'brain', 'brains', 'brake', 'branch', 'brand', 'brands', 'breach', 'breaches', 'break', 'breakdown', 'breaking', 'breakout', 'breaks', 'breakup', 'breath', 'breathing', 'brewing', 'brexit', 'brief', 'bright', 'brilliant', 'brin', 'bring', 'bringing', 'brings', 'britain', 'british', 'brk', 'broadband', 'broader', 'broke', 'broken', 'brokerage', 'bros', 'brothers', 'brought', 'brown', 'browns', 'browsers', 'bruce', 'brutal', 'bubble', 'buck', 'bucks', 'budget', 'buffett', 'buffetts', 'build', 'builder', 'building', 'buildings', 'builds', 'built', 'bull', 'bullish', 'bulls', 'bumpy', 'burning', 'burritos', 'burry', 'burst', 'bus', 'busiest', 'business', 'businesses', 'button', 'buy', 'buyback', 'buybacks', 'buyer', 'buying', 'buyout', 'buys', 'buzz', 'buzzfeed', 'cable', 'cagr', 'calendar', 'calico', 'california', 'called', 'calling', 'calls', 'cam', 'camera', 'campaign', 'campbell', 'campus', 'canada', 'canadas', 'canadian', 'cancer', 'candidate', 'candidates', 'cannabis', 'cannabiz', 'cannes', 'cantillon', 'cap', 'capabilities', 'capital', 'capitalize', 'capitals', 'car', 'carbon', 'card', 'cardboard', 'cards', 'care', 'carecom', 'carey', 'carl', 'carmaker', 'carmakers', 'carnival', 'carolina', 'carplay', 'carpool', 'carrier', 'carriers', 'carry', 'cars', 'case', 'cases', 'cash', 'casino', 'cast', 'cat', 'catalyst', 'catch', 'catching', 'caterpillar', 'caught', 'cause', 'cave', 'cbds', 'cbis', 'ceding', 'celebrity', 'cell', 'cells', 'cellular', 'censorship', 'center', 'centers', 'century', 'ceo', 'ceos', 'certificates', 'ces', 'cfo', 'cfos', 'chairman', 'challenge', 'challenged', 'challenger', 'challenges', 'challenging', 'champion', 'chance', 'chandler', 'change', 'changed', 'changer', 'changes', 'changing', 'channel', 'chaos', 'characters', 'charge', 'charged', 'charges', 'charles', 'chart', 'charter', 'charts', 'chase', 'chat', 'chatbot', 'chats', 'cheap', 'cheaper', 'cheapest', 'cheating', 'check', 'chemicals', 'chennai', 'chest', 'chevy', 'chicago', 'chicken', 'chief', 'chiefs', 'child', 'children', 'childrens', 'china', 'chinas', 'chinese', 'chip', 'chipotle', 'chips', 'chiu', 'choose', 'christmas', 'chrome', 'chromecast', 'chrysler', 'chuck', 'cia', 'cincinnati', 'circle', 'cisco', 'citi', 'cities', 'citigroup', 'citizen', 'citizens', 'citron', 'city', 'claim', 'claims', 'clash', 'class', 'classes', 'classic', 'clean', 'clear', 'clever', 'clicks', 'cliff', 'climate', 'climb', 'clinton', 'close', 'closed', 'closer', 'closes', 'closing', 'clothing', 'cloud', 'club', 'cmo', 'coaster', 'cocacola', 'code', 'cofounder', 'cofounders', 'cohen', 'collaborate', 'collaboration', 'collective', 'college', 'colours', 'columbus', 'combat', 'combo', 'comcast', 'come', 'comeback', 'comes', 'coming', 'comments', 'commerce', 'commercial', 'common', 'communication', 'communications', 'community', 'companies', 'company', 'companys', 'compare', 'comparing', 'comparison', 'compelling', 'compensation', 'compete', 'competing', 'competition', 'competitive', 'competitor', 'competitors', 'complaint', 'complaints', 'complete', 'completes', 'complex', 'complicated', 'computer', 'computers', 'computing', 'conagra', 'concern', 'concerned', 'concerns', 'concert', 'condition', 'conduct', 'conference', 'confident', 'confirm', 'confirms', 'confused', 'congress', 'connect', 'connected', 'cons', 'conservative', 'consider', 'considering', 'considers', 'consortium', 'conspiracy', 'construct', 'consumer', 'consumers', 'contact', 'contenders', 'content', 'continue', 'continues', 'contracts', 'contrafund', 'contrarian', 'control', 'controller', 'controversial', 'conversation', 'cook', 'cookie', 'cookies', 'cool', 'coolest', 'cooper', 'copy', 'copyright', 'cord', 'core', 'corner', 'corp', 'corporate', 'corporation', 'corporations', 'corps', 'correction', 'cortana', 'cost', 'costs', 'counsel', 'count', 'countries', 'country', 'county', 'couple', 'course', 'court', 'cover', 'coverage', 'covered', 'coveted', 'crack', 'crackdown', 'cracked', 'cracking', 'craft', 'craigslist', 'cramer', 'crash', 'crashes', 'crashing', 'cratering', 'crazy', 'create', 'created', 'creates', 'creating', 'creation', 'creative', 'creator', 'creators', 'credit', 'creepy', 'crest', 'crisis', 'criteo', 'critical', 'criticism', 'crm', 'cross', 'crossed', 'crowded', 'crowdfunding', 'crown', 'crucial', 'crunch', 'crush', 'crushes', 'cs', 'csco', 'cto', 'cuba', 'culture', 'cup', 'curb', 'curbing', 'cure', 'curiosity', 'currency', 'customer', 'customers', 'cut', 'cuts', 'cutting', 'cyber', 'cybersecurity', 'cyborg', 'daily', 'daimler', 'damaged', 'damages', 'dan', 'dance', 'dandelion', 'danger', 'dangerous', 'daniel', 'dark', 'darpa', 'dashboard', 'data', 'database', 'datatransfer', 'date', 'dating', 'david', 'dawn', 'day', 'days', 'dead', 'deaf', 'deal', 'dealers', 'deals', 'death', 'deaths', 'debate', 'debt', 'debunking', 'debut', 'debuts', 'decade', 'december', 'decide', 'decision', 'decline', 'declining', 'deep', 'deepening', 'deepens', 'deepmind', 'deepminds', 'defeat', 'defeats', 'defectors', 'defends', 'defensive', 'define', 'degrasse', 'degree', 'delay', 'delayed', 'delays', 'delight', 'deliver', 'deliveries', 'delivering', 'delivers', 'delivery', 'dell', 'delta', 'demand', 'demands', 'demo', 'denies', 'deontay', 'depart', 'department', 'departs', 'deploy', 'deploying', 'deploys', 'deposition', 'depot', 'deserve', 'deserves', 'design', 'designer', 'designers', 'designs', 'destined', 'destroyed', 'details', 'detect', 'detecting', 'detroit', 'deutsche', 'develop', 'developer', 'developers', 'developing', 'development', 'device', 'devices', 'dexcom', 'diabetes', 'diane', 'didnt', 'die', 'dies', 'difference', 'differences', 'different', 'difficult', 'digging', 'digipath', 'digital', 'digs', 'dilemma', 'dip', 'dips', 'director', 'directors', 'directv', 'dis', 'disables', 'disappoint', 'disappointed', 'disappointing', 'disappointment', 'disaster', 'disclose', 'discloses', 'discount', 'discover', 'discrimination', 'discuss', 'disease', 'disney', 'disneys', 'displays', 'dispute', 'disrupt', 'disrupting', 'disruption', 'disruptive', 'dissecting', 'ditch', 'ditches', 'diverse', 'diversification', 'diversified', 'diversity', 'dividend', 'dividends', 'division', 'dna', 'document', 'dodge', 'doesnt', 'dog', 'doghouse', 'dogs', 'dollar', 'dollars', 'domain', 'dominance', 'dominant', 'dominate', 'dominates', 'dominating', 'domination', 'dominos', 'donald', 'dont', 'doomed', 'door', 'doordash', 'doors', 'dorm', 'dorsey', 'dotcom', 'double', 'doubled', 'doubledigit', 'doubles', 'doubling', 'dow', 'downgraded', 'downgrades', 'download', 'downloading', 'downside', 'dozen', 'dpz', 'dr', 'draft', 'drag', 'drama', 'draw', 'dream', 'dreams', 'dress', 'drilling', 'drinks', 'drive', 'driven', 'driver', 'driverless', 'drivers', 'drives', 'drivethru', 'driving', 'drone', 'drones', 'drop', 'dropbox', 'dropped', 'dropping', 'drops', 'drove', 'drug', 'dual', 'dualclass', 'dubai', 'dui', 'dumb', 'dump', 'dumped', 'dumping', 'dumps', 'duo', 'dust', 'dutch', 'dwave', 'dying', 'dynamics', 'ea', 'eagle', 'early', 'earn', 'earned', 'earnings', 'earth', 'ease', 'eases', 'easier', 'east', 'easy', 'eat', 'eating', 'eaton', 'ebay', 'echo', 'ecommerce', 'economic', 'economics', 'economy', 'edge', 'edition', 'education', 'educational', 'edward', 'effect', 'effective', 'effects', 'effort', 'efforts', 'ekso', 'election', 'electric', 'electricity', 'electronics', 'elite', 'elizabeth', 'ellen', 'elon', 'email', 'emails', 'emc', 'emerges', 'emerging', 'emoji', 'emojis', 'empire', 'employee', 'employees', 'encouraged', 'encryption', 'end', 'endangered', 'enemies', 'energous', 'energy', 'enforcement', 'engine', 'engineer', 'engineering', 'engineers', 'england', 'english', 'enhance', 'enjoyed', 'enormous', 'enter', 'enterprise', 'enters', 'entertainment', 'entire', 'entrepreneurs', 'entry', 'environment', 'envisions', 'epic', 'equal', 'equity', 'era', 'eric', 'error', 'esa', 'escape', 'espn', 'esports', 'essay', 'essential', 'estate', 'estimates', 'etf', 'etfs', 'etsy', 'eu', 'europe', 'european', 'eus', 'ev', 'event', 'eventure', 'everybody', 'evil', 'evti', 'examining', 'exchange', 'exclusive', 'exdividend', 'exec', 'execs', 'executive', 'executives', 'exgoogle', 'exists', 'expand', 'expanded', 'expanding', 'expands', 'expansion', 'expect', 'expectations', 'expected', 'expecting', 'expects', 'expedia', 'expensive', 'experience', 'experiment', 'experimental', 'expert', 'experts', 'explain', 'explained', 'explains', 'exploration', 'explore', 'explorer', 'explores', 'explosion', 'exposed', 'exposure', 'express', 'extend', 'extends', 'extensions', 'extra', 'extreme', 'extremism', 'extremist', 'exxon', 'eye', 'eyeing', 'eyes', 'eyetracking', 'faa', 'faang', 'fabric', 'face', 'facebook', 'facebooks', 'faces', 'facing', 'factors', 'factory', 'facts', 'factset', 'fading', 'fail', 'failed', 'failing', 'fails', 'failure', 'fair', 'fake', 'fall', 'fallen', 'falling', 'falls', 'families', 'family', 'famous', 'fan', 'fancy', 'fang', 'fangs', 'fans', 'fantastic', 'fantasy', 'fargo', 'farm', 'fashion', 'fast', 'faster', 'fastest', 'fat', 'fate', 'favor', 'favorite', 'fb', 'fbi', 'fcc', 'fccs', 'fda', 'fds', 'fdx', 'fear', 'fears', 'feature', 'features', 'february', 'fed', 'fedex', 'feds', 'fee', 'feed', 'feedback', 'feeling', 'fees', 'feet', 'female', 'feminist', 'fend', 'festival', 'feud', 'feye', 'fi', 'fiat', 'fiber', 'fibers', 'fiction', 'fidelity', 'field', 'fifth', 'fight', 'fighting', 'fights', 'file', 'files', 'filings', 'filming', 'films', 'final', 'finance', 'financial', 'financing', 'finding', 'finds', 'fine', 'fines', 'finish', 'fintech', 'fired', 'fireeye', 'firefox', 'fires', 'firewall', 'firm', 'firms', 'firstquarter', 'fiscal', 'fish', 'fishers', 'fit', 'fitbit', 'fitbits', 'fitx', 'fix', 'fixes', 'fixing', 'flag', 'flags', 'flares', 'flash', 'flat', 'flaw', 'flaws', 'fleet', 'flexible', 'flight', 'flights', 'floating', 'flocking', 'flop', 'florida', 'flows', 'floyd', 'fly', 'flying', 'focus', 'focuses', 'follow', 'following', 'follows', 'font', 'food', 'foods', 'fool', 'footprint', 'forbes', 'force', 'forced', 'forces', 'ford', 'forecast', 'forecasts', 'foreign', 'forget', 'forgotten', 'form', 'format', 'formation', 'forming', 'forms', 'fort', 'fortune', 'fossil', 'foundation', 'founder', 'founders', 'fourth', 'fox', 'foxconn', 'frame', 'france', 'francisco', 'frank', 'fraud', 'free', 'freeform', 'french', 'frenzy', 'fresh', 'friday', 'friend', 'friendly', 'friends', 'frightening', 'frontier', 'ftc', 'fuel', 'fuels', 'fun', 'fund', 'fundamentals', 'funding', 'fundraising', 'funds', 'funerals', 'funny', 'future', 'futures', 'futuristic', 'gaap', 'gabriel', 'gadgets', 'gain', 'gains', 'galaxy', 'gamble', 'gambling', 'game', 'games', 'gaming', 'gap', 'garden', 'gas', 'gates', 'gay', 'ge', 'gears', 'gender', 'gene', 'general', 'generate', 'generation', 'generations', 'genetic', 'genius', 'geniuses', 'george', 'geovax', 'german', 'germany', 'gets', 'getting', 'ghost', 'giant', 'giants', 'gifs', 'gigabit', 'gigafactory', 'gilead', 'girl', 'girlfriend', 'girls', 'github', 'given', 'gives', 'giving', 'glass', 'glasses', 'glimpse', 'global', 'globe', 'glory', 'gluu', 'gm', 'gmail', 'gms', 'goal', 'godaddy', 'goes', 'going', 'gold', 'golden', 'goldman', 'gone', 'good', 'goodbye', 'goods', 'goog', 'googl', 'google', 'googlebacked', 'googleparent', 'googleplex', 'googlers', 'googles', 'gopro', 'gopros', 'got', 'gotten', 'government', 'governments', 'governor', 'govt', 'govx', 'gpro', 'grab', 'grabs', 'grace', 'grads', 'grammar', 'grand', 'grant', 'graphene', 'grave', 'gravity', 'great', 'greater', 'green', 'greene', 'greyball', 'grill', 'groceries', 'grocery', 'grog', 'grogenesis', 'ground', 'group', 'groupon', 'groups', 'grow', 'growing', 'grows', 'growth', 'grpn', 'grub', 'grubhub', 'gs', 'guess', 'guest', 'guidance', 'guide', 'guild', 'gun', 'gundlach', 'gunning', 'guns', 'guru', 'gutted', 'guy', 'guys', 'gv', 'hack', 'hacked', 'hackers', 'hacking', 'hacks', 'half', 'halloween', 'halt', 'halts', 'halvorsens', 'hand', 'handing', 'hands', 'handwriting', 'happened', 'happens', 'happy', 'harassment', 'hard', 'harder', 'hardware', 'harness', 'harry', 'hate', 'haters', 'hathaway', 'haunt', 'havent', 'hawkins', 'hbo', 'hbos', 'head', 'headaches', 'headed', 'heading', 'headlines', 'headquarters', 'heads', 'headset', 'headsets', 'headtohead', 'health', 'healthcare', 'hear', 'heard', 'hearing', 'heart', 'heat', 'heats', 'hed', 'hedge', 'hedgefund', 'held', 'helm', 'help', 'helped', 'helping', 'helps', 'hemp', 'heres', 'hero', 'hertz', 'hes', 'hesitation', 'hewlettpackard', 'hey', 'hidden', 'hide', 'hiding', 'high', 'higher', 'highest', 'highestpaid', 'highgrowth', 'highlight', 'highlights', 'highs', 'hightech', 'hike', 'hillary', 'himax', 'hint', 'hints', 'hire', 'hired', 'hires', 'hiring', 'history', 'hit', 'hitech', 'hits', 'hitting', 'hiv', 'hk', 'hoard', 'hockey', 'hold', 'holders', 'holding', 'holdings', 'holds', 'holiday', 'holidays', 'hollywood', 'holmes', 'hololens', 'home', 'homekit', 'homeless', 'homes', 'honda', 'honeywell', 'hong', 'hope', 'hopes', 'horowitz', 'horse', 'host', 'hosts', 'hot', 'hotspotsand', 'hottest', 'hour', 'hours', 'house', 'housing', 'hp', 'hpq', 'hps', 'hq', 'hr', 'htc', 'huawei', 'hub', 'huge', 'hulk', 'hulu', 'human', 'humanity', 'humanitys', 'humanoid', 'humans', 'hunt', 'hunter', 'hunts', 'hurdles', 'hurt', 'hurting', 'hybrid', 'hype', 'iac', 'ibm', 'ibms', 'ice', 'icld', 'iconic', 'id', 'idea', 'ideas', 'identity', 'ignore', 'igp', 'ii', 'illegal', 'im', 'image', 'imagery', 'images', 'imagine', 'imaging', 'immelt', 'immigration', 'impact', 'impacting', 'important', 'impossible', 'improve', 'improvement', 'inapp', 'incar', 'incentives', 'inch', 'inches', 'include', 'included', 'includes', 'including', 'income', 'incorporated', 'increase', 'increased', 'increases', 'incredible', 'incs', 'index', 'india', 'indian', 'indians', 'indias', 'indonesia', 'indonesian', 'indonesias', 'industrial', 'industries', 'industry', 'industrys', 'inequality', 'infinity', 'influential', 'information', 'infotainment', 'infringement', 'inhabitats', 'initiative', 'inks', 'innovation', 'innovations', 'innovative', 'input', 'inrix', 'inside', 'insider', 'insiders', 'insight', 'insights', 'insists', 'inspire', 'inspired', 'instagram', 'install', 'installs', 'instant', 'institute', 'instruments', 'insurance', 'insurers', 'intc', 'integration', 'intel', 'intelligence', 'intels', 'intent', 'interactive', 'intercloud', 'interested', 'interesting', 'international', 'internet', 'internships', 'interview', 'intl', 'intrinsic', 'introduces', 'intuitive', 'inventor', 'invest', 'invested', 'investigate', 'investigation', 'investing', 'investment', 'investments', 'investor', 'investors', 'invests', 'ios', 'iot', 'iowa', 'ipad', 'ipads', 'iphone', 'iphones', 'ipo', 'ipos', 'ira', 'irs', 'isis', 'islamic', 'isnt', 'israeli', 'issue', 'issues', 'issuing', 'italy', 'itunes', 'jack', 'jaguar', 'jailbreak', 'james', 'january', 'japan', 'japanese', 'japans', 'jason', 'jay', 'jeb', 'jeff', 'jefferies', 'jetcom', 'jewish', 'jigsaw', 'jim', 'jmp', 'jnj', 'job', 'jobs', 'john', 'johnson', 'join', 'joining', 'joins', 'joint', 'joke', 'jones', 'joseph', 'journal', 'jp', 'jpmorgan', 'judge', 'juicero', 'july', 'jump', 'jumps', 'june', 'justice', 'kagan', 'kalanick', 'kanye', 'kardashian', 'karma', 'kate', 'keeping', 'keeps', 'ken', 'kept', 'kevin', 'key', 'keyboard', 'keys', 'kick', 'kickstarter', 'kids', 'kill', 'killed', 'killer', 'killers', 'killing', 'kills', 'kim', 'kindergarten', 'king', 'kings', 'kirin', 'kit', 'kleiner', 'knew', 'know', 'known', 'knows', 'ko', 'kongs', 'kordestani', 'korea', 'korean', 'la', 'lab', 'label', 'labels', 'labor', 'labs', 'lady', 'land', 'landing', 'lands', 'landscape', 'language', 'languages', 'large', 'largecap', 'largest', 'larry', 'las', 'laser', 'late', 'latest', 'launch', 'launched', 'launches', 'launching', 'law', 'lawmakers', 'lawrence', 'lawsuit', 'lay', 'layoffs', 'lays', 'lbs', 'lead', 'leader', 'leaders', 'leadership', 'leading', 'leads', 'league', 'leaked', 'leaks', 'leaner', 'leap', 'leaps', 'learn', 'learned', 'learning', 'learns', 'lease', 'leave', 'leaves', 'leaving', 'led', 'lee', 'left', 'legal', 'legendary', 'legislation', 'lender', 'lenovo', 'lenovos', 'lens', 'lesson', 'lessons', 'let', 'lets', 'letter', 'letters', 'level', 'lg', 'lgbi', 'lgbt', 'libraries', 'license', 'licensing', 'lidar', 'life', 'lifelike', 'lift', 'lifted', 'light', 'lights', 'like', 'likely', 'likes', 'limbs', 'limelight', 'limit', 'limited', 'lincoln', 'line', 'lineal', 'lines', 'lineup', 'linkedin', 'links', 'liquidmetal', 'list', 'listing', 'lithium', 'little', 'live', 'lives', 'living', 'llc', 'lnkd', 'loads', 'loan', 'loans', 'lobbying', 'local', 'location', 'locationsharing', 'loebs', 'logistics', 'logo', 'logs', 'london', 'long', 'longest', 'longterm', 'longtime', 'look', 'looked', 'looking', 'looks', 'looms', 'loon', 'loop', 'lord', 'los', 'lose', 'loser', 'losers', 'loses', 'losing', 'loss', 'losses', 'lost', 'lot', 'lots', 'love', 'loves', 'low', 'lowaltitude', 'lowcost', 'lower', 'lowest', 'lowincome', 'lows', 'loyalty', 'lp', 'lqmt', 'ltds', 'luck', 'lucrative', 'lulu', 'lululemon', 'lunch', 'lure', 'luxury', 'lyft', 'lynch', 'lyndacom', 'machine', 'machines', 'macro', 'madison', 'madness', 'mafia', 'magazine', 'magic', 'magna', 'main', 'mainstream', 'major', 'make', 'makeover', 'maker', 'makers', 'makes', 'making', 'male', 'malware', 'man', 'manage', 'management', 'manager', 'mantra', 'manufacturing', 'map', 'mapping', 'maps', 'marc', 'march', 'margin', 'margins', 'mariah', 'marijuana', 'marines', 'mario', 'maris', 'marissa', 'mark', 'market', 'marketers', 'marketing', 'marketplace', 'markets', 'marks', 'marriage', 'married', 'mars', 'marvel', 'mary', 'maryjane', 'mason', 'mass', 'massive', 'massroots', 'master', 'mastercard', 'masters', 'masturbation', 'match', 'materials', 'math', 'mattel', 'matter', 'matters', 'mayer', 'mayweather', 'mcdonalds', 'mean', 'meaning', 'means', 'measure', 'media', 'medias', 'medical', 'medicine', 'medtronic', 'meet', 'meeting', 'meets', 'members', 'memo', 'memory', 'men', 'mental', 'merchants', 'mercy', 'merger', 'mergers', 'merrill', 'mess', 'message', 'messages', 'messaging', 'messenger', 'metrics', 'mexico', 'mi', 'mice', 'michael', 'micro', 'micron', 'microsoft', 'microsofts', 'miguel', 'mike', 'mile', 'miles', 'milestones', 'military', 'millennial', 'millennials', 'millions', 'mind', 'minds', 'mini', 'mining', 'minivans', 'minority', 'minutes', 'miss', 'missed', 'misses', 'missing', 'mission', 'mistake', 'mistakes', 'mit', 'mits', 'mix', 'mixed', 'mjmj', 'mjna', 'mo', 'mobile', 'mobiles', 'mobileye', 'mobility', 'mode', 'model', 'models', 'modem', 'modern', 'modular', 'mogul', 'mohnish', 'molten', 'mom', 'moments', 'momentum', 'moms', 'monday', 'mondays', 'monetize', 'money', 'monitor', 'monitoring', 'monopoly', 'monster', 'month', 'monthly', 'months', 'monument', 'moodys', 'moon', 'moonshot', 'moonshots', 'moores', 'morgan', 'morning', 'moroccan', 'mortgage', 'mosquito', 'mosquitoes', 'mother', 'mothers', 'motive', 'motley', 'moto', 'motor', 'motorola', 'motorolas', 'motors', 'mountain', 'mourns', 'mous', 'movement', 'moves', 'movie', 'movies', 'moving', 'mr', 'msft', 'mu', 'muefflings', 'mugged', 'multinationals', 'multiple', 'museum', 'music', 'musical', 'musicians', 'musk', 'musks', 'muslim', 'mustown', 'mustsee', 'muted', 'mutual', 'mystery', 'myth', 'myths', 'nabs', 'named', 'names', 'nan', 'nanotech', 'nantucket', 'nasa', 'nasas', 'nascar', 'nasdaq', 'nation', 'national', 'natural', 'nba', 'nbty', 'nd', 'near', 'nears', 'nebia', 'need', 'needed', 'needlefree', 'needles', 'needs', 'neighborhood', 'neil', 'nest', 'nests', 'net', 'netflix', 'network', 'networking', 'networks', 'neutrality', 'nevada', 'new', 'newer', 'newest', 'news', 'newspaper', 'nextgen', 'nextgeneration', 'nfl', 'nflx', 'niantic', 'nice', 'niche', 'night', 'nike', 'nintendo', 'nintendos', 'nke', 'nobrainer', 'nod', 'nok', 'nokia', 'nokias', 'nongaap', 'note', 'notice', 'nov', 'novartis', 'novel', 'nsa', 'ntek', 'ntv', 'nuance', 'nuclear', 'number', 'numbers', 'nurses', 'nutrition', 'nv', 'nvda', 'nvidia', 'nvidias', 'nvs', 'nw', 'nxp', 'ny', 'nyc', 'nyse', 'nysearca', 'nysemkt', 'oakland', 'obama', 'obamacare', 'obsessed', 'ocean', 'oculus', 'odds', 'offensive', 'offer', 'offered', 'offering', 'offers', 'office', 'officer', 'official', 'oil', 'ok', 'okay', 'old', 'ole', 'oled', 'omid', 'ondemand', 'ones', 'ongoing', 'online', 'ontario', 'open', 'opening', 'opens', 'operating', 'operations', 'opinion', 'opportunities', 'opportunity', 'oppose', 'optimism', 'option', 'options', 'oracle', 'orbital', 'orbitz', 'orcl', 'order', 'orders', 'oreo', 'organic', 'organizations', 'original', 'orlando', 'os', 'oscar', 'osl', 'oslh', 'otc', 'otcbb', 'otcmkts', 'otto', 'outage', 'outlook', 'outpace', 'outperforming', 'outrage', 'outside', 'overall', 'overcome', 'overlook', 'overseas', 'oversight', 'oversold', 'overtake', 'overtakes', 'overturn', 'overvalued', 'overview', 'owner', 'owners', 'ownership', 'owns', 'pabrais', 'pace', 'pacific', 'package', 'packages', 'pacman', 'pact', 'page', 'pages', 'paid', 'pain', 'pakistan', 'pandora', 'pandoras', 'panel', 'panels', 'panic', 'pans', 'pao', 'paper', 'parabolic', 'parade', 'paradise', 'parcel', 'parent', 'parental', 'parents', 'paris', 'park', 'partner', 'partners', 'partnership', 'partnerships', 'parts', 'party', 'pass', 'passed', 'passengers', 'passes', 'passing', 'past', 'patch', 'patent', 'patents', 'path', 'patience', 'patient', 'paul', 'pay', 'payday', 'paying', 'payment', 'payments', 'paypal', 'paypals', 'payroll', 'pays', 'pc', 'pcln', 'pcs', 'pct', 'peak', 'pebble', 'peek', 'peg', 'peninsula', 'penny', 'pension', 'pentagon', 'pentagons', 'people', 'pep', 'pepsico', 'percent', 'perfect', 'performance', 'performing', 'performs', 'periscope', 'perkins', 'person', 'personal', 'personnel', 'perspective', 'peter', 'petroleum', 'pg', 'pharma', 'pharmaceuticals', 'philippe', 'phoenix', 'phone', 'phones', 'photo', 'photos', 'photoshop', 'pichai', 'pick', 'picks', 'picture', 'pictures', 'pieces', 'pile', 'pill', 'pin', 'pinnacle', 'pinterest', 'pioneer', 'pioneering', 'piracy', 'pitch', 'pittsburgh', 'pivotal', 'pixel', 'pizza', 'place', 'places', 'plain', 'plan', 'plane', 'planet', 'planned', 'planning', 'plans', 'plant', 'platform', 'play', 'player', 'players', 'playing', 'plays', 'playstation', 'plug', 'plunge', 'poached', 'poaches', 'pod', 'poems', 'point', 'points', 'poised', 'pokemon', 'pokmon', 'police', 'policies', 'policy', 'political', 'politics', 'poll', 'pop', 'pope', 'popular', 'porat', 'portfolio', 'portfolios', 'portland', 'pose', 'poses', 'position', 'positioned', 'positions', 'positive', 'possible', 'post', 'postearnings', 'postelection', 'poster', 'posts', 'potential', 'pour', 'power', 'powered', 'powerful', 'powerhouse', 'powering', 'powers', 'powershares', 'practical', 'predictions', 'predicts', 'prefer', 'pregnant', 'premarket', 'premium', 'prepares', 'preparing', 'presidency', 'president', 'presidentelect', 'press', 'pressure', 'prevent', 'preview', 'previews', 'price', 'priceline', 'prices', 'pride', 'prime', 'printed', 'printer', 'printing', 'prints', 'privacy', 'private', 'prize', 'pro', 'probe', 'probed', 'problem', 'problems', 'proceed', 'process', 'processor', 'procter', 'product', 'production', 'products', 'professors', 'profile', 'profit', 'profitable', 'profiting', 'profits', 'program', 'progress', 'project', 'projected', 'projector', 'projects', 'promise', 'promises', 'promote', 'promotion', 'property', 'proposal', 'propose', 'proposed', 'pros', 'proshares', 'prospects', 'protect', 'protecting', 'protectionism', 'protest', 'prototype', 'prototypes', 'prove', 'provide', 'providers', 'provides', 'proving', 'public', 'publishers', 'publishing', 'pull', 'pullback', 'pulling', 'pulls', 'pump', 'purchase', 'pursuit', 'push', 'pushes', 'pushing', 'puts', 'putting', 'pypl', 'qcom', 'qorvo', 'qq', 'qualcomm', 'qualcomms', 'quality', 'quantum', 'quarter', 'quarterly', 'quarters', 'queen', 'quest', 'question', 'questions', 'quick', 'quiet', 'quit', 'quits', 'quiz', 'quotes', 'race', 'racing', 'racism', 'radar', 'radical', 'railway', 'raise', 'raised', 'raises', 'rallies', 'rally', 'ramps', 'ranking', 'ranks', 'rap', 'rapid', 'raps', 'rare', 'rate', 'rates', 'rating', 'ratings', 'ratio', 'rbc', 'reach', 'reached', 'reaches', 'reactor', 'read', 'readers', 'reading', 'reads', 'ready', 'readying', 'real', 'reality', 'realtime', 'reap', 'reason', 'reasons', 'rebel', 'rebound', 'recall', 'recap', 'receives', 'recent', 'recipe', 'recognition', 'recommendation', 'recommendations', 'recommends', 'reconsider', 'record', 'records', 'recover', 'recruiters', 'recruits', 'red', 'redesign', 'redhot', 'reflect', 'reform', 'refugees', 'regarding', 'regeneron', 'registry', 'regulations', 'regulator', 'regulators', 'reiterates', 'reits', 'rejects', 'relationship', 'release', 'releases', 'reliant', 'religious', 'remain', 'remained', 'remains', 'removal', 'remove', 'removes', 'renewable', 'rent', 'rental', 'reorganization', 'repeal', 'repeat', 'replace', 'replacement', 'replaces', 'report', 'reporting', 'reports', 'republicans', 'reputation', 'requests', 'resale', 'research', 'researcher', 'researchers', 'resign', 'resources', 'respond', 'responds', 'response', 'responsible', 'rest', 'restaurant', 'restaurants', 'restrictions', 'restructuring', 'results', 'retail', 'retailer', 'retailers', 'rethink', 'rethinks', 'retire', 'retirement', 'retrial', 'return', 'returning', 'returns', 'revamps', 'reveal', 'revealed', 'revealing', 'reveals', 'revenue', 'revenues', 'reversal', 'reverse', 'review', 'reviews', 'revisit', 'revival', 'revive', 'revolution', 'revolutionize', 'revolving', 'rewards', 'rich', 'riches', 'richest', 'ride', 'ridehailing', 'rider', 'rides', 'ridesharing', 'riding', 'rift', 'right', 'rights', 'ring', 'ringcentral', 'rip', 'ripe', 'ripping', 'rise', 'rises', 'rising', 'risk', 'risks', 'risky', 'rival', 'rivalry', 'rivals', 'rmhb', 'road', 'roadblock', 'roads', 'robbins', 'robert', 'robot', 'robotic', 'robotics', 'robots', 'rocket', 'rocky', 'roe', 'rogers', 'role', 'roll', 'roller', 'rollout', 'rolls', 'rometty', 'roof', 'room', 'root', 'roots', 'rose', 'ross', 'round', 'roundup', 'route', 'router', 'routers', 'rover', 'rowe', 'royal', 'rtls', 'rule', 'rules', 'ruling', 'rumor', 'rumored', 'rumors', 'run', 'running', 'rush', 'russia', 'russian', 'ruth', 'ryan', 'sa', 'sachs', 'safe', 'safer', 'safety', 'sagans', 'said', 'sale', 'sales', 'salesforce', 'salesforcecom', 'salesforces', 'salt', 'salvation', 'samsung', 'samsungs', 'samuel', 'san', 'sandberg', 'sanders', 'sandwich', 'sap', 'satellite', 'satisfaction', 'sativa', 'saudi', 'save', 'savings', 'savior', 'say', 'saying', 'says', 'sbfm', 'sbux', 'scaling', 'scandal', 'scarce', 'scary', 'scenarios', 'scene', 'scheduled', 'scheme', 'schmidt', 'schmidts', 'school', 'science', 'sciences', 'scientific', 'scientists', 'scoop', 'score', 'scores', 'screaming', 'screen', 'screens', 'scrutiny', 'search', 'searches', 'searching', 'season', 'seat', 'seattle', 'sec', 'second', 'secondquarter', 'secret', 'secretary', 'secretive', 'secrets', 'sector', 'sectors', 'secure', 'secures', 'security', 'seeing', 'seek', 'seeking', 'seeks', 'seen', 'sees', 'segment', 'select', 'self', 'selfdestructing', 'selfdrive', 'selfdriving', 'selfdrivingcar', 'selfie', 'sell', 'sellers', 'selling', 'selloff', 'sells', 'semiconductors', 'senate', 'send', 'sends', 'senior', 'sense', 'sentiment', 'september', 'sequoia', 'sergey', 'serial', 'series', 'servers', 'service', 'servicemax', 'services', 'session', 'set', 'sets', 'settle', 'settlement', 'settop', 'sex', 'sexism', 'sf', 'shadow', 'shake', 'shakes', 'shakeup', 'shape', 'share', 'shareholder', 'shareholders', 'shares', 'sharing', 'shark', 'sharks', 'shattering', 'sheet', 'shift', 'shifting', 'shifts', 'shine', 'shipping', 'ships', 'shoes', 'shoot', 'shooting', 'shop', 'shopify', 'shoppers', 'shopping', 'short', 'shortage', 'shortterm', 'shot', 'shouldnt', 'showcase', 'showdown', 'showing', 'shows', 'shut', 'shuts', 'shutterfly', 'shutting', 'sidelines', 'sidewalk', 'sierra', 'sight', 'sights', 'sigma', 'sign', 'signal', 'signed', 'significant', 'signs', 'silicon', 'similar', 'simple', 'sinclair', 'sing', 'singapore', 'single', 'sings', 'sink', 'sinks', 'siri', 'sirius', 'sister', 'sit', 'site', 'sites', 'size', 'sizzlers', 'skechers', 'skeptical', 'skids', 'skills', 'skin', 'skirt', 'skln', 'skx', 'skyline', 'skype', 'skyrockets', 'skys', 'skyworks', 'slack', 'slammed', 'slams', 'slaughter', 'sleep', 'slide', 'slides', 'slideshow', 'slim', 'sling', 'slow', 'slowing', 'sma', 'small', 'smallcap', 'smaller', 'smart', 'smarter', 'smartest', 'smartglasses', 'smartphone', 'smartphones', 'smarts', 'smartwatch', 'smartwatches', 'smells', 'smile', 'smoking', 'sms', 'snack', 'snags', 'snap', 'snapchat', 'snapchatlike', 'snapchats', 'snapping', 'snaps', 'snapshot', 'snatches', 'sndk', 'sneak', 'snippets', 'snl', 'snowden', 'snubs', 'soar', 'soared', 'soaring', 'soars', 'social', 'socialmedia', 'softbanks', 'software', 'solar', 'solarpowered', 'solarwindow', 'sold', 'sole', 'solid', 'solos', 'solution', 'solutions', 'solve', 'son', 'song', 'sony', 'sophisticated', 'soros', 'sorry', 'sort', 'soul', 'sounds', 'soup', 'source', 'sources', 'south', 'southeast', 'southeastern', 'space', 'spacecraft', 'spacex', 'spacexs', 'spanish', 'spark', 'speaker', 'speakers', 'speaks', 'special', 'specialist', 'spectacles', 'speculated', 'speech', 'speed', 'spell', 'spelling', 'spend', 'spenders', 'spending', 'spin', 'spinoff', 'spins', 'split', 'sponsor', 'sports', 'spot', 'spotify', 'spotlight', 'spotted', 'spotting', 'spread', 'spreads', 'spree', 'spring', 'sprint', 'spy', 'spying', 'spyware', 'sq', 'square', 'squeeze', 'stability', 'stack', 'staff', 'stage', 'stake', 'stakes', 'stall', 'stalling', 'stalls', 'stamp', 'stand', 'standalone', 'standards', 'standing', 'stands', 'stanford', 'stanley', 'stanleys', 'star', 'starbucks', 'stars', 'start', 'started', 'starting', 'starts', 'startup', 'startups', 'state', 'states', 'stations', 'stats', 'stay', 'steady', 'steal', 'stealth', 'steam', 'steel', 'steering', 'stem', 'step', 'stephen', 'steps', 'steve', 'stick', 'stiff', 'stock', 'stockmarket', 'stocks', 'stole', 'stolen', 'stop', 'stopped', 'stops', 'storage', 'store', 'stores', 'stories', 'storm', 'story', 'straight', 'strategic', 'strategies', 'strategist', 'strategy', 'stream', 'streaming', 'streams', 'street', 'streets', 'strength', 'stricker', 'strides', 'strike', 'strikes', 'strong', 'stronger', 'structure', 'structures', 'struggle', 'struggles', 'struggling', 'stuck', 'student', 'students', 'studies', 'studio', 'study', 'studying', 'stuff', 'stumble', 'stumbles', 'stunning', 'style', 'subscriber', 'subscribers', 'subscription', 'subscriptions', 'subsidiary', 'succeed', 'success', 'successful', 'sue', 'sued', 'sues', 'suffer', 'suggestions', 'suggests', 'suisse', 'suit', 'suitors', 'summer', 'summit', 'sun', 'sundar', 'sunedison', 'sunshine', 'super', 'supercomputer', 'superfast', 'superior', 'supervalu', 'supplier', 'supply', 'support', 'supporters', 'supporting', 'supremacists', 'supreme', 'sure', 'surface', 'surge', 'surgery', 'surges', 'surgical', 'surging', 'surpass', 'surpasses', 'surprise', 'surprised', 'surprising', 'surveillance', 'survey', 'survival', 'survive', 'sustainability', 'sustainable', 'svu', 'sweat', 'sweet', 'swift', 'swings', 'switch', 'symantec', 'symphony', 'synthetic', 'systems', 'tab', 'table', 'tablet', 'tablets', 'tackle', 'taiwan', 'taiwans', 'takeaways', 'takeout', 'takeover', 'takes', 'taking', 'tale', 'talent', 'talk', 'talking', 'talks', 'tank', 'tanking', 'tap', 'tape', 'tapped', 'tapping', 'taps', 'target', 'targeting', 'targets', 'task', 'tasks', 'taste', 'tattoo', 'taught', 'tax', 'taxes', 'taxi', 'taxis', 'taxmanaged', 'taylor', 'tea', 'teach', 'teachers', 'teaches', 'teaching', 'team', 'teams', 'teases', 'tech', 'technical', 'technologies', 'technology', 'techs', 'ted', 'telcos', 'telecom', 'telecoms', 'television', 'tell', 'telling', 'tells', 'tencent', 'tensor', 'teppers', 'term', 'terms', 'terra', 'terrence', 'terrible', 'territory', 'terrorists', 'tesla', 'test', 'tested', 'testing', 'tests', 'teva', 'texas', 'text', 'thanks', 'thats', 'themes', 'theories', 'theory', 'theranos', 'therapeutics', 'theres', 'thermostat', 'theyre', 'theyve', 'thiel', 'thing', 'things', 'think', 'thinking', 'thinks', 'thought', 'thoughts', 'thousands', 'threat', 'threaten', 'threatened', 'threatens', 'threats', 'thrive', 'throttling', 'throws', 'thursday', 'ticking', 'tidal', 'ties', 'tiger', 'tightens', 'tim', 'time', 'timeline', 'times', 'timing', 'tiny', 'tipping', 'tips', 'titan', 'titans', 'title', 'tivo', 'tizen', 'tmobile', 'tmus', 'today', 'todays', 'toll', 'ton', 'tonight', 'tony', 'took', 'tool', 'tools', 'topranked', 'tops', 'toronto', 'toshiba', 'total', 'touch', 'tough', 'tougher', 'tour', 'tower', 'town', 'toy', 'toyota', 'toys', 'track', 'tracker', 'tracking', 'tracks', 'trade', 'trademark', 'traders', 'trades', 'trading', 'traffic', 'train', 'training', 'transaction', 'transcript', 'transfer', 'transformation', 'transformative', 'transforms', 'transgender', 'transit', 'transition', 'translate', 'translation', 'transparency', 'transportation', 'trash', 'travel', 'treat', 'tree', 'trend', 'trending', 'trends', 'trial', 'tribune', 'trick', 'tricks', 'tried', 'tries', 'trimmed', 'trims', 'trip', 'tripadvisor', 'trippingcom', 'trolls', 'tronc', 'trouble', 'trtc', 'truck', 'trucking', 'trucks', 'true', 'trump', 'trumps', 'trust', 'truth', 'try', 'trying', 'ts', 'tsla', 'tuesday', 'tumble', 'tumblr', 'turbines', 'turf', 'turmoil', 'turn', 'turnaround', 'turned', 'turning', 'turnover', 'turns', 'tv', 'tvs', 'tweets', 'twilio', 'twitch', 'twitter', 'twitters', 'twlo', 'twtr', 'tx', 'type', 'typeface', 'tyson', 'ua', 'uaa', 'uber', 'ubers', 'ubs', 'uk', 'ukrainian', 'ultimate', 'ultra', 'unbelievable', 'uncertainty', 'underappreciated', 'underestimating', 'underowned', 'understand', 'understanding', 'undervalued', 'unexpected', 'unicorn', 'unicorns', 'union', 'unit', 'unite', 'united', 'units', 'universal', 'universe', 'universities', 'university', 'unleash', 'unleashes', 'unlikely', 'unlimited', 'unplugged', 'unstoppable', 'unusual', 'unveil', 'unveils', 'upcoming', 'update', 'updated', 'updates', 'upgrade', 'upgraded', 'upgrades', 'uphill', 'ups', 'upside', 'urge', 'urged', 'urges', 'usa', 'usd', 'use', 'used', 'useful', 'user', 'users', 'uses', 'using', 'valeant', 'valley', 'valleys', 'valmie', 'valuable', 'valuation', 'valuations', 'value', 'valued', 'van', 'vance', 'vanguard', 'vapor', 'vc', 'veev', 'veeva', 'vegas', 'vehicle', 'vehicles', 'venture', 'ventures', 'verb', 'verdict', 'verge', 'verizon', 'version', 'versus', 'veteran', 'veterans', 'vets', 'vevo', 'viacom', 'victims', 'victory', 'video', 'videos', 'vietnam', 'vietnams', 'view', 'viewers', 'viewing', 'views', 'viking', 'village', 'vine', 'violence', 'viral', 'virgin', 'virginia', 'virnetx', 'virtual', 'virtualreality', 'visa', 'visas', 'vision', 'visual', 'vital', 'vive', 'vix', 'vmri', 'vmw', 'vmware', 'voice', 'vois', 'volatile', 'volatility', 'volcano', 'volkswagen', 'volume', 'volvo', 'von', 'vote', 'votes', 'voting', 'vox', 'vp', 'vr', 'vs', 'vsp', 'vulnerability', 'vulnerable', 'vz', 'wage', 'wait', 'waiting', 'waive', 'wake', 'walk', 'walker', 'walking', 'wall', 'wallet', 'walmart', 'walt', 'want', 'wants', 'war', 'warehouses', 'warn', 'warner', 'warning', 'warns', 'warren', 'wars', 'washington', 'wasnt', 'watch', 'watchdog', 'watches', 'watching', 'water', 'watson', 'wave', 'way', 'waymo', 'ways', 'waze', 'wdhr', 'weak', 'weakness', 'wealth', 'wealthiest', 'weapon', 'weapons', 'wear', 'wearable', 'wearables', 'web', 'webcast', 'webpass', 'website', 'websites', 'webtv', 'wedding', 'wednesday', 'weed', 'weedhire', 'week', 'weekend', 'weeks', 'weigh', 'weird', 'welcome', 'wells', 'went', 'west', 'western', 'weve', 'whats', 'whatsapp', 'wheels', 'white', 'whitman', 'whos', 'wide', 'widens', 'wife', 'wifi', 'wikileaks', 'wild', 'wilder', 'william', 'willing', 'win', 'wind', 'window', 'windows', 'wing', 'winner', 'winners', 'winning', 'wins', 'winwin', 'wireless', 'withdraws', 'wndw', 'woes', 'woman', 'women', 'wonder', 'wont', 'woo', 'word', 'words', 'work', 'workday', 'worker', 'workers', 'working', 'workplace', 'works', 'world', 'worlds', 'worldwide', 'worried', 'worries', 'worry', 'worse', 'worst', 'worth', 'wozniak', 'wpp', 'wrap', 'write', 'writing', 'wrong', 'wsj', 'wwdc', 'wyoming', 'xbox', 'xiaomi', 'xm', 'xs', 'xxii', 'xyz', 'yahoo', 'yahoos', 'yandex', 'year', 'yearold', 'years', 'yelp', 'yelps', 'yhoo', 'yield', 'yndx', 'york', 'youll', 'young', 'youre', 'youtube', 'youtubes', 'youve', 'zacks', 'zenefits', 'zillow', 'zombie', 'zoom', 'zoox', 'zuckerberg', 'zuckerbergs', 'zynerba', 'zynga']\n"
     ]
    }
   ],
   "source": [
    "from sklearn.feature_extraction.text import TfidfVectorizer, CountVectorizer\n",
    "from sklearn.decomposition import LatentDirichletAllocation\n",
    "\n",
    "n_features = 250\n",
    "n_components = 20\n",
    "n_top_words = 10\n",
    "\n",
    "### Counts\n",
    "tf_vectorizer = CountVectorizer(min_df=2, max_df=1000, stop_words='english')\n",
    "tf = tf_vectorizer.fit_transform(data['Headlines'])\n",
    "tf_feature_names = tf_vectorizer.get_feature_names()\n",
    "print(tf_feature_names)"
   ]
  },
  {
   "cell_type": "code",
   "execution_count": 33,
   "metadata": {
    "scrolled": true
   },
   "outputs": [
    {
     "name": "stdout",
     "output_type": "stream",
     "text": [
      "['aa', 'aapl', 'abandons', 'abat', 'abbvie', 'abc', 'abcs', 'accelerate', 'accelerated', 'accelerates', 'accepts', 'access', 'accident', 'according', 'accounting', 'accounts', 'accusations', 'accused', 'accuses', 'acquire', 'acquired', 'acquires', 'acquiring', 'acquisition', 'acquisitions', 'act', 'action', 'active', 'activision', 'activist', 'activists', 'activity', 'actual', 'ad', 'adam', 'adblocking', 'add', 'adding', 'additions', 'addresses', 'adds', 'administration', 'admits', 'adobe', 'adoption', 'adr', 'adrian', 'ads', 'adsense', 'advance', 'advanced', 'advances', 'advantage', 'advantages', 'adventure', 'advertiser', 'advertisers', 'advertising', 'advice', 'adviser', 'advisers', 'advisor', 'advisory', 'advocating', 'adwords', 'affect', 'afraid', 'africa', 'ag', 'age', 'agency', 'agreement', 'agrees', 'agthx', 'ai', 'aid', 'aim', 'aims', 'aipowered', 'air', 'airbnb', 'airbus', 'aircraft', 'airg', 'airgain', 'airport', 'akam', 'akamai', 'alert', 'alexa', 'algorithm', 'alibaba', 'alibabas', 'allegations', 'alleged', 'alleges', 'alleging', 'allelectric', 'allen', 'alliance', 'allo', 'allow', 'allows', 'alltime', 'ally', 'alpha', 'alphabet', 'alphabets', 'alphago', 'als', 'alter', 'altera', 'alternative', 'alternatives', 'altria', 'amazing', 'amazon', 'amazoncom', 'amazons', 'amba', 'ambarella', 'ambitions', 'ambitious', 'amd', 'america', 'american', 'americans', 'americas', 'amp', 'amzn', 'analysis', 'analyst', 'analysts', 'analytics', 'ancient', 'andreas', 'andreessen', 'android', 'androids', 'andromeda', 'andy', 'angeles', 'announce', 'announces', 'annual', 'answer', 'answers', 'antarctic', 'antiaging', 'antidiversity', 'antitrust', 'antonio', 'anxiety', 'anybody', 'aol', 'api', 'apollo', 'app', 'appaloosa', 'apparel', 'appeal', 'appeals', 'appear', 'appears', 'appinstall', 'apple', 'apples', 'applesamsung', 'appliances', 'applications', 'appoints', 'approach', 'approaches', 'approval', 'approved', 'approves', 'apps', 'april', 'apron', 'ar', 'ara', 'arctic', 'area', 'areas', 'arent', 'arizona', 'arjuna', 'arm', 'armour', 'arms', 'army', 'arrest', 'arrested', 'arris', 'arrives', 'art', 'articles', 'artificial', 'artificialintelligence', 'artist', 'artists', 'asia', 'asian', 'ask', 'asks', 'asset', 'assets', 'assistant', 'assistants', 'association', 'athletica', 'atlantic', 'atlassian', 'attack', 'attacks', 'attempt', 'attend', 'attention', 'attorney', 'attractive', 'attracts', 'atvi', 'auction', 'audience', 'audio', 'aug', 'augmented', 'august', 'australia', 'australian', 'author', 'authorities', 'autism', 'auto', 'automakers', 'automation', 'automotive', 'autonomous', 'autopilot', 'available', 'avenue', 'average', 'aviation', 'avis', 'avoid', 'await', 'awards', 'awareness', 'awful', 'aws', 'ba', 'baba', 'baby', 'bac', 'backed', 'backing', 'backs', 'bad', 'bag', 'bags', 'baidu', 'baidus', 'bail', 'bain', 'baker', 'balance', 'balanced', 'balloon', 'balloons', 'ban', 'band', 'bang', 'bank', 'banks', 'banned', 'bans', 'bar', 'bargain', 'barrier', 'barrons', 'barz', 'base', 'based', 'basic', 'basics', 'batteries', 'battery', 'battle', 'battles', 'bay', 'bb', 'bbry', 'bc', 'bce', 'beach', 'beacons', 'beam', 'bear', 'bearish', 'bears', 'beat', 'beatendown', 'beating', 'beats', 'beautiful', 'beauty', 'beef', 'begin', 'beginning', 'begins', 'believe', 'believes', 'bell', 'bella', 'belt', 'ben', 'benchmark', 'benefit', 'benefits', 'berkshire', 'bernie', 'best', 'bet', 'beta', 'bets', 'better', 'betting', 'beware', 'bezos', 'biblical', 'bid', 'bidding', 'bidu', 'big', 'bigger', 'biggest', 'billboard', 'billionaire', 'billionaires', 'billiondollar', 'billionplus', 'billions', 'bing', 'bio', 'biomedical', 'bionic', 'bionics', 'biopharma', 'biotech', 'bird', 'birthday', 'bitcoin', 'bite', 'bites', 'biz', 'black', 'blackalicious', 'blackberry', 'blackrock', 'blame', 'blanket', 'blasts', 'blizzard', 'bln', 'block', 'blockchains', 'blockers', 'blocking', 'blog', 'blood', 'bloomberg', 'blow', 'blue', 'bluechip', 'bmw', 'board', 'boast', 'boat', 'boats', 'bob', 'body', 'boeing', 'bold', 'bomber', 'bonanza', 'bond', 'book', 'books', 'boom', 'booming', 'boon', 'boost', 'boosted', 'boosts', 'boring', 'born', 'bosch', 'boss', 'boston', 'bought', 'bounce', 'bowl', 'box', 'boxes', 'boy', 'boycott', 'boys', 'brace', 'braced', 'braces', 'brain', 'brains', 'brake', 'branch', 'brand', 'brands', 'breach', 'breaches', 'break', 'breakdown', 'breaking', 'breakout', 'breaks', 'breakup', 'breath', 'breathing', 'brewing', 'brexit', 'brief', 'bright', 'brilliant', 'brin', 'bring', 'bringing', 'brings', 'britain', 'british', 'brk', 'broadband', 'broader', 'broke', 'broken', 'brokerage', 'bros', 'brothers', 'brought', 'brown', 'browns', 'browsers', 'bruce', 'brutal', 'bubble', 'buck', 'bucks', 'budget', 'buffett', 'buffetts', 'build', 'builder', 'building', 'buildings', 'builds', 'built', 'bull', 'bullish', 'bulls', 'bumpy', 'burning', 'burritos', 'burry', 'burst', 'bus', 'busiest', 'business', 'businesses', 'button', 'buy', 'buyback', 'buybacks', 'buyer', 'buying', 'buyout', 'buys', 'buzz', 'buzzfeed', 'cable', 'cagr', 'calendar', 'calico', 'california', 'called', 'calling', 'calls', 'cam', 'camera', 'campaign', 'campbell', 'campus', 'canada', 'canadas', 'canadian', 'cancer', 'candidate', 'candidates', 'cannabis', 'cannabiz', 'cannes', 'cantillon', 'cap', 'capabilities', 'capital', 'capitalize', 'capitals', 'car', 'carbon', 'card', 'cardboard', 'cards', 'care', 'carecom', 'carey', 'carl', 'carmaker', 'carmakers', 'carnival', 'carolina', 'carplay', 'carpool', 'carrier', 'carriers', 'carry', 'cars', 'case', 'cases', 'cash', 'casino', 'cast', 'cat', 'catalyst', 'catch', 'catching', 'caterpillar', 'caught', 'cause', 'cave', 'cbds', 'cbis', 'ceding', 'celebrity', 'cell', 'cells', 'cellular', 'censorship', 'center', 'centers', 'century', 'ceo', 'ceos', 'certificates', 'ces', 'cfo', 'cfos', 'chairman', 'challenge', 'challenged', 'challenger', 'challenges', 'challenging', 'champion', 'chance', 'chandler', 'change', 'changed', 'changer', 'changes', 'changing', 'channel', 'chaos', 'characters', 'charge', 'charged', 'charges', 'charles', 'chart', 'charter', 'charts', 'chase', 'chat', 'chatbot', 'chats', 'cheap', 'cheaper', 'cheapest', 'cheating', 'check', 'chemicals', 'chennai', 'chest', 'chevy', 'chicago', 'chicken', 'chief', 'chiefs', 'child', 'children', 'childrens', 'china', 'chinas', 'chinese', 'chip', 'chipotle', 'chips', 'chiu', 'choose', 'christmas', 'chrome', 'chromecast', 'chrysler', 'chuck', 'cia', 'cincinnati', 'circle', 'cisco', 'citi', 'cities', 'citigroup', 'citizen', 'citizens', 'citron', 'city', 'claim', 'claims', 'clash', 'class', 'classes', 'classic', 'clean', 'clear', 'clever', 'clicks', 'cliff', 'climate', 'climb', 'clinton', 'close', 'closed', 'closer', 'closes', 'closing', 'clothing', 'cloud', 'club', 'cmo', 'coaster', 'cocacola', 'code', 'cofounder', 'cofounders', 'cohen', 'collaborate', 'collaboration', 'collective', 'college', 'colours', 'columbus', 'combat', 'combo', 'comcast', 'come', 'comeback', 'comes', 'coming', 'comments', 'commerce', 'commercial', 'common', 'communication', 'communications', 'community', 'companies', 'company', 'companys', 'compare', 'comparing', 'comparison', 'compelling', 'compensation', 'compete', 'competing', 'competition', 'competitive', 'competitor', 'competitors', 'complaint', 'complaints', 'complete', 'completes', 'complex', 'complicated', 'computer', 'computers', 'computing', 'conagra', 'concern', 'concerned', 'concerns', 'concert', 'condition', 'conduct', 'conference', 'confident', 'confirm', 'confirms', 'confused', 'congress', 'connect', 'connected', 'cons', 'conservative', 'consider', 'considering', 'considers', 'consortium', 'conspiracy', 'construct', 'consumer', 'consumers', 'contact', 'contenders', 'content', 'continue', 'continues', 'contracts', 'contrafund', 'contrarian', 'control', 'controller', 'controversial', 'conversation', 'cook', 'cookie', 'cookies', 'cool', 'coolest', 'cooper', 'copy', 'copyright', 'cord', 'core', 'corner', 'corp', 'corporate', 'corporation', 'corporations', 'corps', 'correction', 'cortana', 'cost', 'costs', 'counsel', 'count', 'countries', 'country', 'county', 'couple', 'course', 'court', 'cover', 'coverage', 'covered', 'coveted', 'crack', 'crackdown', 'cracked', 'cracking', 'craft', 'craigslist', 'cramer', 'crash', 'crashes', 'crashing', 'cratering', 'crazy', 'create', 'created', 'creates', 'creating', 'creation', 'creative', 'creator', 'creators', 'credit', 'creepy', 'crest', 'crisis', 'criteo', 'critical', 'criticism', 'crm', 'cross', 'crossed', 'crowded', 'crowdfunding', 'crown', 'crucial', 'crunch', 'crush', 'crushes', 'cs', 'csco', 'cto', 'cuba', 'culture', 'cup', 'curb', 'curbing', 'cure', 'curiosity', 'currency', 'customer', 'customers', 'cut', 'cuts', 'cutting', 'cyber', 'cybersecurity', 'cyborg', 'daily', 'daimler', 'damaged', 'damages', 'dan', 'dance', 'dandelion', 'danger', 'dangerous', 'daniel', 'dark', 'darpa', 'dashboard', 'data', 'database', 'datatransfer', 'date', 'dating', 'david', 'dawn', 'day', 'days', 'dead', 'deaf', 'deal', 'dealers', 'deals', 'death', 'deaths', 'debate', 'debt', 'debunking', 'debut', 'debuts', 'decade', 'december', 'decide', 'decision', 'decline', 'declining', 'deep', 'deepening', 'deepens', 'deepmind', 'deepminds', 'defeat', 'defeats', 'defectors', 'defends', 'defensive', 'define', 'degrasse', 'degree', 'delay', 'delayed', 'delays', 'delight', 'deliver', 'deliveries', 'delivering', 'delivers', 'delivery', 'dell', 'delta', 'demand', 'demands', 'demo', 'denies', 'deontay', 'depart', 'department', 'departs', 'deploy', 'deploying', 'deploys', 'deposition', 'depot', 'deserve', 'deserves', 'design', 'designer', 'designers', 'designs', 'destined', 'destroyed', 'details', 'detect', 'detecting', 'detroit', 'deutsche', 'develop', 'developer', 'developers', 'developing', 'development', 'device', 'devices', 'dexcom', 'diabetes', 'diane', 'didnt', 'die', 'dies', 'difference', 'differences', 'different', 'difficult', 'digging', 'digipath', 'digital', 'digs', 'dilemma', 'dip', 'dips', 'director', 'directors', 'directv', 'dis', 'disables', 'disappoint', 'disappointed', 'disappointing', 'disappointment', 'disaster', 'disclose', 'discloses', 'discount', 'discover', 'discrimination', 'discuss', 'disease', 'disney', 'disneys', 'displays', 'dispute', 'disrupt', 'disrupting', 'disruption', 'disruptive', 'dissecting', 'ditch', 'ditches', 'diverse', 'diversification', 'diversified', 'diversity', 'dividend', 'dividends', 'division', 'dna', 'document', 'dodge', 'doesnt', 'dog', 'doghouse', 'dogs', 'dollar', 'dollars', 'domain', 'dominance', 'dominant', 'dominate', 'dominates', 'dominating', 'domination', 'dominos', 'donald', 'dont', 'doomed', 'door', 'doordash', 'doors', 'dorm', 'dorsey', 'dotcom', 'double', 'doubled', 'doubledigit', 'doubles', 'doubling', 'dow', 'downgraded', 'downgrades', 'download', 'downloading', 'downside', 'dozen', 'dpz', 'dr', 'draft', 'drag', 'drama', 'draw', 'dream', 'dreams', 'dress', 'drilling', 'drinks', 'drive', 'driven', 'driver', 'driverless', 'drivers', 'drives', 'drivethru', 'driving', 'drone', 'drones', 'drop', 'dropbox', 'dropped', 'dropping', 'drops', 'drove', 'drug', 'dual', 'dualclass', 'dubai', 'dui', 'dumb', 'dump', 'dumped', 'dumping', 'dumps', 'duo', 'dust', 'dutch', 'dwave', 'dying', 'dynamics', 'ea', 'eagle', 'early', 'earn', 'earned', 'earnings', 'earth', 'ease', 'eases', 'easier', 'east', 'easy', 'eat', 'eating', 'eaton', 'ebay', 'echo', 'ecommerce', 'economic', 'economics', 'economy', 'edge', 'edition', 'education', 'educational', 'edward', 'effect', 'effective', 'effects', 'effort', 'efforts', 'ekso', 'election', 'electric', 'electricity', 'electronics', 'elite', 'elizabeth', 'ellen', 'elon', 'email', 'emails', 'emc', 'emerges', 'emerging', 'emoji', 'emojis', 'empire', 'employee', 'employees', 'encouraged', 'encryption', 'end', 'endangered', 'enemies', 'energous', 'energy', 'enforcement', 'engine', 'engineer', 'engineering', 'engineers', 'england', 'english', 'enhance', 'enjoyed', 'enormous', 'enter', 'enterprise', 'enters', 'entertainment', 'entire', 'entrepreneurs', 'entry', 'environment', 'envisions', 'epic', 'equal', 'equity', 'era', 'eric', 'error', 'esa', 'escape', 'espn', 'esports', 'essay', 'essential', 'estate', 'estimates', 'etf', 'etfs', 'etsy', 'eu', 'europe', 'european', 'eus', 'ev', 'event', 'eventure', 'everybody', 'evil', 'evti', 'examining', 'exchange', 'exclusive', 'exdividend', 'exec', 'execs', 'executive', 'executives', 'exgoogle', 'exists', 'expand', 'expanded', 'expanding', 'expands', 'expansion', 'expect', 'expectations', 'expected', 'expecting', 'expects', 'expedia', 'expensive', 'experience', 'experiment', 'experimental', 'expert', 'experts', 'explain', 'explained', 'explains', 'exploration', 'explore', 'explorer', 'explores', 'explosion', 'exposed', 'exposure', 'express', 'extend', 'extends', 'extensions', 'extra', 'extreme', 'extremism', 'extremist', 'exxon', 'eye', 'eyeing', 'eyes', 'eyetracking', 'faa', 'faang', 'fabric', 'face', 'facebook', 'facebooks', 'faces', 'facing', 'factors', 'factory', 'facts', 'factset', 'fading', 'fail', 'failed', 'failing', 'fails', 'failure', 'fair', 'fake', 'fall', 'fallen', 'falling', 'falls', 'families', 'family', 'famous', 'fan', 'fancy', 'fang', 'fangs', 'fans', 'fantastic', 'fantasy', 'fargo', 'farm', 'fashion', 'fast', 'faster', 'fastest', 'fat', 'fate', 'favor', 'favorite', 'fb', 'fbi', 'fcc', 'fccs', 'fda', 'fds', 'fdx', 'fear', 'fears', 'feature', 'features', 'february', 'fed', 'fedex', 'feds', 'fee', 'feed', 'feedback', 'feeling', 'fees', 'feet', 'female', 'feminist', 'fend', 'festival', 'feud', 'feye', 'fi', 'fiat', 'fiber', 'fibers', 'fiction', 'fidelity', 'field', 'fifth', 'fight', 'fighting', 'fights', 'file', 'files', 'filings', 'filming', 'films', 'final', 'finance', 'financial', 'financing', 'finding', 'finds', 'fine', 'fines', 'finish', 'fintech', 'fired', 'fireeye', 'firefox', 'fires', 'firewall', 'firm', 'firms', 'firstquarter', 'fiscal', 'fish', 'fishers', 'fit', 'fitbit', 'fitbits', 'fitx', 'fix', 'fixes', 'fixing', 'flag', 'flags', 'flares', 'flash', 'flat', 'flaw', 'flaws', 'fleet', 'flexible', 'flight', 'flights', 'floating', 'flocking', 'flop', 'florida', 'flows', 'floyd', 'fly', 'flying', 'focus', 'focuses', 'follow', 'following', 'follows', 'font', 'food', 'foods', 'fool', 'footprint', 'forbes', 'force', 'forced', 'forces', 'ford', 'forecast', 'forecasts', 'foreign', 'forget', 'forgotten', 'form', 'format', 'formation', 'forming', 'forms', 'fort', 'fortune', 'fossil', 'foundation', 'founder', 'founders', 'fourth', 'fox', 'foxconn', 'frame', 'france', 'francisco', 'frank', 'fraud', 'free', 'freeform', 'french', 'frenzy', 'fresh', 'friday', 'friend', 'friendly', 'friends', 'frightening', 'frontier', 'ftc', 'fuel', 'fuels', 'fun', 'fund', 'fundamentals', 'funding', 'fundraising', 'funds', 'funerals', 'funny', 'future', 'futures', 'futuristic', 'gaap', 'gabriel', 'gadgets', 'gain', 'gains', 'galaxy', 'gamble', 'gambling', 'game', 'games', 'gaming', 'gap', 'garden', 'gas', 'gates', 'gay', 'ge', 'gears', 'gender', 'gene', 'general', 'generate', 'generation', 'generations', 'genetic', 'genius', 'geniuses', 'george', 'geovax', 'german', 'germany', 'gets', 'getting', 'ghost', 'giant', 'giants', 'gifs', 'gigabit', 'gigafactory', 'gilead', 'girl', 'girlfriend', 'girls', 'github', 'given', 'gives', 'giving', 'glass', 'glasses', 'glimpse', 'global', 'globe', 'glory', 'gluu', 'gm', 'gmail', 'gms', 'goal', 'godaddy', 'goes', 'going', 'gold', 'golden', 'goldman', 'gone', 'good', 'goodbye', 'goods', 'goog', 'googl', 'google', 'googlebacked', 'googleparent', 'googleplex', 'googlers', 'googles', 'gopro', 'gopros', 'got', 'gotten', 'government', 'governments', 'governor', 'govt', 'govx', 'gpro', 'grab', 'grabs', 'grace', 'grads', 'grammar', 'grand', 'grant', 'graphene', 'grave', 'gravity', 'great', 'greater', 'green', 'greene', 'greyball', 'grill', 'groceries', 'grocery', 'grog', 'grogenesis', 'ground', 'group', 'groupon', 'groups', 'grow', 'growing', 'grows', 'growth', 'grpn', 'grub', 'grubhub', 'gs', 'guess', 'guest', 'guidance', 'guide', 'guild', 'gun', 'gundlach', 'gunning', 'guns', 'guru', 'gutted', 'guy', 'guys', 'gv', 'hack', 'hacked', 'hackers', 'hacking', 'hacks', 'half', 'halloween', 'halt', 'halts', 'halvorsens', 'hand', 'handing', 'hands', 'handwriting', 'happened', 'happens', 'happy', 'harassment', 'hard', 'harder', 'hardware', 'harness', 'harry', 'hate', 'haters', 'hathaway', 'haunt', 'havent', 'hawkins', 'hbo', 'hbos', 'head', 'headaches', 'headed', 'heading', 'headlines', 'headquarters', 'heads', 'headset', 'headsets', 'headtohead', 'health', 'healthcare', 'hear', 'heard', 'hearing', 'heart', 'heat', 'heats', 'hed', 'hedge', 'hedgefund', 'held', 'helm', 'help', 'helped', 'helping', 'helps', 'hemp', 'heres', 'hero', 'hertz', 'hes', 'hesitation', 'hewlettpackard', 'hey', 'hidden', 'hide', 'hiding', 'high', 'higher', 'highest', 'highestpaid', 'highgrowth', 'highlight', 'highlights', 'highs', 'hightech', 'hike', 'hillary', 'himax', 'hint', 'hints', 'hire', 'hired', 'hires', 'hiring', 'history', 'hit', 'hitech', 'hits', 'hitting', 'hiv', 'hk', 'hoard', 'hockey', 'hold', 'holders', 'holding', 'holdings', 'holds', 'holiday', 'holidays', 'hollywood', 'holmes', 'hololens', 'home', 'homekit', 'homeless', 'homes', 'honda', 'honeywell', 'hong', 'hope', 'hopes', 'horowitz', 'horse', 'host', 'hosts', 'hot', 'hotspotsand', 'hottest', 'hour', 'hours', 'house', 'housing', 'hp', 'hpq', 'hps', 'hq', 'hr', 'htc', 'huawei', 'hub', 'huge', 'hulk', 'hulu', 'human', 'humanity', 'humanitys', 'humanoid', 'humans', 'hunt', 'hunter', 'hunts', 'hurdles', 'hurt', 'hurting', 'hybrid', 'hype', 'iac', 'ibm', 'ibms', 'ice', 'icld', 'iconic', 'id', 'idea', 'ideas', 'identity', 'ignore', 'igp', 'ii', 'illegal', 'im', 'image', 'imagery', 'images', 'imagine', 'imaging', 'immelt', 'immigration', 'impact', 'impacting', 'important', 'impossible', 'improve', 'improvement', 'inapp', 'incar', 'incentives', 'inch', 'inches', 'include', 'included', 'includes', 'including', 'income', 'incorporated', 'increase', 'increased', 'increases', 'incredible', 'incs', 'index', 'india', 'indian', 'indians', 'indias', 'indonesia', 'indonesian', 'indonesias', 'industrial', 'industries', 'industry', 'industrys', 'inequality', 'infinity', 'influential', 'information', 'infotainment', 'infringement', 'inhabitats', 'initiative', 'inks', 'innovation', 'innovations', 'innovative', 'input', 'inrix', 'inside', 'insider', 'insiders', 'insight', 'insights', 'insists', 'inspire', 'inspired', 'instagram', 'install', 'installs', 'instant', 'institute', 'instruments', 'insurance', 'insurers', 'intc', 'integration', 'intel', 'intelligence', 'intels', 'intent', 'interactive', 'intercloud', 'interested', 'interesting', 'international', 'internet', 'internships', 'interview', 'intl', 'intrinsic', 'introduces', 'intuitive', 'inventor', 'invest', 'invested', 'investigate', 'investigation', 'investing', 'investment', 'investments', 'investor', 'investors', 'invests', 'ios', 'iot', 'iowa', 'ipad', 'ipads', 'iphone', 'iphones', 'ipo', 'ipos', 'ira', 'irs', 'isis', 'islamic', 'isnt', 'israeli', 'issue', 'issues', 'issuing', 'italy', 'itunes', 'jack', 'jaguar', 'jailbreak', 'james', 'january', 'japan', 'japanese', 'japans', 'jason', 'jay', 'jeb', 'jeff', 'jefferies', 'jetcom', 'jewish', 'jigsaw', 'jim', 'jmp', 'jnj', 'job', 'jobs', 'john', 'johnson', 'join', 'joining', 'joins', 'joint', 'joke', 'jones', 'joseph', 'journal', 'jp', 'jpmorgan', 'judge', 'juicero', 'july', 'jump', 'jumps', 'june', 'justice', 'kagan', 'kalanick', 'kanye', 'kardashian', 'karma', 'kate', 'keeping', 'keeps', 'ken', 'kept', 'kevin', 'key', 'keyboard', 'keys', 'kick', 'kickstarter', 'kids', 'kill', 'killed', 'killer', 'killers', 'killing', 'kills', 'kim', 'kindergarten', 'king', 'kings', 'kirin', 'kit', 'kleiner', 'knew', 'know', 'known', 'knows', 'ko', 'kongs', 'kordestani', 'korea', 'korean', 'la', 'lab', 'label', 'labels', 'labor', 'labs', 'lady', 'land', 'landing', 'lands', 'landscape', 'language', 'languages', 'large', 'largecap', 'largest', 'larry', 'las', 'laser', 'late', 'latest', 'launch', 'launched', 'launches', 'launching', 'law', 'lawmakers', 'lawrence', 'lawsuit', 'lay', 'layoffs', 'lays', 'lbs', 'lead', 'leader', 'leaders', 'leadership', 'leading', 'leads', 'league', 'leaked', 'leaks', 'leaner', 'leap', 'leaps', 'learn', 'learned', 'learning', 'learns', 'lease', 'leave', 'leaves', 'leaving', 'led', 'lee', 'left', 'legal', 'legendary', 'legislation', 'lender', 'lenovo', 'lenovos', 'lens', 'lesson', 'lessons', 'let', 'lets', 'letter', 'letters', 'level', 'lg', 'lgbi', 'lgbt', 'libraries', 'license', 'licensing', 'lidar', 'life', 'lifelike', 'lift', 'lifted', 'light', 'lights', 'like', 'likely', 'likes', 'limbs', 'limelight', 'limit', 'limited', 'lincoln', 'line', 'lineal', 'lines', 'lineup', 'linkedin', 'links', 'liquidmetal', 'list', 'listing', 'lithium', 'little', 'live', 'lives', 'living', 'llc', 'lnkd', 'loads', 'loan', 'loans', 'lobbying', 'local', 'location', 'locationsharing', 'loebs', 'logistics', 'logo', 'logs', 'london', 'long', 'longest', 'longterm', 'longtime', 'look', 'looked', 'looking', 'looks', 'looms', 'loon', 'loop', 'lord', 'los', 'lose', 'loser', 'losers', 'loses', 'losing', 'loss', 'losses', 'lost', 'lot', 'lots', 'love', 'loves', 'low', 'lowaltitude', 'lowcost', 'lower', 'lowest', 'lowincome', 'lows', 'loyalty', 'lp', 'lqmt', 'ltds', 'luck', 'lucrative', 'lulu', 'lululemon', 'lunch', 'lure', 'luxury', 'lyft', 'lynch', 'lyndacom', 'machine', 'machines', 'macro', 'madison', 'madness', 'mafia', 'magazine', 'magic', 'magna', 'main', 'mainstream', 'major', 'make', 'makeover', 'maker', 'makers', 'makes', 'making', 'male', 'malware', 'man', 'manage', 'management', 'manager', 'mantra', 'manufacturing', 'map', 'mapping', 'maps', 'marc', 'march', 'margin', 'margins', 'mariah', 'marijuana', 'marines', 'mario', 'maris', 'marissa', 'mark', 'market', 'marketers', 'marketing', 'marketplace', 'markets', 'marks', 'marriage', 'married', 'mars', 'marvel', 'mary', 'maryjane', 'mason', 'mass', 'massive', 'massroots', 'master', 'mastercard', 'masters', 'masturbation', 'match', 'materials', 'math', 'mattel', 'matter', 'matters', 'mayer', 'mayweather', 'mcdonalds', 'mean', 'meaning', 'means', 'measure', 'media', 'medias', 'medical', 'medicine', 'medtronic', 'meet', 'meeting', 'meets', 'members', 'memo', 'memory', 'men', 'mental', 'merchants', 'mercy', 'merger', 'mergers', 'merrill', 'mess', 'message', 'messages', 'messaging', 'messenger', 'metrics', 'mexico', 'mi', 'mice', 'michael', 'micro', 'micron', 'microsoft', 'microsofts', 'miguel', 'mike', 'mile', 'miles', 'milestones', 'military', 'millennial', 'millennials', 'millions', 'mind', 'minds', 'mini', 'mining', 'minivans', 'minority', 'minutes', 'miss', 'missed', 'misses', 'missing', 'mission', 'mistake', 'mistakes', 'mit', 'mits', 'mix', 'mixed', 'mjmj', 'mjna', 'mo', 'mobile', 'mobiles', 'mobileye', 'mobility', 'mode', 'model', 'models', 'modem', 'modern', 'modular', 'mogul', 'mohnish', 'molten', 'mom', 'moments', 'momentum', 'moms', 'monday', 'mondays', 'monetize', 'money', 'monitor', 'monitoring', 'monopoly', 'monster', 'month', 'monthly', 'months', 'monument', 'moodys', 'moon', 'moonshot', 'moonshots', 'moores', 'morgan', 'morning', 'moroccan', 'mortgage', 'mosquito', 'mosquitoes', 'mother', 'mothers', 'motive', 'motley', 'moto', 'motor', 'motorola', 'motorolas', 'motors', 'mountain', 'mourns', 'mous', 'movement', 'moves', 'movie', 'movies', 'moving', 'mr', 'msft', 'mu', 'muefflings', 'mugged', 'multinationals', 'multiple', 'museum', 'music', 'musical', 'musicians', 'musk', 'musks', 'muslim', 'mustown', 'mustsee', 'muted', 'mutual', 'mystery', 'myth', 'myths', 'nabs', 'named', 'names', 'nan', 'nanotech', 'nantucket', 'nasa', 'nasas', 'nascar', 'nasdaq', 'nation', 'national', 'natural', 'nba', 'nbty', 'nd', 'near', 'nears', 'nebia', 'need', 'needed', 'needlefree', 'needles', 'needs', 'neighborhood', 'neil', 'nest', 'nests', 'net', 'netflix', 'network', 'networking', 'networks', 'neutrality', 'nevada', 'new', 'newer', 'newest', 'news', 'newspaper', 'nextgen', 'nextgeneration', 'nfl', 'nflx', 'niantic', 'nice', 'niche', 'night', 'nike', 'nintendo', 'nintendos', 'nke', 'nobrainer', 'nod', 'nok', 'nokia', 'nokias', 'nongaap', 'note', 'notice', 'nov', 'novartis', 'novel', 'nsa', 'ntek', 'ntv', 'nuance', 'nuclear', 'number', 'numbers', 'nurses', 'nutrition', 'nv', 'nvda', 'nvidia', 'nvidias', 'nvs', 'nw', 'nxp', 'ny', 'nyc', 'nyse', 'nysearca', 'nysemkt', 'oakland', 'obama', 'obamacare', 'obsessed', 'ocean', 'oculus', 'odds', 'offensive', 'offer', 'offered', 'offering', 'offers', 'office', 'officer', 'official', 'oil', 'ok', 'okay', 'old', 'ole', 'oled', 'omid', 'ondemand', 'ones', 'ongoing', 'online', 'ontario', 'open', 'opening', 'opens', 'operating', 'operations', 'opinion', 'opportunities', 'opportunity', 'oppose', 'optimism', 'option', 'options', 'oracle', 'orbital', 'orbitz', 'orcl', 'order', 'orders', 'oreo', 'organic', 'organizations', 'original', 'orlando', 'os', 'oscar', 'osl', 'oslh', 'otc', 'otcbb', 'otcmkts', 'otto', 'outage', 'outlook', 'outpace', 'outperforming', 'outrage', 'outside', 'overall', 'overcome', 'overlook', 'overseas', 'oversight', 'oversold', 'overtake', 'overtakes', 'overturn', 'overvalued', 'overview', 'owner', 'owners', 'ownership', 'owns', 'pabrais', 'pace', 'pacific', 'package', 'packages', 'pacman', 'pact', 'page', 'pages', 'paid', 'pain', 'pakistan', 'pandora', 'pandoras', 'panel', 'panels', 'panic', 'pans', 'pao', 'paper', 'parabolic', 'parade', 'paradise', 'parcel', 'parent', 'parental', 'parents', 'paris', 'park', 'partner', 'partners', 'partnership', 'partnerships', 'parts', 'party', 'pass', 'passed', 'passengers', 'passes', 'passing', 'past', 'patch', 'patent', 'patents', 'path', 'patience', 'patient', 'paul', 'pay', 'payday', 'paying', 'payment', 'payments', 'paypal', 'paypals', 'payroll', 'pays', 'pc', 'pcln', 'pcs', 'pct', 'peak', 'pebble', 'peek', 'peg', 'peninsula', 'penny', 'pension', 'pentagon', 'pentagons', 'people', 'pep', 'pepsico', 'percent', 'perfect', 'performance', 'performing', 'performs', 'periscope', 'perkins', 'person', 'personal', 'personnel', 'perspective', 'peter', 'petroleum', 'pg', 'pharma', 'pharmaceuticals', 'philippe', 'phoenix', 'phone', 'phones', 'photo', 'photos', 'photoshop', 'pichai', 'pick', 'picks', 'picture', 'pictures', 'pieces', 'pile', 'pill', 'pin', 'pinnacle', 'pinterest', 'pioneer', 'pioneering', 'piracy', 'pitch', 'pittsburgh', 'pivotal', 'pixel', 'pizza', 'place', 'places', 'plain', 'plan', 'plane', 'planet', 'planned', 'planning', 'plans', 'plant', 'platform', 'play', 'player', 'players', 'playing', 'plays', 'playstation', 'plug', 'plunge', 'poached', 'poaches', 'pod', 'poems', 'point', 'points', 'poised', 'pokemon', 'pokmon', 'police', 'policies', 'policy', 'political', 'politics', 'poll', 'pop', 'pope', 'popular', 'porat', 'portfolio', 'portfolios', 'portland', 'pose', 'poses', 'position', 'positioned', 'positions', 'positive', 'possible', 'post', 'postearnings', 'postelection', 'poster', 'posts', 'potential', 'pour', 'power', 'powered', 'powerful', 'powerhouse', 'powering', 'powers', 'powershares', 'practical', 'predictions', 'predicts', 'prefer', 'pregnant', 'premarket', 'premium', 'prepares', 'preparing', 'presidency', 'president', 'presidentelect', 'press', 'pressure', 'prevent', 'preview', 'previews', 'price', 'priceline', 'prices', 'pride', 'prime', 'printed', 'printer', 'printing', 'prints', 'privacy', 'private', 'prize', 'pro', 'probe', 'probed', 'problem', 'problems', 'proceed', 'process', 'processor', 'procter', 'product', 'production', 'products', 'professors', 'profile', 'profit', 'profitable', 'profiting', 'profits', 'program', 'progress', 'project', 'projected', 'projector', 'projects', 'promise', 'promises', 'promote', 'promotion', 'property', 'proposal', 'propose', 'proposed', 'pros', 'proshares', 'prospects', 'protect', 'protecting', 'protectionism', 'protest', 'prototype', 'prototypes', 'prove', 'provide', 'providers', 'provides', 'proving', 'public', 'publishers', 'publishing', 'pull', 'pullback', 'pulling', 'pulls', 'pump', 'purchase', 'pursuit', 'push', 'pushes', 'pushing', 'puts', 'putting', 'pypl', 'qcom', 'qorvo', 'qq', 'qualcomm', 'qualcomms', 'quality', 'quantum', 'quarter', 'quarterly', 'quarters', 'queen', 'quest', 'question', 'questions', 'quick', 'quiet', 'quit', 'quits', 'quiz', 'quotes', 'race', 'racing', 'racism', 'radar', 'radical', 'railway', 'raise', 'raised', 'raises', 'rallies', 'rally', 'ramps', 'ranking', 'ranks', 'rap', 'rapid', 'raps', 'rare', 'rate', 'rates', 'rating', 'ratings', 'ratio', 'rbc', 'reach', 'reached', 'reaches', 'reactor', 'read', 'readers', 'reading', 'reads', 'ready', 'readying', 'real', 'reality', 'realtime', 'reap', 'reason', 'reasons', 'rebel', 'rebound', 'recall', 'recap', 'receives', 'recent', 'recipe', 'recognition', 'recommendation', 'recommendations', 'recommends', 'reconsider', 'record', 'records', 'recover', 'recruiters', 'recruits', 'red', 'redesign', 'redhot', 'reflect', 'reform', 'refugees', 'regarding', 'regeneron', 'registry', 'regulations', 'regulator', 'regulators', 'reiterates', 'reits', 'rejects', 'relationship', 'release', 'releases', 'reliant', 'religious', 'remain', 'remained', 'remains', 'removal', 'remove', 'removes', 'renewable', 'rent', 'rental', 'reorganization', 'repeal', 'repeat', 'replace', 'replacement', 'replaces', 'report', 'reporting', 'reports', 'republicans', 'reputation', 'requests', 'resale', 'research', 'researcher', 'researchers', 'resign', 'resources', 'respond', 'responds', 'response', 'responsible', 'rest', 'restaurant', 'restaurants', 'restrictions', 'restructuring', 'results', 'retail', 'retailer', 'retailers', 'rethink', 'rethinks', 'retire', 'retirement', 'retrial', 'return', 'returning', 'returns', 'revamps', 'reveal', 'revealed', 'revealing', 'reveals', 'revenue', 'revenues', 'reversal', 'reverse', 'review', 'reviews', 'revisit', 'revival', 'revive', 'revolution', 'revolutionize', 'revolving', 'rewards', 'rich', 'riches', 'richest', 'ride', 'ridehailing', 'rider', 'rides', 'ridesharing', 'riding', 'rift', 'right', 'rights', 'ring', 'ringcentral', 'rip', 'ripe', 'ripping', 'rise', 'rises', 'rising', 'risk', 'risks', 'risky', 'rival', 'rivalry', 'rivals', 'rmhb', 'road', 'roadblock', 'roads', 'robbins', 'robert', 'robot', 'robotic', 'robotics', 'robots', 'rocket', 'rocky', 'roe', 'rogers', 'role', 'roll', 'roller', 'rollout', 'rolls', 'rometty', 'roof', 'room', 'root', 'roots', 'rose', 'ross', 'round', 'roundup', 'route', 'router', 'routers', 'rover', 'rowe', 'royal', 'rtls', 'rule', 'rules', 'ruling', 'rumor', 'rumored', 'rumors', 'run', 'running', 'rush', 'russia', 'russian', 'ruth', 'ryan', 'sa', 'sachs', 'safe', 'safer', 'safety', 'sagans', 'said', 'sale', 'sales', 'salesforce', 'salesforcecom', 'salesforces', 'salt', 'salvation', 'samsung', 'samsungs', 'samuel', 'san', 'sandberg', 'sanders', 'sandwich', 'sap', 'satellite', 'satisfaction', 'sativa', 'saudi', 'save', 'savings', 'savior', 'say', 'saying', 'says', 'sbfm', 'sbux', 'scaling', 'scandal', 'scarce', 'scary', 'scenarios', 'scene', 'scheduled', 'scheme', 'schmidt', 'schmidts', 'school', 'science', 'sciences', 'scientific', 'scientists', 'scoop', 'score', 'scores', 'screaming', 'screen', 'screens', 'scrutiny', 'search', 'searches', 'searching', 'season', 'seat', 'seattle', 'sec', 'second', 'secondquarter', 'secret', 'secretary', 'secretive', 'secrets', 'sector', 'sectors', 'secure', 'secures', 'security', 'seeing', 'seek', 'seeking', 'seeks', 'seen', 'sees', 'segment', 'select', 'self', 'selfdestructing', 'selfdrive', 'selfdriving', 'selfdrivingcar', 'selfie', 'sell', 'sellers', 'selling', 'selloff', 'sells', 'semiconductors', 'senate', 'send', 'sends', 'senior', 'sense', 'sentiment', 'september', 'sequoia', 'sergey', 'serial', 'series', 'servers', 'service', 'servicemax', 'services', 'session', 'set', 'sets', 'settle', 'settlement', 'settop', 'sex', 'sexism', 'sf', 'shadow', 'shake', 'shakes', 'shakeup', 'shape', 'share', 'shareholder', 'shareholders', 'shares', 'sharing', 'shark', 'sharks', 'shattering', 'sheet', 'shift', 'shifting', 'shifts', 'shine', 'shipping', 'ships', 'shoes', 'shoot', 'shooting', 'shop', 'shopify', 'shoppers', 'shopping', 'short', 'shortage', 'shortterm', 'shot', 'shouldnt', 'showcase', 'showdown', 'showing', 'shows', 'shut', 'shuts', 'shutterfly', 'shutting', 'sidelines', 'sidewalk', 'sierra', 'sight', 'sights', 'sigma', 'sign', 'signal', 'signed', 'significant', 'signs', 'silicon', 'similar', 'simple', 'sinclair', 'sing', 'singapore', 'single', 'sings', 'sink', 'sinks', 'siri', 'sirius', 'sister', 'sit', 'site', 'sites', 'size', 'sizzlers', 'skechers', 'skeptical', 'skids', 'skills', 'skin', 'skirt', 'skln', 'skx', 'skyline', 'skype', 'skyrockets', 'skys', 'skyworks', 'slack', 'slammed', 'slams', 'slaughter', 'sleep', 'slide', 'slides', 'slideshow', 'slim', 'sling', 'slow', 'slowing', 'sma', 'small', 'smallcap', 'smaller', 'smart', 'smarter', 'smartest', 'smartglasses', 'smartphone', 'smartphones', 'smarts', 'smartwatch', 'smartwatches', 'smells', 'smile', 'smoking', 'sms', 'snack', 'snags', 'snap', 'snapchat', 'snapchatlike', 'snapchats', 'snapping', 'snaps', 'snapshot', 'snatches', 'sndk', 'sneak', 'snippets', 'snl', 'snowden', 'snubs', 'soar', 'soared', 'soaring', 'soars', 'social', 'socialmedia', 'softbanks', 'software', 'solar', 'solarpowered', 'solarwindow', 'sold', 'sole', 'solid', 'solos', 'solution', 'solutions', 'solve', 'son', 'song', 'sony', 'sophisticated', 'soros', 'sorry', 'sort', 'soul', 'sounds', 'soup', 'source', 'sources', 'south', 'southeast', 'southeastern', 'space', 'spacecraft', 'spacex', 'spacexs', 'spanish', 'spark', 'speaker', 'speakers', 'speaks', 'special', 'specialist', 'spectacles', 'speculated', 'speech', 'speed', 'spell', 'spelling', 'spend', 'spenders', 'spending', 'spin', 'spinoff', 'spins', 'split', 'sponsor', 'sports', 'spot', 'spotify', 'spotlight', 'spotted', 'spotting', 'spread', 'spreads', 'spree', 'spring', 'sprint', 'spy', 'spying', 'spyware', 'sq', 'square', 'squeeze', 'stability', 'stack', 'staff', 'stage', 'stake', 'stakes', 'stall', 'stalling', 'stalls', 'stamp', 'stand', 'standalone', 'standards', 'standing', 'stands', 'stanford', 'stanley', 'stanleys', 'star', 'starbucks', 'stars', 'start', 'started', 'starting', 'starts', 'startup', 'startups', 'state', 'states', 'stations', 'stats', 'stay', 'steady', 'steal', 'stealth', 'steam', 'steel', 'steering', 'stem', 'step', 'stephen', 'steps', 'steve', 'stick', 'stiff', 'stock', 'stockmarket', 'stocks', 'stole', 'stolen', 'stop', 'stopped', 'stops', 'storage', 'store', 'stores', 'stories', 'storm', 'story', 'straight', 'strategic', 'strategies', 'strategist', 'strategy', 'stream', 'streaming', 'streams', 'street', 'streets', 'strength', 'stricker', 'strides', 'strike', 'strikes', 'strong', 'stronger', 'structure', 'structures', 'struggle', 'struggles', 'struggling', 'stuck', 'student', 'students', 'studies', 'studio', 'study', 'studying', 'stuff', 'stumble', 'stumbles', 'stunning', 'style', 'subscriber', 'subscribers', 'subscription', 'subscriptions', 'subsidiary', 'succeed', 'success', 'successful', 'sue', 'sued', 'sues', 'suffer', 'suggestions', 'suggests', 'suisse', 'suit', 'suitors', 'summer', 'summit', 'sun', 'sundar', 'sunedison', 'sunshine', 'super', 'supercomputer', 'superfast', 'superior', 'supervalu', 'supplier', 'supply', 'support', 'supporters', 'supporting', 'supremacists', 'supreme', 'sure', 'surface', 'surge', 'surgery', 'surges', 'surgical', 'surging', 'surpass', 'surpasses', 'surprise', 'surprised', 'surprising', 'surveillance', 'survey', 'survival', 'survive', 'sustainability', 'sustainable', 'svu', 'sweat', 'sweet', 'swift', 'swings', 'switch', 'symantec', 'symphony', 'synthetic', 'systems', 'tab', 'table', 'tablet', 'tablets', 'tackle', 'taiwan', 'taiwans', 'takeaways', 'takeout', 'takeover', 'takes', 'taking', 'tale', 'talent', 'talk', 'talking', 'talks', 'tank', 'tanking', 'tap', 'tape', 'tapped', 'tapping', 'taps', 'target', 'targeting', 'targets', 'task', 'tasks', 'taste', 'tattoo', 'taught', 'tax', 'taxes', 'taxi', 'taxis', 'taxmanaged', 'taylor', 'tea', 'teach', 'teachers', 'teaches', 'teaching', 'team', 'teams', 'teases', 'tech', 'technical', 'technologies', 'technology', 'techs', 'ted', 'telcos', 'telecom', 'telecoms', 'television', 'tell', 'telling', 'tells', 'tencent', 'tensor', 'teppers', 'term', 'terms', 'terra', 'terrence', 'terrible', 'territory', 'terrorists', 'tesla', 'test', 'tested', 'testing', 'tests', 'teva', 'texas', 'text', 'thanks', 'thats', 'themes', 'theories', 'theory', 'theranos', 'therapeutics', 'theres', 'thermostat', 'theyre', 'theyve', 'thiel', 'thing', 'things', 'think', 'thinking', 'thinks', 'thought', 'thoughts', 'thousands', 'threat', 'threaten', 'threatened', 'threatens', 'threats', 'thrive', 'throttling', 'throws', 'thursday', 'ticking', 'tidal', 'ties', 'tiger', 'tightens', 'tim', 'time', 'timeline', 'times', 'timing', 'tiny', 'tipping', 'tips', 'titan', 'titans', 'title', 'tivo', 'tizen', 'tmobile', 'tmus', 'today', 'todays', 'toll', 'ton', 'tonight', 'tony', 'took', 'tool', 'tools', 'topranked', 'tops', 'toronto', 'toshiba', 'total', 'touch', 'tough', 'tougher', 'tour', 'tower', 'town', 'toy', 'toyota', 'toys', 'track', 'tracker', 'tracking', 'tracks', 'trade', 'trademark', 'traders', 'trades', 'trading', 'traffic', 'train', 'training', 'transaction', 'transcript', 'transfer', 'transformation', 'transformative', 'transforms', 'transgender', 'transit', 'transition', 'translate', 'translation', 'transparency', 'transportation', 'trash', 'travel', 'treat', 'tree', 'trend', 'trending', 'trends', 'trial', 'tribune', 'trick', 'tricks', 'tried', 'tries', 'trimmed', 'trims', 'trip', 'tripadvisor', 'trippingcom', 'trolls', 'tronc', 'trouble', 'trtc', 'truck', 'trucking', 'trucks', 'true', 'trump', 'trumps', 'trust', 'truth', 'try', 'trying', 'ts', 'tsla', 'tuesday', 'tumble', 'tumblr', 'turbines', 'turf', 'turmoil', 'turn', 'turnaround', 'turned', 'turning', 'turnover', 'turns', 'tv', 'tvs', 'tweets', 'twilio', 'twitch', 'twitter', 'twitters', 'twlo', 'twtr', 'tx', 'type', 'typeface', 'tyson', 'ua', 'uaa', 'uber', 'ubers', 'ubs', 'uk', 'ukrainian', 'ultimate', 'ultra', 'unbelievable', 'uncertainty', 'underappreciated', 'underestimating', 'underowned', 'understand', 'understanding', 'undervalued', 'unexpected', 'unicorn', 'unicorns', 'union', 'unit', 'unite', 'united', 'units', 'universal', 'universe', 'universities', 'university', 'unleash', 'unleashes', 'unlikely', 'unlimited', 'unplugged', 'unstoppable', 'unusual', 'unveil', 'unveils', 'upcoming', 'update', 'updated', 'updates', 'upgrade', 'upgraded', 'upgrades', 'uphill', 'ups', 'upside', 'urge', 'urged', 'urges', 'usa', 'usd', 'use', 'used', 'useful', 'user', 'users', 'uses', 'using', 'valeant', 'valley', 'valleys', 'valmie', 'valuable', 'valuation', 'valuations', 'value', 'valued', 'van', 'vance', 'vanguard', 'vapor', 'vc', 'veev', 'veeva', 'vegas', 'vehicle', 'vehicles', 'venture', 'ventures', 'verb', 'verdict', 'verge', 'verizon', 'version', 'versus', 'veteran', 'veterans', 'vets', 'vevo', 'viacom', 'victims', 'victory', 'video', 'videos', 'vietnam', 'vietnams', 'view', 'viewers', 'viewing', 'views', 'viking', 'village', 'vine', 'violence', 'viral', 'virgin', 'virginia', 'virnetx', 'virtual', 'virtualreality', 'visa', 'visas', 'vision', 'visual', 'vital', 'vive', 'vix', 'vmri', 'vmw', 'vmware', 'voice', 'vois', 'volatile', 'volatility', 'volcano', 'volkswagen', 'volume', 'volvo', 'von', 'vote', 'votes', 'voting', 'vox', 'vp', 'vr', 'vs', 'vsp', 'vulnerability', 'vulnerable', 'vz', 'wage', 'wait', 'waiting', 'waive', 'wake', 'walk', 'walker', 'walking', 'wall', 'wallet', 'walmart', 'walt', 'want', 'wants', 'war', 'warehouses', 'warn', 'warner', 'warning', 'warns', 'warren', 'wars', 'washington', 'wasnt', 'watch', 'watchdog', 'watches', 'watching', 'water', 'watson', 'wave', 'way', 'waymo', 'ways', 'waze', 'wdhr', 'weak', 'weakness', 'wealth', 'wealthiest', 'weapon', 'weapons', 'wear', 'wearable', 'wearables', 'web', 'webcast', 'webpass', 'website', 'websites', 'webtv', 'wedding', 'wednesday', 'weed', 'weedhire', 'week', 'weekend', 'weeks', 'weigh', 'weird', 'welcome', 'wells', 'went', 'west', 'western', 'weve', 'whats', 'whatsapp', 'wheels', 'white', 'whitman', 'whos', 'wide', 'widens', 'wife', 'wifi', 'wikileaks', 'wild', 'wilder', 'william', 'willing', 'win', 'wind', 'window', 'windows', 'wing', 'winner', 'winners', 'winning', 'wins', 'winwin', 'wireless', 'withdraws', 'wndw', 'woes', 'woman', 'women', 'wonder', 'wont', 'woo', 'word', 'words', 'work', 'workday', 'worker', 'workers', 'working', 'workplace', 'works', 'world', 'worlds', 'worldwide', 'worried', 'worries', 'worry', 'worse', 'worst', 'worth', 'wozniak', 'wpp', 'wrap', 'write', 'writing', 'wrong', 'wsj', 'wwdc', 'wyoming', 'xbox', 'xiaomi', 'xm', 'xs', 'xxii', 'xyz', 'yahoo', 'yahoos', 'yandex', 'year', 'yearold', 'years', 'yelp', 'yelps', 'yhoo', 'yield', 'yndx', 'york', 'youll', 'young', 'youre', 'youtube', 'youtubes', 'youve', 'zacks', 'zenefits', 'zillow', 'zombie', 'zoom', 'zoox', 'zuckerberg', 'zuckerbergs', 'zynerba', 'zynga']\n"
     ]
    }
   ],
   "source": [
    "## TF-IDF\n",
    "tfidf_vectorizer = TfidfVectorizer(min_df=2,max_df=1000,stop_words='english')\n",
    "tfidf = tfidf_vectorizer.fit_transform(data['Headlines'])\n",
    "tfidf_feature_names = tfidf_vectorizer.get_feature_names()\n",
    "print(tfidf_feature_names)"
   ]
  },
  {
   "cell_type": "markdown",
   "metadata": {},
   "source": [
    "### Finding topics with LDA"
   ]
  },
  {
   "cell_type": "code",
   "execution_count": 34,
   "metadata": {},
   "outputs": [
    {
     "data": {
      "text/plain": [
       "LatentDirichletAllocation(batch_size=128, doc_topic_prior=None,\n",
       "             evaluate_every=-1, learning_decay=0.7,\n",
       "             learning_method='online', learning_offset=10.0,\n",
       "             max_doc_update_iter=100, max_iter=10, mean_change_tol=0.001,\n",
       "             n_components=20, n_jobs=1, n_topics=None, perp_tol=0.1,\n",
       "             random_state=1, topic_word_prior=None,\n",
       "             total_samples=1000000.0, verbose=0)"
      ]
     },
     "execution_count": 34,
     "metadata": {},
     "output_type": "execute_result"
    }
   ],
   "source": [
    "lda = LatentDirichletAllocation(n_components, learning_method='online', random_state=1)\n",
    "lda.fit(tf)"
   ]
  },
  {
   "cell_type": "code",
   "execution_count": 35,
   "metadata": {},
   "outputs": [
    {
     "name": "stdout",
     "output_type": "stream",
     "text": [
      "\n",
      "Topics in LDA model:\n",
      "Topic #0: company atvi blizzard activision industry inside house download cell ios\n",
      "Topic #1: google stock mobile nyc best look apple law service uber\n",
      "Topic #2: watch great ceo twitter dorsey change help jack apple wants\n",
      "Topic #3: path ebay improvement york companies boast backs nasa power acquired\n",
      "Topic #4: leaps understand days inside otcmkts google infinity examining enters millennial\n",
      "Topic #5: otcmkts google stock apple happened market facebook new corp news\n",
      "Topic #6: korean used dropped multinationals sling looking smart japanese finds kids\n",
      "Topic #7: lynch merrill uses black ebay jeff motorolas endangered moto nation\n",
      "Topic #8: google stock apple tech facebook buy stocks new big amazon\n",
      "Topic #9: researchers ipo things boss mind shopify know office maker software\n",
      "Topic #10: sex protecting marks hulk australia unicorns viewing sidewalk tape english\n",
      "Topic #11: game online taylor play street nysearca proshares ag taxi ditches\n",
      "Topic #12: enterprise help investors smart whitman hps reactor novel ukrainian answers\n",
      "Topic #13: otcbb market iconic ad otcmkts explains smartwatches spotlight sony spacecraft\n",
      "Topic #14: nbty otcmkts code growth driverless acquisitions mayer failure security cars\n",
      "Topic #15: changing wireless group cmo carrier learned fi hires competitor exclusive\n",
      "Topic #16: alphabet google stock googl apple new facebook googles stocks goog\n",
      "Topic #17: human lithium arrested interactive scientific safer mess appoints thinking walking\n",
      "Topic #18: nan week tech google amazon valley silicon china prime inhabitats\n",
      "Topic #19: otcmkts mjmj maryjane scoop design want inside sneak depart nutrition\n",
      "\n"
     ]
    }
   ],
   "source": [
    "print(\"\\nTopics in LDA model:\")\n",
    "print_top_words(lda, tf_feature_names, n_top_words)"
   ]
  },
  {
   "cell_type": "code",
   "execution_count": 36,
   "metadata": {},
   "outputs": [
    {
     "data": {
      "text/plain": [
       "LatentDirichletAllocation(batch_size=128, doc_topic_prior=None,\n",
       "             evaluate_every=-1, learning_decay=0.7,\n",
       "             learning_method='online', learning_offset=10.0,\n",
       "             max_doc_update_iter=100, max_iter=10, mean_change_tol=0.001,\n",
       "             n_components=20, n_jobs=1, n_topics=None, perp_tol=0.1,\n",
       "             random_state=1, topic_word_prior=None,\n",
       "             total_samples=1000000.0, verbose=0)"
      ]
     },
     "execution_count": 36,
     "metadata": {},
     "output_type": "execute_result"
    }
   ],
   "source": [
    "lda = LatentDirichletAllocation(n_components, learning_method='online', random_state=1)\n",
    "lda.fit(tfidf)"
   ]
  },
  {
   "cell_type": "code",
   "execution_count": 37,
   "metadata": {},
   "outputs": [
    {
     "name": "stdout",
     "output_type": "stream",
     "text": [
      "\n",
      "Topics in LDA model:\n",
      "Topic #0: computing nan good ii hearing music position raises new general\n",
      "Topic #1: biopharma sbfm sunshine google stock alphabet apple new googl tech\n",
      "Topic #2: poster child hiv carey google conversation loan mariah app better\n",
      "Topic #3: technology google monthly company learns swift taylor hbo women internet\n",
      "Topic #4: community nan partnerships facebook ces hints la webtv earn supplier\n",
      "Topic #5: grog pao ellen grogenesis sister brown governor dies godaddy xs\n",
      "Topic #6: nan google dont products googles mobile new talk alphabet dating\n",
      "Topic #7: nan answers hope page effective strategist quiz ruth electric institute\n",
      "Topic #8: season otcmkts teaches new epic googles alphabet ipo project person\n",
      "Topic #9: otcmkts holdings future zuckerberg america cutting nan looking look world\n",
      "Topic #10: apple google facebook ads intelligence company investors rocket help allo\n",
      "Topic #11: nan ocean paradise spread floating pope dilemma cells couple trash\n",
      "Topic #12: google small compete alphabet facebook businesses project company nke problem\n",
      "Topic #13: google apple alphabet stock new amazon youtube galaxy ceo know\n",
      "Topic #14: alphabet google stock googl apple nan facebook new stocks tech\n",
      "Topic #15: google know otcmkts investors need closed competitive advantages plans new\n",
      "Topic #16: font google mice sorry als otcmkts hitech humanity territory madness\n",
      "Topic #17: google characters slides lithium black battle ways parade storage boost\n",
      "Topic #18: nan deploys id sagans spacecraft carl bird ekso bionics hunt\n",
      "Topic #19: otcmkts nan creative nutrition stack otcbb scoop want apple experience\n",
      "\n"
     ]
    }
   ],
   "source": [
    "print(\"\\nTopics in LDA model:\")\n",
    "print_top_words(lda, tfidf_feature_names, n_top_words)"
   ]
  },
  {
   "cell_type": "markdown",
   "metadata": {},
   "source": [
    "### Sentiment Analysis"
   ]
  },
  {
   "cell_type": "code",
   "execution_count": 38,
   "metadata": {
    "collapsed": true
   },
   "outputs": [],
   "source": [
    "positive = pd.read_csv('positive-words.txt', names=['a'], encoding='latin-1')\n",
    "positive =  set(positive['a'].tolist())\n",
    "\n",
    "negative = pd.read_csv('negative-words.txt', names=['a'], encoding='latin-1')\n",
    "negative =  set(negative['a'].tolist())"
   ]
  },
  {
   "cell_type": "code",
   "execution_count": 39,
   "metadata": {
    "collapsed": true
   },
   "outputs": [],
   "source": [
    "count_positive = []\n",
    "count_negative = []\n",
    "for i, row in data.iterrows():\n",
    "    commonp = set(row['Headlines'].split()).intersection(positive) \n",
    "    count_positive.append(len(commonp))\n",
    "    commonn = set(row['Headlines'].split()).intersection(negative) \n",
    "    count_negative.append(len(commonn))\n"
   ]
  },
  {
   "cell_type": "code",
   "execution_count": 40,
   "metadata": {},
   "outputs": [
    {
     "data": {
      "text/html": [
       "<div>\n",
       "<style>\n",
       "    .dataframe thead tr:only-child th {\n",
       "        text-align: right;\n",
       "    }\n",
       "\n",
       "    .dataframe thead th {\n",
       "        text-align: left;\n",
       "    }\n",
       "\n",
       "    .dataframe tbody tr th {\n",
       "        vertical-align: top;\n",
       "    }\n",
       "</style>\n",
       "<table border=\"1\" class=\"dataframe\">\n",
       "  <thead>\n",
       "    <tr style=\"text-align: right;\">\n",
       "      <th></th>\n",
       "      <th>Headlines</th>\n",
       "      <th>Label</th>\n",
       "      <th>positive</th>\n",
       "      <th>negative</th>\n",
       "    </tr>\n",
       "    <tr>\n",
       "      <th>Date</th>\n",
       "      <th></th>\n",
       "      <th></th>\n",
       "      <th></th>\n",
       "      <th></th>\n",
       "    </tr>\n",
       "  </thead>\n",
       "  <tbody>\n",
       "    <tr>\n",
       "      <th>2015-01-05</th>\n",
       "      <td>microsoft corporation abandon internet explore...</td>\n",
       "      <td>0</td>\n",
       "      <td>4</td>\n",
       "      <td>1</td>\n",
       "    </tr>\n",
       "    <tr>\n",
       "      <th>2015-01-06</th>\n",
       "      <td>learning matters failure lead success wear vir...</td>\n",
       "      <td>-1</td>\n",
       "      <td>3</td>\n",
       "      <td>2</td>\n",
       "    </tr>\n",
       "    <tr>\n",
       "      <th>2015-01-07</th>\n",
       "      <td>its time google pay dividend trend worry inc i...</td>\n",
       "      <td>-1</td>\n",
       "      <td>0</td>\n",
       "      <td>2</td>\n",
       "    </tr>\n",
       "    <tr>\n",
       "      <th>2015-01-08</th>\n",
       "      <td>mythbusting netflix inc rumored vpn crackdown ...</td>\n",
       "      <td>-1</td>\n",
       "      <td>1</td>\n",
       "      <td>2</td>\n",
       "    </tr>\n",
       "    <tr>\n",
       "      <th>2015-01-09</th>\n",
       "      <td>google incs smart home strategy taking shape s...</td>\n",
       "      <td>-1</td>\n",
       "      <td>3</td>\n",
       "      <td>1</td>\n",
       "    </tr>\n",
       "  </tbody>\n",
       "</table>\n",
       "</div>"
      ],
      "text/plain": [
       "                                                    Headlines  Label  \\\n",
       "Date                                                                   \n",
       "2015-01-05  microsoft corporation abandon internet explore...      0   \n",
       "2015-01-06  learning matters failure lead success wear vir...     -1   \n",
       "2015-01-07  its time google pay dividend trend worry inc i...     -1   \n",
       "2015-01-08  mythbusting netflix inc rumored vpn crackdown ...     -1   \n",
       "2015-01-09  google incs smart home strategy taking shape s...     -1   \n",
       "\n",
       "            positive  negative  \n",
       "Date                            \n",
       "2015-01-05         4         1  \n",
       "2015-01-06         3         2  \n",
       "2015-01-07         0         2  \n",
       "2015-01-08         1         2  \n",
       "2015-01-09         3         1  "
      ]
     },
     "execution_count": 40,
     "metadata": {},
     "output_type": "execute_result"
    }
   ],
   "source": [
    "data['positive'] = count_positive\n",
    "data['negative'] = count_negative\n",
    "\n",
    "data.head()"
   ]
  },
  {
   "cell_type": "code",
   "execution_count": 41,
   "metadata": {},
   "outputs": [
    {
     "data": {
      "text/html": [
       "<div>\n",
       "<style>\n",
       "    .dataframe thead tr:only-child th {\n",
       "        text-align: right;\n",
       "    }\n",
       "\n",
       "    .dataframe thead th {\n",
       "        text-align: left;\n",
       "    }\n",
       "\n",
       "    .dataframe tbody tr th {\n",
       "        vertical-align: top;\n",
       "    }\n",
       "</style>\n",
       "<table border=\"1\" class=\"dataframe\">\n",
       "  <thead>\n",
       "    <tr style=\"text-align: right;\">\n",
       "      <th></th>\n",
       "      <th>Label</th>\n",
       "      <th>positive</th>\n",
       "      <th>negative</th>\n",
       "    </tr>\n",
       "  </thead>\n",
       "  <tbody>\n",
       "    <tr>\n",
       "      <th>count</th>\n",
       "      <td>691.000000</td>\n",
       "      <td>691.000000</td>\n",
       "      <td>691.000000</td>\n",
       "    </tr>\n",
       "    <tr>\n",
       "      <th>mean</th>\n",
       "      <td>0.046310</td>\n",
       "      <td>2.674385</td>\n",
       "      <td>2.344428</td>\n",
       "    </tr>\n",
       "    <tr>\n",
       "      <th>std</th>\n",
       "      <td>0.816956</td>\n",
       "      <td>1.627542</td>\n",
       "      <td>1.622320</td>\n",
       "    </tr>\n",
       "    <tr>\n",
       "      <th>min</th>\n",
       "      <td>-1.000000</td>\n",
       "      <td>0.000000</td>\n",
       "      <td>0.000000</td>\n",
       "    </tr>\n",
       "    <tr>\n",
       "      <th>25%</th>\n",
       "      <td>-1.000000</td>\n",
       "      <td>1.000000</td>\n",
       "      <td>1.000000</td>\n",
       "    </tr>\n",
       "    <tr>\n",
       "      <th>50%</th>\n",
       "      <td>0.000000</td>\n",
       "      <td>3.000000</td>\n",
       "      <td>2.000000</td>\n",
       "    </tr>\n",
       "    <tr>\n",
       "      <th>75%</th>\n",
       "      <td>1.000000</td>\n",
       "      <td>4.000000</td>\n",
       "      <td>3.000000</td>\n",
       "    </tr>\n",
       "    <tr>\n",
       "      <th>max</th>\n",
       "      <td>1.000000</td>\n",
       "      <td>9.000000</td>\n",
       "      <td>9.000000</td>\n",
       "    </tr>\n",
       "  </tbody>\n",
       "</table>\n",
       "</div>"
      ],
      "text/plain": [
       "            Label    positive    negative\n",
       "count  691.000000  691.000000  691.000000\n",
       "mean     0.046310    2.674385    2.344428\n",
       "std      0.816956    1.627542    1.622320\n",
       "min     -1.000000    0.000000    0.000000\n",
       "25%     -1.000000    1.000000    1.000000\n",
       "50%      0.000000    3.000000    2.000000\n",
       "75%      1.000000    4.000000    3.000000\n",
       "max      1.000000    9.000000    9.000000"
      ]
     },
     "execution_count": 41,
     "metadata": {},
     "output_type": "execute_result"
    }
   ],
   "source": [
    "data.describe()"
   ]
  },
  {
   "cell_type": "code",
   "execution_count": 45,
   "metadata": {},
   "outputs": [
    {
     "name": "stdout",
     "output_type": "stream",
     "text": [
      "247 229 215\n",
      "Percentage of positve sentiments  : 35.74529667149059 \n",
      "Percentage of neutral sentiments  : 33.140376266280754 \n",
      "Percentage of negative sentiments : 31.114327062228654 \n"
     ]
    }
   ],
   "source": [
    "data_up = data.loc[data['Label'] == 1]\n",
    "data_neu = data.loc[data['Label'] == 0]\n",
    "data_down = data.loc[data['Label'] == -1]\n",
    "print(len(data_up), len(data_neu),len(data_down))\n",
    "print(\"Percentage of positve sentiments  : %s \" % (len(data_up)* 100.0 / len(data)))\n",
    "print(\"Percentage of neutral sentiments  : %s \" % (len(data_neu)* 100.0 / len(data)))\n",
    "print(\"Percentage of negative sentiments : %s \" % (len(data_down)* 100.0 / len(data)))"
   ]
  },
  {
   "cell_type": "code",
   "execution_count": 46,
   "metadata": {},
   "outputs": [
    {
     "name": "stdout",
     "output_type": "stream",
     "text": [
      "691 691\n"
     ]
    }
   ],
   "source": [
    "#data = data_up.append(data_down)\n",
    "dataset_X = data.drop('Label',axis=1)\n",
    "dataset_y = data['Label']\n",
    "print(len(dataset_X), len(dataset_y))"
   ]
  },
  {
   "cell_type": "code",
   "execution_count": 51,
   "metadata": {},
   "outputs": [
    {
     "name": "stdout",
     "output_type": "stream",
     "text": [
      "Training dataset:\n",
      "Percentage of positive sentiments: 35.6884057971\n",
      "Percentage of neutral sentiments: 33.152173913\n",
      "Percentage of negative sentiments: 31.1594202899\n",
      "Training dataset:\n",
      "Percentage of positive sentiments: 35.9712230216\n",
      "Percentage of neutral sentiments: 33.0935251799\n",
      "Percentage of negative sentiments: 30.9352517986\n"
     ]
    }
   ],
   "source": [
    "from sklearn.ensemble import RandomForestClassifier\n",
    "from sklearn.metrics import accuracy_score, make_scorer\n",
    "from sklearn.model_selection import train_test_split, cross_val_score\n",
    "\n",
    "X_train, X_test, y_train, y_test = train_test_split(dataset_X,dataset_y,test_size=0.2,stratify=dataset_y,random_state=1)\n",
    "\n",
    "down = y_train[y_train == -1].count()\n",
    "neu = y_train[y_train == 0].count()\n",
    "up = y_train[y_train == 1].count()\n",
    "print('Training dataset:')\n",
    "print('Percentage of positive sentiments:', up*100/len(y_train))\n",
    "print('Percentage of neutral sentiments:', neu*100/len(y_train))\n",
    "print('Percentage of negative sentiments:', down*100/len(y_train))\n",
    "\n",
    "down2 = y_test[y_test == -1].count()\n",
    "neu2 = y_test[y_test == 0].count()\n",
    "up2 = y_test[y_test == 1].count()\n",
    "print('Training dataset:')\n",
    "print('Percentage of positive sentiments:', up2*100/len(y_test))\n",
    "print('Percentage of neutral sentiments:', neu2*100/len(y_test))\n",
    "print('Percentage of negative sentiments:', down2*100/len(y_test))\n",
    "\n"
   ]
  },
  {
   "cell_type": "markdown",
   "metadata": {},
   "source": [
    "### Word2Vec"
   ]
  },
  {
   "cell_type": "code",
   "execution_count": 52,
   "metadata": {
    "collapsed": true
   },
   "outputs": [],
   "source": [
    "from gensim.models import KeyedVectors\n",
    "model = KeyedVectors.load_word2vec_format('GoogleNews-vectors-negative300.bin', binary=True)"
   ]
  },
  {
   "cell_type": "code",
   "execution_count": 53,
   "metadata": {
    "collapsed": true
   },
   "outputs": [],
   "source": [
    "from gensim import matutils\n",
    "matrix_train = []\n",
    "for i in range(len(X_train)):\n",
    "    row = X_train.iloc[i,:]\n",
    "    filtered_text = [model[w] for w in row['Headlines'].split() if w in model]\n",
    "    if len(filtered_text):\n",
    "        matrix_train.append(matutils.unitvec(np.array(filtered_text).mean(axis=0)))\n"
   ]
  },
  {
   "cell_type": "code",
   "execution_count": 54,
   "metadata": {},
   "outputs": [
    {
     "name": "stdout",
     "output_type": "stream",
     "text": [
      "(552, 300)\n",
      "[[ 1.          0.83516824  0.88879676 ...,  0.86300733  0.85127626\n",
      "   0.82591915]\n",
      " [ 0.83516824  1.          0.84389732 ...,  0.84223025  0.84924325\n",
      "   0.87568103]\n",
      " [ 0.88879676  0.84389732  1.         ...,  0.86671206  0.86672214\n",
      "   0.816916  ]\n",
      " ..., \n",
      " [ 0.86300733  0.84223025  0.86671206 ...,  1.          0.84415522\n",
      "   0.84731102]\n",
      " [ 0.85127626  0.84924325  0.86672214 ...,  0.84415522  1.          0.83581096]\n",
      " [ 0.82591915  0.87568103  0.816916   ...,  0.84731102  0.83581096  1.        ]]\n"
     ]
    }
   ],
   "source": [
    "matrix_train = np.array(matrix_train)\n",
    "print(matrix_train.shape)\n",
    "sim_train = np.dot(matrix_train, matrix_train.transpose())\n",
    "print(sim_train)"
   ]
  },
  {
   "cell_type": "code",
   "execution_count": 55,
   "metadata": {},
   "outputs": [
    {
     "name": "stdout",
     "output_type": "stream",
     "text": [
      "(552, 552)\n"
     ]
    }
   ],
   "source": [
    "print(sim_train.shape)\n",
    "np.fill_diagonal(sim_train, 0)\n",
    "# simdf_train = pd.DataFrame(list(sim_train[np.triu_indices(sim_train.shape[1], 1)]))\n",
    "# simdf_train.describe()"
   ]
  },
  {
   "cell_type": "code",
   "execution_count": 56,
   "metadata": {},
   "outputs": [
    {
     "data": {
      "text/html": [
       "<div>\n",
       "<style>\n",
       "    .dataframe thead tr:only-child th {\n",
       "        text-align: right;\n",
       "    }\n",
       "\n",
       "    .dataframe thead th {\n",
       "        text-align: left;\n",
       "    }\n",
       "\n",
       "    .dataframe tbody tr th {\n",
       "        vertical-align: top;\n",
       "    }\n",
       "</style>\n",
       "<table border=\"1\" class=\"dataframe\">\n",
       "  <thead>\n",
       "    <tr style=\"text-align: right;\">\n",
       "      <th></th>\n",
       "      <th>Headlines</th>\n",
       "      <th>positive</th>\n",
       "      <th>negative</th>\n",
       "      <th>Label</th>\n",
       "    </tr>\n",
       "    <tr>\n",
       "      <th>Date</th>\n",
       "      <th></th>\n",
       "      <th></th>\n",
       "      <th></th>\n",
       "      <th></th>\n",
       "    </tr>\n",
       "  </thead>\n",
       "  <tbody>\n",
       "    <tr>\n",
       "      <th>2016-01-14</th>\n",
       "      <td>companies alphabet inc facebook inc alphabet i...</td>\n",
       "      <td>2</td>\n",
       "      <td>1</td>\n",
       "      <td>1</td>\n",
       "    </tr>\n",
       "    <tr>\n",
       "      <th>2016-09-23</th>\n",
       "      <td>priceline expedia watch google google launches...</td>\n",
       "      <td>7</td>\n",
       "      <td>1</td>\n",
       "      <td>1</td>\n",
       "    </tr>\n",
       "    <tr>\n",
       "      <th>2017-05-15</th>\n",
       "      <td>go inc googl stock money better buy google goo...</td>\n",
       "      <td>4</td>\n",
       "      <td>2</td>\n",
       "      <td>0</td>\n",
       "    </tr>\n",
       "    <tr>\n",
       "      <th>2017-06-01</th>\n",
       "      <td>analysts expecting selfdriving cars huge alpha...</td>\n",
       "      <td>3</td>\n",
       "      <td>0</td>\n",
       "      <td>-1</td>\n",
       "    </tr>\n",
       "    <tr>\n",
       "      <th>2015-08-28</th>\n",
       "      <td>watch magician propose girlfriend magic trick ...</td>\n",
       "      <td>4</td>\n",
       "      <td>2</td>\n",
       "      <td>-1</td>\n",
       "    </tr>\n",
       "  </tbody>\n",
       "</table>\n",
       "</div>"
      ],
      "text/plain": [
       "                                                    Headlines  positive  \\\n",
       "Date                                                                      \n",
       "2016-01-14  companies alphabet inc facebook inc alphabet i...         2   \n",
       "2016-09-23  priceline expedia watch google google launches...         7   \n",
       "2017-05-15  go inc googl stock money better buy google goo...         4   \n",
       "2017-06-01  analysts expecting selfdriving cars huge alpha...         3   \n",
       "2015-08-28  watch magician propose girlfriend magic trick ...         4   \n",
       "\n",
       "            negative  Label  \n",
       "Date                         \n",
       "2016-01-14         1      1  \n",
       "2016-09-23         1      1  \n",
       "2017-05-15         2      0  \n",
       "2017-06-01         0     -1  \n",
       "2015-08-28         2     -1  "
      ]
     },
     "execution_count": 56,
     "metadata": {},
     "output_type": "execute_result"
    }
   ],
   "source": [
    "overview_train = pd.concat([X_train,y_train],axis=1)\n",
    "overview_train.head()"
   ]
  },
  {
   "cell_type": "code",
   "execution_count": 57,
   "metadata": {},
   "outputs": [
    {
     "name": "stdout",
     "output_type": "stream",
     "text": [
      "similarity: 0.914967252485\n",
      "companies alphabet inc facebook inc alphabet inc amazoncom inc stay hot cs stock target raised youtube red adoption google add partners selfdriving cars exec new degree camera save gopro inc apple underowned hedge fund land president obama talk selfdriving cars state union speech invest san francisco stocks strategist bets stock market poised vshaped rebound half p bear market\n",
      "\n",
      "alphabet inc googl stock investors worry govt regulation amazoncom inc amzn vs alphabet inc googl best year bet sergey brin avoiding deposition waymo v uber data firm backed googles eric schmidt paid millions democratic committees google home competitive strengths fast growing smart speaker market google hopes train people africa online skills ceo tech shares fall weighing broader market apple alphabet tumble techs rattled dow transports plunge time sell fang stock take facebook inc fb stock add time presto money tech giants bobble backlash\n"
     ]
    }
   ],
   "source": [
    "#### Get the most similar tweets for each sentiment\n",
    "up = 0\n",
    "most_similar = np.argmax(sim_train[up][:])\n",
    "print(\"similarity:\", sim_train[up][most_similar])\n",
    "print(X_train.iloc[up].Headlines)\n",
    "print()\n",
    "print(X_train.iloc[most_similar].Headlines)"
   ]
  },
  {
   "cell_type": "code",
   "execution_count": 58,
   "metadata": {},
   "outputs": [
    {
     "name": "stdout",
     "output_type": "stream",
     "text": [
      "similarity: 0.914967252485\n",
      "companies alphabet inc facebook inc alphabet inc amazoncom inc stay hot cs stock target raised youtube red adoption google add partners selfdriving cars exec new degree camera save gopro inc apple underowned hedge fund land president obama talk selfdriving cars state union speech invest san francisco stocks strategist bets stock market poised vshaped rebound half p bear market\n",
      "\n",
      "alphabet inc googl stock investors worry govt regulation amazoncom inc amzn vs alphabet inc googl best year bet sergey brin avoiding deposition waymo v uber data firm backed googles eric schmidt paid millions democratic committees google home competitive strengths fast growing smart speaker market google hopes train people africa online skills ceo tech shares fall weighing broader market apple alphabet tumble techs rattled dow transports plunge time sell fang stock take facebook inc fb stock add time presto money tech giants bobble backlash\n"
     ]
    }
   ],
   "source": [
    "#### Get the most similar tweets for each sentiment\n",
    "down = 0\n",
    "most_similar = np.argmax(sim_train[down][:])\n",
    "print(\"similarity:\", sim_train[down][most_similar])\n",
    "print(X_train.iloc[down].Headlines)\n",
    "print()\n",
    "print(X_train.iloc[most_similar].Headlines)"
   ]
  },
  {
   "cell_type": "markdown",
   "metadata": {},
   "source": [
    "#### Use PCA to reduce overfitting"
   ]
  },
  {
   "cell_type": "code",
   "execution_count": 59,
   "metadata": {},
   "outputs": [
    {
     "name": "stdout",
     "output_type": "stream",
     "text": [
      "[  1.05614192e-01   6.97491635e-02   5.15152771e-02   3.26109251e-02\n",
      "   3.15675669e-02   2.33806618e-02   2.01051260e-02   1.82414995e-02\n",
      "   1.66109572e-02   1.56531374e-02   1.42792361e-02   1.31363525e-02\n",
      "   1.26665099e-02   1.20703090e-02   1.15305977e-02   1.06946719e-02\n",
      "   1.00775422e-02   9.96025914e-03   9.50601041e-03   9.06646409e-03\n",
      "   8.68471461e-03   8.40321824e-03   8.25287816e-03   7.84146589e-03\n",
      "   7.68013376e-03   7.38470168e-03   7.35175966e-03   7.29273714e-03\n",
      "   7.05223400e-03   6.81605121e-03   6.71262535e-03   6.50956358e-03\n",
      "   6.36348718e-03   6.20565599e-03   5.85121061e-03   5.75118435e-03\n",
      "   5.60409880e-03   5.52291177e-03   5.41973794e-03   5.28974644e-03\n",
      "   5.14342646e-03   5.11859266e-03   4.98671167e-03   4.89305729e-03\n",
      "   4.85388339e-03   4.71082525e-03   4.69225465e-03   4.59490179e-03\n",
      "   4.48208474e-03   4.43211862e-03   4.29659035e-03   4.25848590e-03\n",
      "   4.23260573e-03   4.13558514e-03   4.08143514e-03   4.03997351e-03\n",
      "   3.95764170e-03   3.89976201e-03   3.84504066e-03   3.74570186e-03\n",
      "   3.70444233e-03   3.65926967e-03   3.61548598e-03   3.52375648e-03\n",
      "   3.49612013e-03   3.46114354e-03   3.38648395e-03   3.35617002e-03\n",
      "   3.32132256e-03   3.27471017e-03   3.23769898e-03   3.20087366e-03\n",
      "   3.16211856e-03   3.10347928e-03   3.06687648e-03   3.04717265e-03\n",
      "   3.01678740e-03   2.96209398e-03   2.92174599e-03   2.91447308e-03\n",
      "   2.84820059e-03   2.80045591e-03   2.78602556e-03   2.70691140e-03\n",
      "   2.69530860e-03   2.68895137e-03   2.63373599e-03   2.57348553e-03\n",
      "   2.53432750e-03   2.50709505e-03   2.48251522e-03   2.45744867e-03\n",
      "   2.44050665e-03   2.39463073e-03   2.38392688e-03   2.36029677e-03\n",
      "   2.33670538e-03   2.28432379e-03   2.27397128e-03   2.22510394e-03\n",
      "   2.22141776e-03   2.19433434e-03   2.16653761e-03   2.15395705e-03\n",
      "   2.13738907e-03   2.10011898e-03   2.05431382e-03   2.03648175e-03\n",
      "   2.02272832e-03   1.96799375e-03   1.96523638e-03   1.92107089e-03\n",
      "   1.89533234e-03   1.88168126e-03   1.86052571e-03   1.84413884e-03\n",
      "   1.82420993e-03   1.79382158e-03   1.78606504e-03   1.73893043e-03\n",
      "   1.73231174e-03   1.69336930e-03   1.68304013e-03   1.67068930e-03\n",
      "   1.62960665e-03   1.60071251e-03   1.57309028e-03   1.56784822e-03\n",
      "   1.55246335e-03   1.52897000e-03   1.51022026e-03   1.49987757e-03\n",
      "   1.47853189e-03   1.44977201e-03   1.43630693e-03   1.42484035e-03\n",
      "   1.41406416e-03   1.40564808e-03   1.39773336e-03   1.37093067e-03\n",
      "   1.36022620e-03   1.32994262e-03   1.32006159e-03   1.30399701e-03\n",
      "   1.28634879e-03   1.27388623e-03   1.26705330e-03   1.24720784e-03\n",
      "   1.23134347e-03   1.21993059e-03   1.20023016e-03   1.19352795e-03\n",
      "   1.17235426e-03   1.16914197e-03   1.15040478e-03   1.14494436e-03\n",
      "   1.13007351e-03   1.11847148e-03   1.11403846e-03   1.09978610e-03\n",
      "   1.08327891e-03   1.07229252e-03   1.05448143e-03   1.04297966e-03\n",
      "   1.02872479e-03   1.01100625e-03   1.00507613e-03   9.97897663e-04\n",
      "   9.91142767e-04   9.76697384e-04   9.55192425e-04   9.48471197e-04\n",
      "   9.27281743e-04   9.20704140e-04   9.01889080e-04   8.93247798e-04\n",
      "   8.84443627e-04   8.69835310e-04   8.66570743e-04   8.47678309e-04\n",
      "   8.42410695e-04   8.29546838e-04   8.24152981e-04   8.18317649e-04\n",
      "   8.08110661e-04   7.95164120e-04   7.91731319e-04   7.79047776e-04\n",
      "   7.58287825e-04   7.45352566e-04   7.41354087e-04   7.36457843e-04\n",
      "   7.31158214e-04   7.17725842e-04   7.06625792e-04   6.91810040e-04\n",
      "   6.87962583e-04   6.81889381e-04   6.74673853e-04   6.69419871e-04\n",
      "   6.50393237e-04   6.45831553e-04   6.41478165e-04   6.31824109e-04\n",
      "   6.24005895e-04   6.21688224e-04   6.13872022e-04   6.05037583e-04\n",
      "   5.89937512e-04   5.81310261e-04   5.68029236e-04   5.64519280e-04\n",
      "   5.52621709e-04   5.50894238e-04   5.45654124e-04   5.35655899e-04\n",
      "   5.26637348e-04   5.19227247e-04   5.14704621e-04   5.07730877e-04\n",
      "   4.99225031e-04   4.83841097e-04   4.77167818e-04   4.70122032e-04\n",
      "   4.63472196e-04   4.61374743e-04   4.54156630e-04   4.45378258e-04\n",
      "   4.41982282e-04   4.36108892e-04   4.33063606e-04   4.25605498e-04\n",
      "   4.09368598e-04   4.06353690e-04   4.01270092e-04   3.98896793e-04\n",
      "   3.90051807e-04   3.85799010e-04   3.79190923e-04   3.68965456e-04\n",
      "   3.62972036e-04   3.56860736e-04   3.55172476e-04   3.51241996e-04\n",
      "   3.40313209e-04   3.33015591e-04   3.27551677e-04   3.21356844e-04\n",
      "   3.18402524e-04   3.16101601e-04   3.08568052e-04   2.99916152e-04\n",
      "   2.94850276e-04   2.82124522e-04   2.80271244e-04   2.74334517e-04\n",
      "   2.73813253e-04   2.66244917e-04   2.65295285e-04   2.56578080e-04\n",
      "   2.48280527e-04   2.45345198e-04   2.42380918e-04   2.33243693e-04\n",
      "   2.30260770e-04   2.24846990e-04   2.21807261e-04   2.18046041e-04\n",
      "   2.14507104e-04   2.11929823e-04   2.08404398e-04   2.01241698e-04\n",
      "   1.98319638e-04   1.93241165e-04   1.84518632e-04   1.82141879e-04\n",
      "   1.78441107e-04   1.72288400e-04   1.66726691e-04   1.62540853e-04\n",
      "   1.59471960e-04   1.54508906e-04   1.48117091e-04   1.46528583e-04\n",
      "   1.42934284e-04   1.37118900e-04   1.34054189e-04   1.25866982e-04\n",
      "   1.23222345e-04   1.17893589e-04   1.17190989e-04   1.12651023e-04\n",
      "   1.09366081e-04   1.03135275e-04   1.02237593e-04   9.34011260e-05\n",
      "   8.88906561e-05   8.25143937e-05   7.78679111e-05   7.43028795e-05]\n"
     ]
    }
   ],
   "source": [
    "from sklearn.decomposition import PCA\n",
    "\n",
    "pca = PCA(n_components=300)\n",
    "pca.fit(matrix_train)\n",
    "matrix_t_train = pca.transform(matrix_train)\n",
    "\n",
    "print(pca.explained_variance_ratio_)"
   ]
  },
  {
   "cell_type": "code",
   "execution_count": 60,
   "metadata": {},
   "outputs": [
    {
     "data": {
      "text/html": [
       "<div>\n",
       "<style>\n",
       "    .dataframe thead tr:only-child th {\n",
       "        text-align: right;\n",
       "    }\n",
       "\n",
       "    .dataframe thead th {\n",
       "        text-align: left;\n",
       "    }\n",
       "\n",
       "    .dataframe tbody tr th {\n",
       "        vertical-align: top;\n",
       "    }\n",
       "</style>\n",
       "<table border=\"1\" class=\"dataframe\">\n",
       "  <thead>\n",
       "    <tr style=\"text-align: right;\">\n",
       "      <th></th>\n",
       "      <th>positive</th>\n",
       "      <th>negative</th>\n",
       "      <th>0</th>\n",
       "      <th>1</th>\n",
       "      <th>2</th>\n",
       "      <th>3</th>\n",
       "      <th>4</th>\n",
       "      <th>5</th>\n",
       "      <th>6</th>\n",
       "      <th>7</th>\n",
       "      <th>...</th>\n",
       "      <th>290</th>\n",
       "      <th>291</th>\n",
       "      <th>292</th>\n",
       "      <th>293</th>\n",
       "      <th>294</th>\n",
       "      <th>295</th>\n",
       "      <th>296</th>\n",
       "      <th>297</th>\n",
       "      <th>298</th>\n",
       "      <th>299</th>\n",
       "    </tr>\n",
       "  </thead>\n",
       "  <tbody>\n",
       "    <tr>\n",
       "      <th>0</th>\n",
       "      <td>2</td>\n",
       "      <td>1</td>\n",
       "      <td>0.230988</td>\n",
       "      <td>-0.015785</td>\n",
       "      <td>0.092101</td>\n",
       "      <td>-0.030682</td>\n",
       "      <td>-0.035586</td>\n",
       "      <td>-0.025882</td>\n",
       "      <td>-0.065892</td>\n",
       "      <td>0.020105</td>\n",
       "      <td>...</td>\n",
       "      <td>-0.000427</td>\n",
       "      <td>-0.000937</td>\n",
       "      <td>0.005433</td>\n",
       "      <td>-0.000585</td>\n",
       "      <td>0.000422</td>\n",
       "      <td>0.005140</td>\n",
       "      <td>-0.002121</td>\n",
       "      <td>0.001998</td>\n",
       "      <td>-0.002016</td>\n",
       "      <td>0.000838</td>\n",
       "    </tr>\n",
       "    <tr>\n",
       "      <th>1</th>\n",
       "      <td>7</td>\n",
       "      <td>1</td>\n",
       "      <td>-0.008066</td>\n",
       "      <td>0.125249</td>\n",
       "      <td>-0.130344</td>\n",
       "      <td>-0.062121</td>\n",
       "      <td>-0.033352</td>\n",
       "      <td>-0.024753</td>\n",
       "      <td>-0.007246</td>\n",
       "      <td>0.008037</td>\n",
       "      <td>...</td>\n",
       "      <td>-0.004141</td>\n",
       "      <td>-0.001309</td>\n",
       "      <td>-0.000389</td>\n",
       "      <td>-0.001882</td>\n",
       "      <td>-0.001758</td>\n",
       "      <td>0.002258</td>\n",
       "      <td>-0.003622</td>\n",
       "      <td>0.000029</td>\n",
       "      <td>0.000438</td>\n",
       "      <td>0.000956</td>\n",
       "    </tr>\n",
       "    <tr>\n",
       "      <th>2</th>\n",
       "      <td>4</td>\n",
       "      <td>2</td>\n",
       "      <td>0.244715</td>\n",
       "      <td>-0.025259</td>\n",
       "      <td>0.074581</td>\n",
       "      <td>-0.111683</td>\n",
       "      <td>-0.074492</td>\n",
       "      <td>-0.067843</td>\n",
       "      <td>0.024614</td>\n",
       "      <td>0.028476</td>\n",
       "      <td>...</td>\n",
       "      <td>-0.008544</td>\n",
       "      <td>-0.008453</td>\n",
       "      <td>0.000230</td>\n",
       "      <td>-0.002855</td>\n",
       "      <td>-0.002513</td>\n",
       "      <td>0.003853</td>\n",
       "      <td>0.005002</td>\n",
       "      <td>-0.002106</td>\n",
       "      <td>0.000088</td>\n",
       "      <td>-0.002012</td>\n",
       "    </tr>\n",
       "    <tr>\n",
       "      <th>3</th>\n",
       "      <td>3</td>\n",
       "      <td>0</td>\n",
       "      <td>0.228230</td>\n",
       "      <td>0.041941</td>\n",
       "      <td>0.007872</td>\n",
       "      <td>0.074918</td>\n",
       "      <td>-0.022412</td>\n",
       "      <td>-0.015557</td>\n",
       "      <td>-0.008418</td>\n",
       "      <td>0.082454</td>\n",
       "      <td>...</td>\n",
       "      <td>0.005429</td>\n",
       "      <td>-0.001525</td>\n",
       "      <td>0.002077</td>\n",
       "      <td>0.002798</td>\n",
       "      <td>-0.006099</td>\n",
       "      <td>0.008669</td>\n",
       "      <td>0.005765</td>\n",
       "      <td>-0.003023</td>\n",
       "      <td>0.008973</td>\n",
       "      <td>-0.003658</td>\n",
       "    </tr>\n",
       "    <tr>\n",
       "      <th>4</th>\n",
       "      <td>4</td>\n",
       "      <td>2</td>\n",
       "      <td>-0.180592</td>\n",
       "      <td>-0.072792</td>\n",
       "      <td>0.048416</td>\n",
       "      <td>0.077854</td>\n",
       "      <td>-0.007459</td>\n",
       "      <td>-0.056951</td>\n",
       "      <td>0.031569</td>\n",
       "      <td>-0.008083</td>\n",
       "      <td>...</td>\n",
       "      <td>0.002305</td>\n",
       "      <td>0.006086</td>\n",
       "      <td>0.002476</td>\n",
       "      <td>0.001553</td>\n",
       "      <td>0.005799</td>\n",
       "      <td>0.002683</td>\n",
       "      <td>0.003659</td>\n",
       "      <td>0.001959</td>\n",
       "      <td>-0.004440</td>\n",
       "      <td>0.005500</td>\n",
       "    </tr>\n",
       "  </tbody>\n",
       "</table>\n",
       "<p>5 rows × 302 columns</p>\n",
       "</div>"
      ],
      "text/plain": [
       "   positive  negative         0         1         2         3         4  \\\n",
       "0         2         1  0.230988 -0.015785  0.092101 -0.030682 -0.035586   \n",
       "1         7         1 -0.008066  0.125249 -0.130344 -0.062121 -0.033352   \n",
       "2         4         2  0.244715 -0.025259  0.074581 -0.111683 -0.074492   \n",
       "3         3         0  0.228230  0.041941  0.007872  0.074918 -0.022412   \n",
       "4         4         2 -0.180592 -0.072792  0.048416  0.077854 -0.007459   \n",
       "\n",
       "          5         6         7    ...          290       291       292  \\\n",
       "0 -0.025882 -0.065892  0.020105    ...    -0.000427 -0.000937  0.005433   \n",
       "1 -0.024753 -0.007246  0.008037    ...    -0.004141 -0.001309 -0.000389   \n",
       "2 -0.067843  0.024614  0.028476    ...    -0.008544 -0.008453  0.000230   \n",
       "3 -0.015557 -0.008418  0.082454    ...     0.005429 -0.001525  0.002077   \n",
       "4 -0.056951  0.031569 -0.008083    ...     0.002305  0.006086  0.002476   \n",
       "\n",
       "        293       294       295       296       297       298       299  \n",
       "0 -0.000585  0.000422  0.005140 -0.002121  0.001998 -0.002016  0.000838  \n",
       "1 -0.001882 -0.001758  0.002258 -0.003622  0.000029  0.000438  0.000956  \n",
       "2 -0.002855 -0.002513  0.003853  0.005002 -0.002106  0.000088 -0.002012  \n",
       "3  0.002798 -0.006099  0.008669  0.005765 -0.003023  0.008973 -0.003658  \n",
       "4  0.001553  0.005799  0.002683  0.003659  0.001959 -0.004440  0.005500  \n",
       "\n",
       "[5 rows x 302 columns]"
      ]
     },
     "execution_count": 60,
     "metadata": {},
     "output_type": "execute_result"
    }
   ],
   "source": [
    "train1 = X_train.drop('Headlines',axis=1)\n",
    "train1.index = range(len(train1))\n",
    "train2 = pd.DataFrame(matrix_t_train)\n",
    "# print test.index\n",
    "# print test2.index\n",
    "train3 = pd.concat([train1, train2], axis=1)\n",
    "train3.head()"
   ]
  },
  {
   "cell_type": "code",
   "execution_count": 61,
   "metadata": {},
   "outputs": [
    {
     "data": {
      "text/html": [
       "<div>\n",
       "<style>\n",
       "    .dataframe thead tr:only-child th {\n",
       "        text-align: right;\n",
       "    }\n",
       "\n",
       "    .dataframe thead th {\n",
       "        text-align: left;\n",
       "    }\n",
       "\n",
       "    .dataframe tbody tr th {\n",
       "        vertical-align: top;\n",
       "    }\n",
       "</style>\n",
       "<table border=\"1\" class=\"dataframe\">\n",
       "  <thead>\n",
       "    <tr style=\"text-align: right;\">\n",
       "      <th></th>\n",
       "      <th>positive</th>\n",
       "      <th>negative</th>\n",
       "      <th>0</th>\n",
       "      <th>1</th>\n",
       "      <th>2</th>\n",
       "      <th>3</th>\n",
       "      <th>4</th>\n",
       "      <th>5</th>\n",
       "      <th>6</th>\n",
       "      <th>7</th>\n",
       "      <th>...</th>\n",
       "      <th>290</th>\n",
       "      <th>291</th>\n",
       "      <th>292</th>\n",
       "      <th>293</th>\n",
       "      <th>294</th>\n",
       "      <th>295</th>\n",
       "      <th>296</th>\n",
       "      <th>297</th>\n",
       "      <th>298</th>\n",
       "      <th>299</th>\n",
       "    </tr>\n",
       "  </thead>\n",
       "  <tbody>\n",
       "    <tr>\n",
       "      <th>0</th>\n",
       "      <td>-0.409590</td>\n",
       "      <td>-0.854192</td>\n",
       "      <td>1.580129</td>\n",
       "      <td>-0.132878</td>\n",
       "      <td>0.902112</td>\n",
       "      <td>-0.377714</td>\n",
       "      <td>-0.445269</td>\n",
       "      <td>-0.376295</td>\n",
       "      <td>-1.033106</td>\n",
       "      <td>0.330925</td>\n",
       "      <td>...</td>\n",
       "      <td>-0.087606</td>\n",
       "      <td>-0.196158</td>\n",
       "      <td>1.154854</td>\n",
       "      <td>-0.128019</td>\n",
       "      <td>0.092875</td>\n",
       "      <td>1.182304</td>\n",
       "      <td>-0.500235</td>\n",
       "      <td>0.488926</td>\n",
       "      <td>-0.507994</td>\n",
       "      <td>0.216114</td>\n",
       "    </tr>\n",
       "    <tr>\n",
       "      <th>1</th>\n",
       "      <td>2.654009</td>\n",
       "      <td>-0.854192</td>\n",
       "      <td>-0.055179</td>\n",
       "      <td>1.054308</td>\n",
       "      <td>-1.276695</td>\n",
       "      <td>-0.764748</td>\n",
       "      <td>-0.417311</td>\n",
       "      <td>-0.359883</td>\n",
       "      <td>-0.113609</td>\n",
       "      <td>0.132288</td>\n",
       "      <td>...</td>\n",
       "      <td>-0.850393</td>\n",
       "      <td>-0.274179</td>\n",
       "      <td>-0.082712</td>\n",
       "      <td>-0.411956</td>\n",
       "      <td>-0.386527</td>\n",
       "      <td>0.519458</td>\n",
       "      <td>-0.853983</td>\n",
       "      <td>0.007114</td>\n",
       "      <td>0.110417</td>\n",
       "      <td>0.246475</td>\n",
       "    </tr>\n",
       "    <tr>\n",
       "      <th>2</th>\n",
       "      <td>0.815850</td>\n",
       "      <td>-0.234594</td>\n",
       "      <td>1.674028</td>\n",
       "      <td>-0.212625</td>\n",
       "      <td>0.730508</td>\n",
       "      <td>-1.374893</td>\n",
       "      <td>-0.932079</td>\n",
       "      <td>-0.986369</td>\n",
       "      <td>0.385916</td>\n",
       "      <td>0.468715</td>\n",
       "      <td>...</td>\n",
       "      <td>-1.754584</td>\n",
       "      <td>-1.770633</td>\n",
       "      <td>0.048859</td>\n",
       "      <td>-0.625005</td>\n",
       "      <td>-0.552573</td>\n",
       "      <td>0.886323</td>\n",
       "      <td>1.179408</td>\n",
       "      <td>-0.515313</td>\n",
       "      <td>0.022125</td>\n",
       "      <td>-0.519023</td>\n",
       "    </tr>\n",
       "    <tr>\n",
       "      <th>3</th>\n",
       "      <td>0.203130</td>\n",
       "      <td>-1.473790</td>\n",
       "      <td>1.561260</td>\n",
       "      <td>0.353048</td>\n",
       "      <td>0.077104</td>\n",
       "      <td>0.922286</td>\n",
       "      <td>-0.280435</td>\n",
       "      <td>-0.226187</td>\n",
       "      <td>-0.131981</td>\n",
       "      <td>1.357206</td>\n",
       "      <td>...</td>\n",
       "      <td>1.114826</td>\n",
       "      <td>-0.319475</td>\n",
       "      <td>0.441606</td>\n",
       "      <td>0.612602</td>\n",
       "      <td>-1.340906</td>\n",
       "      <td>1.994183</td>\n",
       "      <td>1.359322</td>\n",
       "      <td>-0.739952</td>\n",
       "      <td>2.260614</td>\n",
       "      <td>-0.943435</td>\n",
       "    </tr>\n",
       "    <tr>\n",
       "      <th>4</th>\n",
       "      <td>0.815850</td>\n",
       "      <td>-0.234594</td>\n",
       "      <td>-1.235377</td>\n",
       "      <td>-0.612744</td>\n",
       "      <td>0.474226</td>\n",
       "      <td>0.958430</td>\n",
       "      <td>-0.093328</td>\n",
       "      <td>-0.828007</td>\n",
       "      <td>0.494960</td>\n",
       "      <td>-0.133044</td>\n",
       "      <td>...</td>\n",
       "      <td>0.473304</td>\n",
       "      <td>1.274745</td>\n",
       "      <td>0.526270</td>\n",
       "      <td>0.339964</td>\n",
       "      <td>1.275112</td>\n",
       "      <td>0.617217</td>\n",
       "      <td>0.862867</td>\n",
       "      <td>0.479416</td>\n",
       "      <td>-1.118500</td>\n",
       "      <td>1.418510</td>\n",
       "    </tr>\n",
       "  </tbody>\n",
       "</table>\n",
       "<p>5 rows × 302 columns</p>\n",
       "</div>"
      ],
      "text/plain": [
       "   positive  negative         0         1         2         3         4  \\\n",
       "0 -0.409590 -0.854192  1.580129 -0.132878  0.902112 -0.377714 -0.445269   \n",
       "1  2.654009 -0.854192 -0.055179  1.054308 -1.276695 -0.764748 -0.417311   \n",
       "2  0.815850 -0.234594  1.674028 -0.212625  0.730508 -1.374893 -0.932079   \n",
       "3  0.203130 -1.473790  1.561260  0.353048  0.077104  0.922286 -0.280435   \n",
       "4  0.815850 -0.234594 -1.235377 -0.612744  0.474226  0.958430 -0.093328   \n",
       "\n",
       "          5         6         7    ...          290       291       292  \\\n",
       "0 -0.376295 -1.033106  0.330925    ...    -0.087606 -0.196158  1.154854   \n",
       "1 -0.359883 -0.113609  0.132288    ...    -0.850393 -0.274179 -0.082712   \n",
       "2 -0.986369  0.385916  0.468715    ...    -1.754584 -1.770633  0.048859   \n",
       "3 -0.226187 -0.131981  1.357206    ...     1.114826 -0.319475  0.441606   \n",
       "4 -0.828007  0.494960 -0.133044    ...     0.473304  1.274745  0.526270   \n",
       "\n",
       "        293       294       295       296       297       298       299  \n",
       "0 -0.128019  0.092875  1.182304 -0.500235  0.488926 -0.507994  0.216114  \n",
       "1 -0.411956 -0.386527  0.519458 -0.853983  0.007114  0.110417  0.246475  \n",
       "2 -0.625005 -0.552573  0.886323  1.179408 -0.515313  0.022125 -0.519023  \n",
       "3  0.612602 -1.340906  1.994183  1.359322 -0.739952  2.260614 -0.943435  \n",
       "4  0.339964  1.275112  0.617217  0.862867  0.479416 -1.118500  1.418510  \n",
       "\n",
       "[5 rows x 302 columns]"
      ]
     },
     "execution_count": 61,
     "metadata": {},
     "output_type": "execute_result"
    }
   ],
   "source": [
    "from sklearn import preprocessing\n",
    "\n",
    "train3_scaled = pd.DataFrame(preprocessing.scale(train3),index=train3.index,columns=train3.columns)\n",
    "train3_scaled.head()"
   ]
  },
  {
   "cell_type": "code",
   "execution_count": 62,
   "metadata": {},
   "outputs": [
    {
     "name": "stdout",
     "output_type": "stream",
     "text": [
      "552\n"
     ]
    }
   ],
   "source": [
    "X_train = train3_scaled\n",
    "print(len(X_train))"
   ]
  },
  {
   "cell_type": "code",
   "execution_count": 63,
   "metadata": {
    "collapsed": true
   },
   "outputs": [],
   "source": [
    "matrix_test = []\n",
    "for i in range(len(X_test)):\n",
    "    row = X_test.iloc[i,:]\n",
    "    filtered_text = [model[w] for w in row['Headlines'].split() if w in model]\n",
    "    if len(filtered_text):\n",
    "        matrix_test.append(matutils.unitvec(np.array(filtered_text).mean(axis=0)))"
   ]
  },
  {
   "cell_type": "code",
   "execution_count": 64,
   "metadata": {},
   "outputs": [
    {
     "name": "stdout",
     "output_type": "stream",
     "text": [
      "(139, 300)\n",
      "[[ 1.          0.87957691  0.80908053 ...,  0.86678036  0.86728009\n",
      "   0.82040986]\n",
      " [ 0.87957691  1.          0.77346745 ...,  0.8601685   0.85851982\n",
      "   0.82318645]\n",
      " [ 0.80908053  0.77346745  1.         ...,  0.72638178  0.7358771\n",
      "   0.82135759]\n",
      " ..., \n",
      " [ 0.86678036  0.8601685   0.72638178 ...,  1.          0.84296475\n",
      "   0.80370719]\n",
      " [ 0.86728009  0.85851982  0.7358771  ...,  0.84296475  1.          0.81367759]\n",
      " [ 0.82040986  0.82318645  0.82135759 ...,  0.80370719  0.81367759  1.        ]]\n"
     ]
    }
   ],
   "source": [
    "matrix_test = np.array(matrix_test)\n",
    "print(matrix_test.shape)\n",
    "sim_test = np.dot(matrix_test, matrix_test.transpose())\n",
    "print(sim_test)"
   ]
  },
  {
   "cell_type": "code",
   "execution_count": 65,
   "metadata": {},
   "outputs": [
    {
     "data": {
      "text/html": [
       "<div>\n",
       "<style>\n",
       "    .dataframe thead tr:only-child th {\n",
       "        text-align: right;\n",
       "    }\n",
       "\n",
       "    .dataframe thead th {\n",
       "        text-align: left;\n",
       "    }\n",
       "\n",
       "    .dataframe tbody tr th {\n",
       "        vertical-align: top;\n",
       "    }\n",
       "</style>\n",
       "<table border=\"1\" class=\"dataframe\">\n",
       "  <thead>\n",
       "    <tr style=\"text-align: right;\">\n",
       "      <th></th>\n",
       "      <th>positive</th>\n",
       "      <th>negative</th>\n",
       "      <th>0</th>\n",
       "      <th>1</th>\n",
       "      <th>2</th>\n",
       "      <th>3</th>\n",
       "      <th>4</th>\n",
       "      <th>5</th>\n",
       "      <th>6</th>\n",
       "      <th>7</th>\n",
       "      <th>...</th>\n",
       "      <th>290</th>\n",
       "      <th>291</th>\n",
       "      <th>292</th>\n",
       "      <th>293</th>\n",
       "      <th>294</th>\n",
       "      <th>295</th>\n",
       "      <th>296</th>\n",
       "      <th>297</th>\n",
       "      <th>298</th>\n",
       "      <th>299</th>\n",
       "    </tr>\n",
       "  </thead>\n",
       "  <tbody>\n",
       "    <tr>\n",
       "      <th>0</th>\n",
       "      <td>4</td>\n",
       "      <td>2</td>\n",
       "      <td>0.114961</td>\n",
       "      <td>0.064959</td>\n",
       "      <td>-0.098600</td>\n",
       "      <td>-0.017601</td>\n",
       "      <td>0.000124</td>\n",
       "      <td>-0.001766</td>\n",
       "      <td>-0.071877</td>\n",
       "      <td>-0.063187</td>\n",
       "      <td>...</td>\n",
       "      <td>0.002221</td>\n",
       "      <td>-0.016078</td>\n",
       "      <td>-0.008900</td>\n",
       "      <td>-0.009728</td>\n",
       "      <td>0.007868</td>\n",
       "      <td>0.004973</td>\n",
       "      <td>0.005844</td>\n",
       "      <td>0.014909</td>\n",
       "      <td>-0.019085</td>\n",
       "      <td>0.022977</td>\n",
       "    </tr>\n",
       "    <tr>\n",
       "      <th>1</th>\n",
       "      <td>2</td>\n",
       "      <td>1</td>\n",
       "      <td>0.049263</td>\n",
       "      <td>0.138998</td>\n",
       "      <td>-0.152742</td>\n",
       "      <td>-0.050965</td>\n",
       "      <td>-0.008313</td>\n",
       "      <td>-0.050389</td>\n",
       "      <td>-0.030877</td>\n",
       "      <td>-0.050972</td>\n",
       "      <td>...</td>\n",
       "      <td>-0.012973</td>\n",
       "      <td>-0.012671</td>\n",
       "      <td>0.006000</td>\n",
       "      <td>-0.000272</td>\n",
       "      <td>-0.008899</td>\n",
       "      <td>0.002413</td>\n",
       "      <td>0.002197</td>\n",
       "      <td>-0.008051</td>\n",
       "      <td>-0.005148</td>\n",
       "      <td>-0.027995</td>\n",
       "    </tr>\n",
       "    <tr>\n",
       "      <th>2</th>\n",
       "      <td>1</td>\n",
       "      <td>3</td>\n",
       "      <td>-0.128336</td>\n",
       "      <td>-0.081150</td>\n",
       "      <td>-0.094408</td>\n",
       "      <td>-0.030092</td>\n",
       "      <td>0.015880</td>\n",
       "      <td>-0.055212</td>\n",
       "      <td>-0.117317</td>\n",
       "      <td>-0.186655</td>\n",
       "      <td>...</td>\n",
       "      <td>-0.032994</td>\n",
       "      <td>0.007577</td>\n",
       "      <td>0.015453</td>\n",
       "      <td>-0.028605</td>\n",
       "      <td>-0.002661</td>\n",
       "      <td>0.021444</td>\n",
       "      <td>-0.017313</td>\n",
       "      <td>-0.048144</td>\n",
       "      <td>-0.010159</td>\n",
       "      <td>-0.005118</td>\n",
       "    </tr>\n",
       "    <tr>\n",
       "      <th>3</th>\n",
       "      <td>2</td>\n",
       "      <td>4</td>\n",
       "      <td>0.040768</td>\n",
       "      <td>-0.057031</td>\n",
       "      <td>0.006776</td>\n",
       "      <td>-0.085898</td>\n",
       "      <td>-0.124928</td>\n",
       "      <td>0.022885</td>\n",
       "      <td>-0.004858</td>\n",
       "      <td>-0.028984</td>\n",
       "      <td>...</td>\n",
       "      <td>0.003940</td>\n",
       "      <td>0.011627</td>\n",
       "      <td>-0.016821</td>\n",
       "      <td>-0.007086</td>\n",
       "      <td>0.006932</td>\n",
       "      <td>-0.020539</td>\n",
       "      <td>0.002218</td>\n",
       "      <td>0.021516</td>\n",
       "      <td>0.008718</td>\n",
       "      <td>-0.022138</td>\n",
       "    </tr>\n",
       "    <tr>\n",
       "      <th>4</th>\n",
       "      <td>1</td>\n",
       "      <td>3</td>\n",
       "      <td>0.063022</td>\n",
       "      <td>0.040836</td>\n",
       "      <td>-0.062749</td>\n",
       "      <td>0.070733</td>\n",
       "      <td>0.036099</td>\n",
       "      <td>0.033020</td>\n",
       "      <td>0.096414</td>\n",
       "      <td>0.033699</td>\n",
       "      <td>...</td>\n",
       "      <td>0.015779</td>\n",
       "      <td>0.005101</td>\n",
       "      <td>0.001815</td>\n",
       "      <td>0.001961</td>\n",
       "      <td>0.009278</td>\n",
       "      <td>0.022060</td>\n",
       "      <td>-0.002977</td>\n",
       "      <td>0.016370</td>\n",
       "      <td>-0.009043</td>\n",
       "      <td>-0.013521</td>\n",
       "    </tr>\n",
       "  </tbody>\n",
       "</table>\n",
       "<p>5 rows × 302 columns</p>\n",
       "</div>"
      ],
      "text/plain": [
       "   positive  negative         0         1         2         3         4  \\\n",
       "0         4         2  0.114961  0.064959 -0.098600 -0.017601  0.000124   \n",
       "1         2         1  0.049263  0.138998 -0.152742 -0.050965 -0.008313   \n",
       "2         1         3 -0.128336 -0.081150 -0.094408 -0.030092  0.015880   \n",
       "3         2         4  0.040768 -0.057031  0.006776 -0.085898 -0.124928   \n",
       "4         1         3  0.063022  0.040836 -0.062749  0.070733  0.036099   \n",
       "\n",
       "          5         6         7    ...          290       291       292  \\\n",
       "0 -0.001766 -0.071877 -0.063187    ...     0.002221 -0.016078 -0.008900   \n",
       "1 -0.050389 -0.030877 -0.050972    ...    -0.012973 -0.012671  0.006000   \n",
       "2 -0.055212 -0.117317 -0.186655    ...    -0.032994  0.007577  0.015453   \n",
       "3  0.022885 -0.004858 -0.028984    ...     0.003940  0.011627 -0.016821   \n",
       "4  0.033020  0.096414  0.033699    ...     0.015779  0.005101  0.001815   \n",
       "\n",
       "        293       294       295       296       297       298       299  \n",
       "0 -0.009728  0.007868  0.004973  0.005844  0.014909 -0.019085  0.022977  \n",
       "1 -0.000272 -0.008899  0.002413  0.002197 -0.008051 -0.005148 -0.027995  \n",
       "2 -0.028605 -0.002661  0.021444 -0.017313 -0.048144 -0.010159 -0.005118  \n",
       "3 -0.007086  0.006932 -0.020539  0.002218  0.021516  0.008718 -0.022138  \n",
       "4  0.001961  0.009278  0.022060 -0.002977  0.016370 -0.009043 -0.013521  \n",
       "\n",
       "[5 rows x 302 columns]"
      ]
     },
     "execution_count": 65,
     "metadata": {},
     "output_type": "execute_result"
    }
   ],
   "source": [
    "matrix_t_test = pca.transform(matrix_test)\n",
    "test1 = X_test.drop('Headlines',axis=1)\n",
    "test1.index = range(len(test1))\n",
    "test2 = pd.DataFrame(matrix_t_test)\n",
    "# print test.index\n",
    "# print test2.index\n",
    "test3 = pd.concat([test1, test2], axis=1)\n",
    "test3.head()"
   ]
  },
  {
   "cell_type": "code",
   "execution_count": 66,
   "metadata": {},
   "outputs": [
    {
     "data": {
      "text/html": [
       "<div>\n",
       "<style>\n",
       "    .dataframe thead tr:only-child th {\n",
       "        text-align: right;\n",
       "    }\n",
       "\n",
       "    .dataframe thead th {\n",
       "        text-align: left;\n",
       "    }\n",
       "\n",
       "    .dataframe tbody tr th {\n",
       "        vertical-align: top;\n",
       "    }\n",
       "</style>\n",
       "<table border=\"1\" class=\"dataframe\">\n",
       "  <thead>\n",
       "    <tr style=\"text-align: right;\">\n",
       "      <th></th>\n",
       "      <th>positive</th>\n",
       "      <th>negative</th>\n",
       "      <th>0</th>\n",
       "      <th>1</th>\n",
       "      <th>2</th>\n",
       "      <th>3</th>\n",
       "      <th>4</th>\n",
       "      <th>5</th>\n",
       "      <th>6</th>\n",
       "      <th>7</th>\n",
       "      <th>...</th>\n",
       "      <th>290</th>\n",
       "      <th>291</th>\n",
       "      <th>292</th>\n",
       "      <th>293</th>\n",
       "      <th>294</th>\n",
       "      <th>295</th>\n",
       "      <th>296</th>\n",
       "      <th>297</th>\n",
       "      <th>298</th>\n",
       "      <th>299</th>\n",
       "    </tr>\n",
       "  </thead>\n",
       "  <tbody>\n",
       "    <tr>\n",
       "      <th>0</th>\n",
       "      <td>0.812174</td>\n",
       "      <td>-0.127029</td>\n",
       "      <td>0.723657</td>\n",
       "      <td>0.568924</td>\n",
       "      <td>-0.999027</td>\n",
       "      <td>-0.390068</td>\n",
       "      <td>0.084909</td>\n",
       "      <td>-0.160346</td>\n",
       "      <td>-1.227619</td>\n",
       "      <td>-1.062819</td>\n",
       "      <td>...</td>\n",
       "      <td>0.160882</td>\n",
       "      <td>-1.017362</td>\n",
       "      <td>-0.664971</td>\n",
       "      <td>-0.796539</td>\n",
       "      <td>0.639114</td>\n",
       "      <td>0.337882</td>\n",
       "      <td>0.638044</td>\n",
       "      <td>1.071508</td>\n",
       "      <td>-1.333346</td>\n",
       "      <td>1.437643</td>\n",
       "    </tr>\n",
       "    <tr>\n",
       "      <th>1</th>\n",
       "      <td>-0.435253</td>\n",
       "      <td>-0.735894</td>\n",
       "      <td>0.264604</td>\n",
       "      <td>1.332195</td>\n",
       "      <td>-1.633107</td>\n",
       "      <td>-0.814648</td>\n",
       "      <td>-0.026741</td>\n",
       "      <td>-0.924188</td>\n",
       "      <td>-0.568649</td>\n",
       "      <td>-0.844530</td>\n",
       "      <td>...</td>\n",
       "      <td>-0.770610</td>\n",
       "      <td>-0.818028</td>\n",
       "      <td>0.310268</td>\n",
       "      <td>-0.052185</td>\n",
       "      <td>-0.717635</td>\n",
       "      <td>0.152977</td>\n",
       "      <td>0.361052</td>\n",
       "      <td>-0.517353</td>\n",
       "      <td>-0.331554</td>\n",
       "      <td>-2.068337</td>\n",
       "    </tr>\n",
       "    <tr>\n",
       "      <th>2</th>\n",
       "      <td>-1.058967</td>\n",
       "      <td>0.481836</td>\n",
       "      <td>-0.976344</td>\n",
       "      <td>-0.937313</td>\n",
       "      <td>-0.949936</td>\n",
       "      <td>-0.549028</td>\n",
       "      <td>0.293406</td>\n",
       "      <td>-0.999953</td>\n",
       "      <td>-1.957940</td>\n",
       "      <td>-3.269201</td>\n",
       "      <td>...</td>\n",
       "      <td>-1.998000</td>\n",
       "      <td>0.366936</td>\n",
       "      <td>0.928976</td>\n",
       "      <td>-2.282448</td>\n",
       "      <td>-0.212922</td>\n",
       "      <td>1.527350</td>\n",
       "      <td>-1.120538</td>\n",
       "      <td>-3.291764</td>\n",
       "      <td>-0.691756</td>\n",
       "      <td>-0.494806</td>\n",
       "    </tr>\n",
       "    <tr>\n",
       "      <th>3</th>\n",
       "      <td>-0.435253</td>\n",
       "      <td>1.090700</td>\n",
       "      <td>0.205244</td>\n",
       "      <td>-0.688673</td>\n",
       "      <td>0.235088</td>\n",
       "      <td>-1.259175</td>\n",
       "      <td>-1.569867</td>\n",
       "      <td>0.226913</td>\n",
       "      <td>-0.150462</td>\n",
       "      <td>-0.451606</td>\n",
       "      <td>...</td>\n",
       "      <td>0.266300</td>\n",
       "      <td>0.603897</td>\n",
       "      <td>-1.183427</td>\n",
       "      <td>-0.588558</td>\n",
       "      <td>0.563381</td>\n",
       "      <td>-1.504558</td>\n",
       "      <td>0.362637</td>\n",
       "      <td>1.528719</td>\n",
       "      <td>0.665189</td>\n",
       "      <td>-1.665442</td>\n",
       "    </tr>\n",
       "    <tr>\n",
       "      <th>4</th>\n",
       "      <td>-1.058967</td>\n",
       "      <td>0.481836</td>\n",
       "      <td>0.360744</td>\n",
       "      <td>0.320234</td>\n",
       "      <td>-0.579157</td>\n",
       "      <td>0.734012</td>\n",
       "      <td>0.560947</td>\n",
       "      <td>0.386129</td>\n",
       "      <td>1.477219</td>\n",
       "      <td>0.668531</td>\n",
       "      <td>...</td>\n",
       "      <td>0.992065</td>\n",
       "      <td>0.221990</td>\n",
       "      <td>0.036356</td>\n",
       "      <td>0.123539</td>\n",
       "      <td>0.753250</td>\n",
       "      <td>1.571835</td>\n",
       "      <td>-0.031899</td>\n",
       "      <td>1.172617</td>\n",
       "      <td>-0.611517</td>\n",
       "      <td>-1.072760</td>\n",
       "    </tr>\n",
       "  </tbody>\n",
       "</table>\n",
       "<p>5 rows × 302 columns</p>\n",
       "</div>"
      ],
      "text/plain": [
       "   positive  negative         0         1         2         3         4  \\\n",
       "0  0.812174 -0.127029  0.723657  0.568924 -0.999027 -0.390068  0.084909   \n",
       "1 -0.435253 -0.735894  0.264604  1.332195 -1.633107 -0.814648 -0.026741   \n",
       "2 -1.058967  0.481836 -0.976344 -0.937313 -0.949936 -0.549028  0.293406   \n",
       "3 -0.435253  1.090700  0.205244 -0.688673  0.235088 -1.259175 -1.569867   \n",
       "4 -1.058967  0.481836  0.360744  0.320234 -0.579157  0.734012  0.560947   \n",
       "\n",
       "          5         6         7    ...          290       291       292  \\\n",
       "0 -0.160346 -1.227619 -1.062819    ...     0.160882 -1.017362 -0.664971   \n",
       "1 -0.924188 -0.568649 -0.844530    ...    -0.770610 -0.818028  0.310268   \n",
       "2 -0.999953 -1.957940 -3.269201    ...    -1.998000  0.366936  0.928976   \n",
       "3  0.226913 -0.150462 -0.451606    ...     0.266300  0.603897 -1.183427   \n",
       "4  0.386129  1.477219  0.668531    ...     0.992065  0.221990  0.036356   \n",
       "\n",
       "        293       294       295       296       297       298       299  \n",
       "0 -0.796539  0.639114  0.337882  0.638044  1.071508 -1.333346  1.437643  \n",
       "1 -0.052185 -0.717635  0.152977  0.361052 -0.517353 -0.331554 -2.068337  \n",
       "2 -2.282448 -0.212922  1.527350 -1.120538 -3.291764 -0.691756 -0.494806  \n",
       "3 -0.588558  0.563381 -1.504558  0.362637  1.528719  0.665189 -1.665442  \n",
       "4  0.123539  0.753250  1.571835 -0.031899  1.172617 -0.611517 -1.072760  \n",
       "\n",
       "[5 rows x 302 columns]"
      ]
     },
     "execution_count": 66,
     "metadata": {},
     "output_type": "execute_result"
    }
   ],
   "source": [
    "test3_scaled = pd.DataFrame(preprocessing.scale(test3),index=test3.index,columns=test3.columns)\n",
    "test3_scaled.head()"
   ]
  },
  {
   "cell_type": "code",
   "execution_count": 67,
   "metadata": {},
   "outputs": [
    {
     "name": "stdout",
     "output_type": "stream",
     "text": [
      "139\n"
     ]
    }
   ],
   "source": [
    "X_test = test3_scaled\n",
    "print(len(X_test))"
   ]
  },
  {
   "cell_type": "markdown",
   "metadata": {},
   "source": [
    "### Train, validate and test a classification algorithm"
   ]
  },
  {
   "cell_type": "code",
   "execution_count": 68,
   "metadata": {
    "collapsed": true
   },
   "outputs": [],
   "source": [
    "from sklearn.linear_model import LogisticRegression\n",
    "\n",
    "LR_clf = LogisticRegression()\n",
    "scoring = {'accuracy': make_scorer(accuracy_score),'prec': 'precision'}\n",
    "#cv_results = cross_validation(clf.fit(X_train, y_train), X_train, y_train, scoring=scoring)"
   ]
  },
  {
   "cell_type": "code",
   "execution_count": 69,
   "metadata": {},
   "outputs": [
    {
     "name": "stdout",
     "output_type": "stream",
     "text": [
      "[ 0.36756757  0.30978261  0.29508197]\n"
     ]
    }
   ],
   "source": [
    "print(cross_val_score(LR_clf, X_train, y_train))"
   ]
  },
  {
   "cell_type": "code",
   "execution_count": 70,
   "metadata": {},
   "outputs": [
    {
     "name": "stdout",
     "output_type": "stream",
     "text": [
      "Accuracy score: 0.402877697842\n",
      "F1 score: 0.403583398523\n",
      "Predicted  -1   0   1\n",
      "Actual               \n",
      "-1         16  10  17\n",
      " 0         11  20  15\n",
      " 1         17  13  20\n",
      "0.504752431477\n"
     ]
    }
   ],
   "source": [
    "from sklearn.metrics import classification_report, roc_curve, auc\n",
    "\n",
    "LR_clf.fit(X_train, y_train)\n",
    "y_predict = LR_clf.predict(X_test)\n",
    "fpr, tpr, _ = roc_curve(y_predict, y_test, pos_label=1)\n",
    "print('Accuracy score:', accuracy_score(y_test, y_predict))\n",
    "f_score = f1_score(y_test, y_predict, average='weighted')\n",
    "print('F1 score:', f_score)\n",
    "crossdf = pd.crosstab(y_test, y_predict, rownames=[\"Actual\"], colnames=[\"Predicted\"])\n",
    "print(crossdf)\n",
    "roc_auc = auc(fpr, tpr)\n",
    "print(roc_auc)"
   ]
  },
  {
   "cell_type": "code",
   "execution_count": 184,
   "metadata": {},
   "outputs": [
    {
     "data": {
      "image/png": "[encoded data removed]",
      "text/plain": [
       "<matplotlib.figure.Figure at 0x12611f9b0>"
      ]
     },
     "metadata": {},
     "output_type": "display_data"
    }
   ],
   "source": [
    "plt.figure()\n",
    "lw = 2\n",
    "\n",
    "plt.plot(fpr, tpr, label='ROC curve (area = %0.2f)' % roc_auc)\n",
    "\n",
    "plt.plot([0, 1], [0, 1], color='navy', lw=lw, linestyle='--')\n",
    "plt.xlim([0.0, 1.0])\n",
    "plt.ylim([0.0, 1.05])\n",
    "plt.xlabel('False Positive Rate')\n",
    "plt.ylabel('True Positive Rate')\n",
    "plt.title('Receiver operating characteristic example')\n",
    "plt.legend(loc=\"lower right\")\n",
    "plt.show()"
   ]
  },
  {
   "cell_type": "markdown",
   "metadata": {
    "collapsed": true
   },
   "source": [
    "### Random Froest\n",
    "#### Tunning Hyperparameters\n",
    "\n",
    "1. max_features = ['auto','log2','sqrt']\n",
    "2. min_samples_leaf = [1,5,10,50,100]\n",
    "3. n_estimators = [300, 500, 1000, 5000]"
   ]
  },
  {
   "cell_type": "code",
   "execution_count": 71,
   "metadata": {},
   "outputs": [
    {
     "name": "stdout",
     "output_type": "stream",
     "text": [
      "Accuracy score: 0.41726618705\n",
      "F1 score: 0.398723574308\n",
      "Predicted  -1   0   1\n",
      "Actual               \n",
      "-1          9   9  25\n",
      " 0          9  17  20\n",
      " 1          7  11  32\n",
      "Accuracy score: 0.395683453237\n",
      "F1 score: 0.377269394953\n",
      "Predicted  -1   0   1\n",
      "Actual               \n",
      "-1          8   9  26\n",
      " 0          4  17  25\n",
      " 1          8  12  30\n",
      "Accuracy score: 0.41726618705\n",
      "F1 score: 0.398723574308\n",
      "Predicted  -1   0   1\n",
      "Actual               \n",
      "-1          9   9  25\n",
      " 0          9  17  20\n",
      " 1          7  11  32\n",
      "{0: 0.532258064516129, 1: 0.49989357173265214, 2: 0.532258064516129}\n"
     ]
    }
   ],
   "source": [
    "fpr = dict()\n",
    "tpr = dict()\n",
    "roc_auc = dict()\n",
    "\n",
    "for i, split in enumerate(['auto','log2','sqrt']):\n",
    "    clf = RandomForestClassifier(n_estimators=500,max_features=split,random_state=2,n_jobs=-1)\n",
    "    clf.fit(X_train, y_train)\n",
    "    y_predict = clf.predict(X_test)\n",
    "    fpr[i], tpr[i], _ = roc_curve(y_predict, y_test, pos_label=1)\n",
    "    print('Accuracy score:', accuracy_score(y_test, y_predict))\n",
    "    f_score = f1_score(y_test, y_predict, average='weighted')\n",
    "    print('F1 score:', f_score)\n",
    "    crossdf = pd.crosstab(y_test, y_predict, rownames=[\"Actual\"], colnames=[\"Predicted\"])\n",
    "    print(crossdf)\n",
    "    roc_auc[i] = auc(fpr[i], tpr[i])\n",
    "    \n",
    "print(roc_auc)"
   ]
  },
  {
   "cell_type": "code",
   "execution_count": 72,
   "metadata": {},
   "outputs": [
    {
     "name": "stdout",
     "output_type": "stream",
     "text": [
      "Accuracy score: 0.395683453237\n",
      "F1 score: 0.377269394953\n",
      "Predicted  -1   0   1\n",
      "Actual               \n",
      "-1          8   9  26\n",
      " 0          4  17  25\n",
      " 1          8  12  30\n",
      "Accuracy score: 0.323741007194\n",
      "F1 score: 0.287530382853\n",
      "Predicted  -1   0   1\n",
      "Actual               \n",
      "-1          5  12  26\n",
      " 0          5   9  32\n",
      " 1          8  11  31\n",
      "Accuracy score: 0.41726618705\n",
      "F1 score: 0.371551514869\n",
      "Predicted  -1   0   1\n",
      "Actual               \n",
      "-1          4  12  27\n",
      " 0          2  18  26\n",
      " 1          4  10  36\n",
      "Accuracy score: 0.36690647482\n",
      "F1 score: 0.24426173347\n",
      "Predicted  0   1\n",
      "Actual          \n",
      "-1         5  38\n",
      " 0         5  41\n",
      " 1         4  46\n"
     ]
    },
    {
     "name": "stderr",
     "output_type": "stream",
     "text": [
      "/Users/yunkunxu/miniconda3/lib/python3.6/site-packages/sklearn/metrics/classification.py:1135: UndefinedMetricWarning: F-score is ill-defined and being set to 0.0 in labels with no predicted samples.\n",
      "  'precision', 'predicted', average, warn_for)\n"
     ]
    },
    {
     "name": "stdout",
     "output_type": "stream",
     "text": [
      "Accuracy score: 0.381294964029\n",
      "F1 score: 0.234151273576\n",
      "Predicted  0   1\n",
      "Actual          \n",
      "-1         1  42\n",
      " 0         3  43\n",
      " 1         0  50\n",
      "{0: 0.49989357173265214, 1: 0.50438202247191011, 2: 0.54831460674157295, 3: 0.54542857142857148, 4: 0.60833333333333339}\n"
     ]
    },
    {
     "name": "stderr",
     "output_type": "stream",
     "text": [
      "/Users/yunkunxu/miniconda3/lib/python3.6/site-packages/sklearn/metrics/classification.py:1135: UndefinedMetricWarning: F-score is ill-defined and being set to 0.0 in labels with no predicted samples.\n",
      "  'precision', 'predicted', average, warn_for)\n"
     ]
    }
   ],
   "source": [
    "fpr = dict()\n",
    "tpr = dict()\n",
    "roc_auc = dict()\n",
    "\n",
    "for i, leaf_size in enumerate([1,5,10,50,100]):\n",
    "    clf = RandomForestClassifier(n_estimators=500,max_features='log2',min_samples_leaf=leaf_size,random_state=2,n_jobs=-1)\n",
    "    clf.fit(X_train, y_train)\n",
    "    y_predict = clf.predict(X_test)\n",
    "    fpr[i], tpr[i], _ = roc_curve(y_predict, y_test, pos_label=1)\n",
    "    print('Accuracy score:', accuracy_score(y_test, y_predict))\n",
    "    f_score = f1_score(y_test, y_predict, average='weighted')\n",
    "    print('F1 score:', f_score)\n",
    "    crossdf = pd.crosstab(y_test, y_predict, rownames=[\"Actual\"], colnames=[\"Predicted\"])\n",
    "    print(crossdf)\n",
    "    roc_auc[i] = auc(fpr[i], tpr[i])\n",
    "    \n",
    "print(roc_auc)"
   ]
  },
  {
   "cell_type": "code",
   "execution_count": 73,
   "metadata": {},
   "outputs": [
    {
     "name": "stdout",
     "output_type": "stream",
     "text": [
      "Accuracy score: 0.323741007194\n",
      "F1 score: 0.315318756716\n",
      "Predicted  -1   0   1\n",
      "Actual               \n",
      "-1          7   9  27\n",
      " 0          7  16  23\n",
      " 1         14  14  22\n",
      "Accuracy score: 0.395683453237\n",
      "F1 score: 0.377269394953\n",
      "Predicted  -1   0   1\n",
      "Actual               \n",
      "-1          8   9  26\n",
      " 0          4  17  25\n",
      " 1          8  12  30\n",
      "Accuracy score: 0.330935251799\n",
      "F1 score: 0.307290376978\n",
      "Predicted  -1   0   1\n",
      "Actual               \n",
      "-1          4  10  29\n",
      " 0          4  16  26\n",
      " 1         11  13  26\n",
      "Accuracy score: 0.374100719424\n",
      "F1 score: 0.327780961813\n",
      "Predicted  -1   0   1\n",
      "Actual               \n",
      "-1          4  10  29\n",
      " 0          3  13  30\n",
      " 1          3  12  35\n",
      "{0: 0.41759950248756217, 1: 0.49989357173265214, 2: 0.43060876968922945, 3: 0.51430260047281329}\n"
     ]
    }
   ],
   "source": [
    "fpr = dict()\n",
    "tpr = dict()\n",
    "roc_auc = dict()\n",
    "\n",
    "for i, n_estimators in enumerate([300, 500, 1000, 5000]):\n",
    "    clf = RandomForestClassifier(n_estimators,max_features='log2',min_samples_leaf=1,random_state=2,n_jobs=-1)\n",
    "    clf.fit(X_train, y_train)\n",
    "    y_predict = clf.predict(X_test)\n",
    "    fpr[i], tpr[i], _ = roc_curve(y_predict, y_test, pos_label=1)\n",
    "    print('Accuracy score:', accuracy_score(y_test, y_predict))\n",
    "    f_score = f1_score(y_test, y_predict, average='weighted')\n",
    "    print('F1 score:', f_score)\n",
    "    crossdf = pd.crosstab(y_test, y_predict, rownames=[\"Actual\"], colnames=[\"Predicted\"])\n",
    "    print(crossdf)\n",
    "    roc_auc[i] = auc(fpr[i], tpr[i])\n",
    "    \n",
    "print(roc_auc)"
   ]
  },
  {
   "cell_type": "code",
   "execution_count": 51,
   "metadata": {},
   "outputs": [
    {
     "data": {
      "image/png": "[encoded data removed]",
      "text/plain": [
       "<matplotlib.figure.Figure at 0x238925518>"
      ]
     },
     "metadata": {},
     "output_type": "display_data"
    }
   ],
   "source": [
    "plt.figure()\n",
    "lw = 2\n",
    "for i, f in enumerate(fpr):\n",
    "    plt.plot(fpr[i], tpr[i], label='ROC curve (area = %0.2f)' % roc_auc[i])\n",
    "\n",
    "plt.plot([0, 1], [0, 1], color='navy', lw=lw, linestyle='--')\n",
    "plt.xlim([0.0, 1.0])\n",
    "plt.ylim([0.0, 1.05])\n",
    "plt.xlabel('False Positive Rate')\n",
    "plt.ylabel('True Positive Rate')\n",
    "plt.title('Receiver operating characteristic example')\n",
    "plt.legend(loc=\"lower right\")\n",
    "plt.show()"
   ]
  },
  {
   "cell_type": "markdown",
   "metadata": {
    "collapsed": true
   },
   "source": [
    "### Logistic Regression\n",
    "#### Tuning Parameters\n",
    "\n",
    "1. penalty = ['l1','l2']\n",
    "2. C = [0.00001,0.001,1.0,10.0,100.0]"
   ]
  },
  {
   "cell_type": "code",
   "execution_count": 52,
   "metadata": {},
   "outputs": [
    {
     "name": "stdout",
     "output_type": "stream",
     "text": [
      "Accuracy score: 0.47311827957\n",
      "F1 score: 0.472627300681\n",
      "Predicted  -1   1\n",
      "Actual           \n",
      "-1         18  25\n",
      " 1         24  26\n",
      "Accuracy score: 0.440860215054\n",
      "F1 score: 0.441508568237\n",
      "Predicted  -1   1\n",
      "Actual           \n",
      "-1         18  25\n",
      " 1         27  23\n",
      "{0: 0.46918767507002801, 1: 0.43958333333333333}\n"
     ]
    }
   ],
   "source": [
    "fpr = dict()\n",
    "tpr = dict()\n",
    "roc_auc = dict()\n",
    "\n",
    "for i, p in enumerate(['l1','l2']):\n",
    "    LR_clf = LogisticRegression(penalty=p,random_state=1)\n",
    "    LR_clf.fit(X_train, y_train)\n",
    "    y_predict = LR_clf.predict(X_test)\n",
    "    fpr[i], tpr[i], _ = roc_curve(y_predict, y_test, pos_label=1)\n",
    "    print('Accuracy score:', accuracy_score(y_test, y_predict))\n",
    "    f_score = f1_score(y_test, y_predict, average='weighted')\n",
    "    print('F1 score:', f_score)\n",
    "    crossdf = pd.crosstab(y_test, y_predict, rownames=[\"Actual\"], colnames=[\"Predicted\"])\n",
    "    print(crossdf)\n",
    "    roc_auc[i] = auc(fpr[i], tpr[i])\n",
    "    \n",
    "print(roc_auc)"
   ]
  },
  {
   "cell_type": "code",
   "execution_count": 53,
   "metadata": {},
   "outputs": [
    {
     "name": "stdout",
     "output_type": "stream",
     "text": [
      "Accuracy score: 0.462365591398\n",
      "F1 score: 0.292378241619\n",
      "Predicted  -1\n",
      "Actual       \n",
      "-1         43\n",
      " 1         50\n",
      "Accuracy score: 0.462365591398\n",
      "F1 score: 0.292378241619\n",
      "Predicted  -1\n",
      "Actual       \n",
      "-1         43\n",
      " 1         50\n",
      "Accuracy score: 0.47311827957\n",
      "F1 score: 0.472627300681\n",
      "Predicted  -1   1\n",
      "Actual           \n",
      "-1         18  25\n",
      " 1         24  26\n",
      "Accuracy score: 0.47311827957\n",
      "F1 score: 0.472627300681\n",
      "Predicted  -1   1\n",
      "Actual           \n",
      "-1         18  25\n",
      " 1         24  26\n",
      "Accuracy score: 0.462365591398\n",
      "F1 score: 0.461236107346\n",
      "Predicted  -1   1\n",
      "Actual           \n",
      "-1         17  26\n",
      " 1         24  26\n",
      "{0: nan, 1: nan, 2: 0.46918767507002801, 3: 0.46918767507002801, 4: 0.45731707317073178}\n"
     ]
    },
    {
     "name": "stderr",
     "output_type": "stream",
     "text": [
      "/Users/yunkunxu/miniconda3/lib/python3.6/site-packages/sklearn/metrics/ranking.py:547: UndefinedMetricWarning: No positive samples in y_true, true positive value should be meaningless\n",
      "  UndefinedMetricWarning)\n",
      "/Users/yunkunxu/miniconda3/lib/python3.6/site-packages/sklearn/metrics/classification.py:1135: UndefinedMetricWarning: F-score is ill-defined and being set to 0.0 in labels with no predicted samples.\n",
      "  'precision', 'predicted', average, warn_for)\n"
     ]
    }
   ],
   "source": [
    "fpr = dict()\n",
    "tpr = dict()\n",
    "roc_auc = dict()\n",
    "\n",
    "for i, C in enumerate([0.00001, 0.001, 1.0, 10.0, 100.0]):\n",
    "    LR_clf = LogisticRegression(penalty='l1',C=C)\n",
    "    LR_clf.fit(X_train, y_train)\n",
    "    y_predict = LR_clf.predict(X_test)\n",
    "    fpr[i], tpr[i], _ = roc_curve(y_predict, y_test, pos_label=1)\n",
    "    print('Accuracy score:', accuracy_score(y_test, y_predict))\n",
    "    f_score = f1_score(y_test, y_predict, average='weighted')\n",
    "    print('F1 score:', f_score)\n",
    "    crossdf = pd.crosstab(y_test, y_predict, rownames=[\"Actual\"], colnames=[\"Predicted\"])\n",
    "    print(crossdf)\n",
    "    roc_auc[i] = auc(fpr[i], tpr[i])\n",
    "    \n",
    "print(roc_auc)"
   ]
  },
  {
   "cell_type": "code",
   "execution_count": null,
   "metadata": {
    "collapsed": true
   },
   "outputs": [],
   "source": []
  }
 ],
 "metadata": {
  "kernelspec": {
   "display_name": "Python 3",
   "language": "python",
   "name": "python3"
  },
  "language_info": {
   "codemirror_mode": {
    "name": "ipython",
    "version": 3
   },
   "file_extension": ".py",
   "mimetype": "text/x-python",
   "name": "python",
   "nbconvert_exporter": "python",
   "pygments_lexer": "ipython3",
   "version": "3.6.0"
  }
 },
 "nbformat": 4,
 "nbformat_minor": 2
}
